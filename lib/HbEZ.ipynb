{
 "cells": [
  {
   "cell_type": "markdown",
   "metadata": {},
   "source": [
    "# Import HbEZ library"
   ]
  },
  {
   "cell_type": "code",
   "execution_count": 1,
   "metadata": {},
   "outputs": [],
   "source": [
    "from jnpr.healthbot import HealthBotClient\n",
    "from pprint import pprint"
   ]
  },
  {
   "cell_type": "code",
   "execution_count": 2,
   "metadata": {},
   "outputs": [],
   "source": [
    "hb = HealthBotClient('10.209.7.33', 'regress', 'MaRtInI')"
   ]
  },
  {
   "cell_type": "markdown",
   "metadata": {},
   "source": [
    "# Use Case: Device"
   ]
  },
  {
   "cell_type": "code",
   "execution_count": 3,
   "metadata": {},
   "outputs": [
    {
     "name": "stdout",
     "output_type": "stream",
     "text": [
      "['EVO', 'vmx', 'vmx_db', 'core_db', 'node1']\n"
     ]
    }
   ],
   "source": [
    "pprint(hb.device.get_ids())"
   ]
  },
  {
   "cell_type": "markdown",
   "metadata": {},
   "source": [
    "### Getting help for any given function"
   ]
  },
  {
   "cell_type": "code",
   "execution_count": 4,
   "metadata": {},
   "outputs": [
    {
     "name": "stdout",
     "output_type": "stream",
     "text": [
      "Help on method get_ids in module jnpr.healthbot.modules.devices:\n",
      "\n",
      "get_ids() method of jnpr.healthbot.modules.devices.Device instance\n",
      "    Return Device IDs for all the devices in HealthBot system\n",
      "    \n",
      "    :return: list of device IDs\n",
      "    \n",
      "    Example:\n",
      "    ::\n",
      "    \n",
      "        from jnpr.healthbot import HealthBotClient\n",
      "        hb = HealthBotClient('xx.xxx.x.xx', 'xxxx', 'xxxx')\n",
      "        print(hb.device.get_ids())\n",
      "\n"
     ]
    }
   ],
   "source": [
    "help(hb.device.get_ids)"
   ]
  },
  {
   "cell_type": "markdown",
   "metadata": {},
   "source": [
    "### Get config related to given device-id"
   ]
  },
  {
   "cell_type": "code",
   "execution_count": 9,
   "metadata": {},
   "outputs": [],
   "source": [
    "# Get config related to given device-id\n",
    "obj = hb.device.get('vmx')"
   ]
  },
  {
   "cell_type": "code",
   "execution_count": 10,
   "metadata": {},
   "outputs": [
    {
     "data": {
      "text/plain": [
       "'10.221.136.140'"
      ]
     },
     "execution_count": 10,
     "metadata": {},
     "output_type": "execute_result"
    }
   ],
   "source": [
    "obj.host"
   ]
  },
  {
   "cell_type": "code",
   "execution_count": 11,
   "metadata": {},
   "outputs": [
    {
     "name": "stdout",
     "output_type": "stream",
     "text": [
      "{'authentication': {'password': {'password': '$9$tXQNu1EcSeML7yl7dwgUD5Tz',\n",
      "                                 'username': 'regress'}},\n",
      " 'description': None,\n",
      " 'device_id': 'vmx',\n",
      " 'host': '10.221.136.140',\n",
      " 'i_agent': {'port': 830},\n",
      " 'open_config': {'port': 32767},\n",
      " 'snmp': None,\n",
      " 'system_id': 'changed description',\n",
      " 'variable': [],\n",
      " 'vendor': {'juniper': {'operating-system': 'junos'}}}\n"
     ]
    }
   ],
   "source": [
    "pprint(obj)"
   ]
  },
  {
   "cell_type": "markdown",
   "metadata": {},
   "source": [
    "### get facts for the given device id"
   ]
  },
  {
   "cell_type": "code",
   "execution_count": 12,
   "metadata": {},
   "outputs": [
    {
     "name": "stdout",
     "output_type": "stream",
     "text": [
      "{'device-id': 'vmx',\n",
      " 'facts': {'fpc': [],\n",
      "           'hostname': 'R1_re0',\n",
      "           'junos-info': [{'last-reboot-reason': 'Router rebooted after a '\n",
      "                                                 'normal shutdown.',\n",
      "                           'mastership-state': 'master',\n",
      "                           'model': 'RE-VMX',\n",
      "                           'name': 're0',\n",
      "                           'status': 'OK',\n",
      "                           'up-time': '80 days, 1 hour, 20 minutes, 9 seconds',\n",
      "                           'version-info': {'build': '0',\n",
      "                                            'major': [19, 3],\n",
      "                                            'minor': ['20190421_dev_common'],\n",
      "                                            'type': 'I'}}],\n",
      "           'platform': 'MX960',\n",
      "           'platform-info': [{'name': 're0', 'platform': 'MX960'}],\n",
      "           'product': 'MX',\n",
      "           'release': '19.3-20190421_dev_common.0.84473',\n",
      "           'serial-number': 'VMX4eaf'}}\n"
     ]
    }
   ],
   "source": [
    "# Get device facts of a given device id\n",
    "pprint(hb.device.get_facts('vmx'))"
   ]
  },
  {
   "cell_type": "markdown",
   "metadata": {},
   "source": [
    "### Add a new device"
   ]
  },
  {
   "cell_type": "code",
   "execution_count": 33,
   "metadata": {},
   "outputs": [
    {
     "name": "stdout",
     "output_type": "stream",
     "text": [
      "True\n"
     ]
    }
   ],
   "source": [
    "from jnpr.healthbot import DeviceSchema\n",
    "\n",
    "ds = DeviceSchema(device_id='demo', host='10.221.136.140',\n",
    "                  authentication={\"password\": {\"password\": \"MaRtInI\", \"username\": \"regress\"}})\n",
    "print(hb.device.add(schema=ds))"
   ]
  },
  {
   "cell_type": "code",
   "execution_count": 14,
   "metadata": {},
   "outputs": [
    {
     "name": "stdout",
     "output_type": "stream",
     "text": [
      "Help on class DeviceSchema in module jnpr.healthbot.swagger.models.device_schema:\n",
      "\n",
      "class DeviceSchema(builtins.object)\n",
      " |  NOTE: This class is auto generated by the swagger code generator program.\n",
      " |  \n",
      " |  Do not edit the class manually.\n",
      " |  \n",
      " |  Methods defined here:\n",
      " |  \n",
      " |  __eq__(self, other)\n",
      " |      Returns true if both objects are equal\n",
      " |  \n",
      " |  __init__(self, authentication=None, description=None, device_id=None, host=None, i_agent=None, open_config=None, snmp=None, system_id=None, variable=None, vendor=None)\n",
      " |      DeviceSchema - a model defined in Swagger\n",
      " |  \n",
      " |  __ne__(self, other)\n",
      " |      Returns true if both objects are not equal\n",
      " |  \n",
      " |  __repr__(self)\n",
      " |      For `print` and `pprint`\n",
      " |  \n",
      " |  to_dict(self)\n",
      " |      Returns the model properties as a dict\n",
      " |  \n",
      " |  to_str(self)\n",
      " |      Returns the string representation of the model\n",
      " |  \n",
      " |  ----------------------------------------------------------------------\n",
      " |  Data descriptors defined here:\n",
      " |  \n",
      " |  __dict__\n",
      " |      dictionary for instance variables (if defined)\n",
      " |  \n",
      " |  __weakref__\n",
      " |      list of weak references to the object (if defined)\n",
      " |  \n",
      " |  authentication\n",
      " |      Gets the authentication of this DeviceSchema.  # noqa: E501\n",
      " |      \n",
      " |      \n",
      " |      :return: The authentication of this DeviceSchema.  # noqa: E501\n",
      " |      :rtype: DevicegroupSchemaAuthentication\n",
      " |  \n",
      " |  description\n",
      " |      Gets the description of this DeviceSchema.  # noqa: E501\n",
      " |      \n",
      " |      Description about the device  # noqa: E501\n",
      " |      \n",
      " |      :return: The description of this DeviceSchema.  # noqa: E501\n",
      " |      :rtype: str\n",
      " |  \n",
      " |  device_id\n",
      " |      Gets the device_id of this DeviceSchema.  # noqa: E501\n",
      " |      \n",
      " |      Identifier for the device. Should be of pattern [a-zA-Z][a-zA-Z0-9_-]*  # noqa: E501\n",
      " |      \n",
      " |      :return: The device_id of this DeviceSchema.  # noqa: E501\n",
      " |      :rtype: str\n",
      " |  \n",
      " |  host\n",
      " |      Gets the host of this DeviceSchema.  # noqa: E501\n",
      " |      \n",
      " |      Name or IP the device  # noqa: E501\n",
      " |      \n",
      " |      :return: The host of this DeviceSchema.  # noqa: E501\n",
      " |      :rtype: str\n",
      " |  \n",
      " |  i_agent\n",
      " |      Gets the i_agent of this DeviceSchema.  # noqa: E501\n",
      " |      \n",
      " |      \n",
      " |      :return: The i_agent of this DeviceSchema.  # noqa: E501\n",
      " |      :rtype: DeviceSchemaIAgent\n",
      " |  \n",
      " |  open_config\n",
      " |      Gets the open_config of this DeviceSchema.  # noqa: E501\n",
      " |      \n",
      " |      \n",
      " |      :return: The open_config of this DeviceSchema.  # noqa: E501\n",
      " |      :rtype: DeviceSchemaOpenconfig\n",
      " |  \n",
      " |  snmp\n",
      " |      Gets the snmp of this DeviceSchema.  # noqa: E501\n",
      " |      \n",
      " |      \n",
      " |      :return: The snmp of this DeviceSchema.  # noqa: E501\n",
      " |      :rtype: DeviceSchemaSnmp\n",
      " |  \n",
      " |  system_id\n",
      " |      Gets the system_id of this DeviceSchema.  # noqa: E501\n",
      " |      \n",
      " |      ID which is sent in the JTI UDP messages  # noqa: E501\n",
      " |      \n",
      " |      :return: The system_id of this DeviceSchema.  # noqa: E501\n",
      " |      :rtype: str\n",
      " |  \n",
      " |  variable\n",
      " |      Gets the variable of this DeviceSchema.  # noqa: E501\n",
      " |      \n",
      " |      Playbook variable configuration  # noqa: E501\n",
      " |      \n",
      " |      :return: The variable of this DeviceSchema.  # noqa: E501\n",
      " |      :rtype: list[DeviceSchemaVariable]\n",
      " |  \n",
      " |  vendor\n",
      " |      Gets the vendor of this DeviceSchema.  # noqa: E501\n",
      " |      \n",
      " |      \n",
      " |      :return: The vendor of this DeviceSchema.  # noqa: E501\n",
      " |      :rtype: DeviceSchemaVendor\n",
      " |  \n",
      " |  ----------------------------------------------------------------------\n",
      " |  Data and other attributes defined here:\n",
      " |  \n",
      " |  __hash__ = None\n",
      " |  \n",
      " |  attribute_map = {'authentication': 'authentication', 'description': 'd...\n",
      " |  \n",
      " |  swagger_types = {'authentication': 'DevicegroupSchemaAuthentication', ...\n",
      "\n"
     ]
    }
   ],
   "source": [
    "help(DeviceSchema)"
   ]
  },
  {
   "cell_type": "code",
   "execution_count": 15,
   "metadata": {},
   "outputs": [
    {
     "name": "stdout",
     "output_type": "stream",
     "text": [
      "{'authentication': {'password': {'password': '$9$LzTxdwY2aGjkgokm5FAthcy',\n",
      "                                 'username': 'regress'}},\n",
      " 'description': None,\n",
      " 'device_id': 'demo',\n",
      " 'host': '10.221.136.140',\n",
      " 'i_agent': None,\n",
      " 'open_config': None,\n",
      " 'snmp': None,\n",
      " 'system_id': None,\n",
      " 'variable': None,\n",
      " 'vendor': None}\n"
     ]
    }
   ],
   "source": [
    "dev = hb.device.get('demo')\n",
    "pprint(dev)"
   ]
  },
  {
   "cell_type": "markdown",
   "metadata": {},
   "source": [
    "### By default, get() returns uncommited data (from candidate DB)"
   ]
  },
  {
   "cell_type": "code",
   "execution_count": 18,
   "metadata": {},
   "outputs": [
    {
     "name": "stderr",
     "output_type": "stream",
     "text": [
      "{\n",
      "  \"detail\": \"Device id demo not found\",\n",
      "  \"status\": 404\n",
      "}\n",
      "\n"
     ]
    },
    {
     "ename": "HTTPError",
     "evalue": "404 Client Error: NOT FOUND for url: https://10.209.7.33:8080/api/v1/device/demo",
     "output_type": "error",
     "traceback": [
      "\u001b[0;31m---------------------------------------------------------------------------\u001b[0m",
      "\u001b[0;31mHTTPError\u001b[0m                                 Traceback (most recent call last)",
      "\u001b[0;32m<ipython-input-18-13c8b67cdb5c>\u001b[0m in \u001b[0;36m<module>\u001b[0;34m\u001b[0m\n\u001b[0;32m----> 1\u001b[0;31m \u001b[0mpprint\u001b[0m\u001b[0;34m(\u001b[0m\u001b[0mhb\u001b[0m\u001b[0;34m.\u001b[0m\u001b[0mdevice\u001b[0m\u001b[0;34m.\u001b[0m\u001b[0mget\u001b[0m\u001b[0;34m(\u001b[0m\u001b[0;34m'demo'\u001b[0m\u001b[0;34m,\u001b[0m \u001b[0muncommitted\u001b[0m\u001b[0;34m=\u001b[0m\u001b[0;32mFalse\u001b[0m\u001b[0;34m)\u001b[0m\u001b[0;34m)\u001b[0m\u001b[0;34m\u001b[0m\u001b[0;34m\u001b[0m\u001b[0m\n\u001b[0m",
      "\u001b[0;32m~/Coding/git.juniper.net.iceberg/healthbot-py-client/lib/jnpr/healthbot/modules/devices.py\u001b[0m in \u001b[0;36mget\u001b[0;34m(self, device_id, uncommitted)\u001b[0m\n\u001b[1;32m    215\u001b[0m             \u001b[0;32mif\u001b[0m \u001b[0mresponse\u001b[0m\u001b[0;34m.\u001b[0m\u001b[0mstatus_code\u001b[0m \u001b[0;34m!=\u001b[0m \u001b[0;36m200\u001b[0m\u001b[0;34m:\u001b[0m\u001b[0;34m\u001b[0m\u001b[0;34m\u001b[0m\u001b[0m\n\u001b[1;32m    216\u001b[0m                 \u001b[0mlogger\u001b[0m\u001b[0;34m.\u001b[0m\u001b[0merror\u001b[0m\u001b[0;34m(\u001b[0m\u001b[0mresponse\u001b[0m\u001b[0;34m.\u001b[0m\u001b[0mtext\u001b[0m\u001b[0;34m)\u001b[0m\u001b[0;34m\u001b[0m\u001b[0;34m\u001b[0m\u001b[0m\n\u001b[0;32m--> 217\u001b[0;31m             \u001b[0mresponse\u001b[0m\u001b[0;34m.\u001b[0m\u001b[0mraise_for_status\u001b[0m\u001b[0;34m(\u001b[0m\u001b[0;34m)\u001b[0m\u001b[0;34m\u001b[0m\u001b[0;34m\u001b[0m\u001b[0m\n\u001b[0m\u001b[1;32m    218\u001b[0m             \u001b[0;32mreturn\u001b[0m \u001b[0mself\u001b[0m\u001b[0;34m.\u001b[0m\u001b[0mhbot\u001b[0m\u001b[0;34m.\u001b[0m\u001b[0m_create_schema\u001b[0m\u001b[0;34m(\u001b[0m\u001b[0mresponse\u001b[0m\u001b[0;34m,\u001b[0m \u001b[0mDeviceSchema\u001b[0m\u001b[0;34m)\u001b[0m\u001b[0;34m\u001b[0m\u001b[0;34m\u001b[0m\u001b[0m\n\u001b[1;32m    219\u001b[0m         \u001b[0;32melse\u001b[0m\u001b[0;34m:\u001b[0m\u001b[0;34m\u001b[0m\u001b[0;34m\u001b[0m\u001b[0m\n",
      "\u001b[0;32m/Library/Frameworks/Python.framework/Versions/3.6/lib/python3.6/site-packages/requests/models.py\u001b[0m in \u001b[0;36mraise_for_status\u001b[0;34m(self)\u001b[0m\n\u001b[1;32m    933\u001b[0m \u001b[0;34m\u001b[0m\u001b[0m\n\u001b[1;32m    934\u001b[0m         \u001b[0;32mif\u001b[0m \u001b[0mhttp_error_msg\u001b[0m\u001b[0;34m:\u001b[0m\u001b[0;34m\u001b[0m\u001b[0;34m\u001b[0m\u001b[0m\n\u001b[0;32m--> 935\u001b[0;31m             \u001b[0;32mraise\u001b[0m \u001b[0mHTTPError\u001b[0m\u001b[0;34m(\u001b[0m\u001b[0mhttp_error_msg\u001b[0m\u001b[0;34m,\u001b[0m \u001b[0mresponse\u001b[0m\u001b[0;34m=\u001b[0m\u001b[0mself\u001b[0m\u001b[0;34m)\u001b[0m\u001b[0;34m\u001b[0m\u001b[0;34m\u001b[0m\u001b[0m\n\u001b[0m\u001b[1;32m    936\u001b[0m \u001b[0;34m\u001b[0m\u001b[0m\n\u001b[1;32m    937\u001b[0m     \u001b[0;32mdef\u001b[0m \u001b[0mclose\u001b[0m\u001b[0;34m(\u001b[0m\u001b[0mself\u001b[0m\u001b[0;34m)\u001b[0m\u001b[0;34m:\u001b[0m\u001b[0;34m\u001b[0m\u001b[0;34m\u001b[0m\u001b[0m\n",
      "\u001b[0;31mHTTPError\u001b[0m: 404 Client Error: NOT FOUND for url: https://10.209.7.33:8080/api/v1/device/demo"
     ]
    }
   ],
   "source": [
    "pprint(hb.device.get('demo', uncommitted=False))"
   ]
  },
  {
   "cell_type": "markdown",
   "metadata": {},
   "source": [
    "### Why we choose to go with Schema. We can easily access and edit any attribute. "
   ]
  },
  {
   "cell_type": "code",
   "execution_count": 19,
   "metadata": {},
   "outputs": [
    {
     "name": "stdout",
     "output_type": "stream",
     "text": [
      "None\n"
     ]
    }
   ],
   "source": [
    "# Existing system_id\n",
    "print (dev.system_id)"
   ]
  },
  {
   "cell_type": "code",
   "execution_count": 20,
   "metadata": {},
   "outputs": [],
   "source": [
    "# Editing system_id\n",
    "dev.system_id = \"Demo:HbEZ\""
   ]
  },
  {
   "cell_type": "code",
   "execution_count": 21,
   "metadata": {},
   "outputs": [
    {
     "name": "stdout",
     "output_type": "stream",
     "text": [
      "True\n"
     ]
    }
   ],
   "source": [
    "print(hb.device.update(dev))"
   ]
  },
  {
   "cell_type": "markdown",
   "metadata": {},
   "source": [
    "### HealthBot API provide commit and rollback config"
   ]
  },
  {
   "cell_type": "code",
   "execution_count": 34,
   "metadata": {},
   "outputs": [
    {
     "data": {
      "text/plain": [
       "True"
      ]
     },
     "execution_count": 34,
     "metadata": {},
     "output_type": "execute_result"
    }
   ],
   "source": [
    "hb.commit()"
   ]
  },
  {
   "cell_type": "code",
   "execution_count": 23,
   "metadata": {},
   "outputs": [
    {
     "name": "stdout",
     "output_type": "stream",
     "text": [
      "{'authentication': {'password': {'password': '$9$LzTxdwY2aGjkgokm5FAthcy',\n",
      "                                 'username': 'regress'}},\n",
      " 'description': None,\n",
      " 'device_id': 'demo',\n",
      " 'host': '10.221.136.140',\n",
      " 'i_agent': None,\n",
      " 'open_config': None,\n",
      " 'snmp': None,\n",
      " 'system_id': 'Demo:HbEZ',\n",
      " 'variable': None,\n",
      " 'vendor': None}\n"
     ]
    }
   ],
   "source": [
    "dev = hb.device.get('demo')\n",
    "pprint(dev)"
   ]
  },
  {
   "cell_type": "code",
   "execution_count": 24,
   "metadata": {},
   "outputs": [
    {
     "name": "stdout",
     "output_type": "stream",
     "text": [
      "Demo:HbEZ\n"
     ]
    }
   ],
   "source": [
    "print(dev.system_id)"
   ]
  },
  {
   "cell_type": "code",
   "execution_count": 25,
   "metadata": {},
   "outputs": [
    {
     "name": "stderr",
     "output_type": "stream",
     "text": [
      "{\n",
      "  \"detail\": \"Device demo was not found\",\n",
      "  \"status\": 404\n",
      "}\n",
      "\n"
     ]
    },
    {
     "ename": "HTTPError",
     "evalue": "404 Client Error: NOT FOUND for url: https://10.209.7.33:8080/api/v1/device/demo",
     "output_type": "error",
     "traceback": [
      "\u001b[0;31m---------------------------------------------------------------------------\u001b[0m",
      "\u001b[0;31mHTTPError\u001b[0m                                 Traceback (most recent call last)",
      "\u001b[0;32m<ipython-input-25-2601c6f41a49>\u001b[0m in \u001b[0;36m<module>\u001b[0;34m\u001b[0m\n\u001b[1;32m      3\u001b[0m \u001b[0;34m\u001b[0m\u001b[0m\n\u001b[1;32m      4\u001b[0m \u001b[0;31m# if a device is part of device group, to make sure we delete it first from device group\u001b[0m\u001b[0;34m\u001b[0m\u001b[0;34m\u001b[0m\u001b[0;34m\u001b[0m\u001b[0m\n\u001b[0;32m----> 5\u001b[0;31m \u001b[0mhb\u001b[0m\u001b[0;34m.\u001b[0m\u001b[0mdevice\u001b[0m\u001b[0;34m.\u001b[0m\u001b[0mdelete\u001b[0m\u001b[0;34m(\u001b[0m\u001b[0;34m'demo'\u001b[0m\u001b[0;34m,\u001b[0m \u001b[0mforce\u001b[0m\u001b[0;34m=\u001b[0m\u001b[0;32mTrue\u001b[0m\u001b[0;34m)\u001b[0m\u001b[0;34m\u001b[0m\u001b[0;34m\u001b[0m\u001b[0m\n\u001b[0m",
      "\u001b[0;32m~/Coding/git.juniper.net.iceberg/healthbot-py-client/lib/jnpr/healthbot/modules/devices.py\u001b[0m in \u001b[0;36mdelete\u001b[0;34m(self, device_id, force)\u001b[0m\n\u001b[1;32m    159\u001b[0m         \u001b[0;32mif\u001b[0m \u001b[0mresponse\u001b[0m\u001b[0;34m.\u001b[0m\u001b[0mstatus_code\u001b[0m \u001b[0;34m!=\u001b[0m \u001b[0;36m204\u001b[0m\u001b[0;34m:\u001b[0m\u001b[0;34m\u001b[0m\u001b[0;34m\u001b[0m\u001b[0m\n\u001b[1;32m    160\u001b[0m             \u001b[0mlogger\u001b[0m\u001b[0;34m.\u001b[0m\u001b[0merror\u001b[0m\u001b[0;34m(\u001b[0m\u001b[0mresponse\u001b[0m\u001b[0;34m.\u001b[0m\u001b[0mtext\u001b[0m\u001b[0;34m)\u001b[0m\u001b[0;34m\u001b[0m\u001b[0;34m\u001b[0m\u001b[0m\n\u001b[0;32m--> 161\u001b[0;31m         \u001b[0mresponse\u001b[0m\u001b[0;34m.\u001b[0m\u001b[0mraise_for_status\u001b[0m\u001b[0;34m(\u001b[0m\u001b[0;34m)\u001b[0m\u001b[0;34m\u001b[0m\u001b[0;34m\u001b[0m\u001b[0m\n\u001b[0m\u001b[1;32m    162\u001b[0m \u001b[0;34m\u001b[0m\u001b[0m\n\u001b[1;32m    163\u001b[0m         \u001b[0;32mreturn\u001b[0m \u001b[0;32mTrue\u001b[0m\u001b[0;34m\u001b[0m\u001b[0;34m\u001b[0m\u001b[0m\n",
      "\u001b[0;32m/Library/Frameworks/Python.framework/Versions/3.6/lib/python3.6/site-packages/requests/models.py\u001b[0m in \u001b[0;36mraise_for_status\u001b[0;34m(self)\u001b[0m\n\u001b[1;32m    933\u001b[0m \u001b[0;34m\u001b[0m\u001b[0m\n\u001b[1;32m    934\u001b[0m         \u001b[0;32mif\u001b[0m \u001b[0mhttp_error_msg\u001b[0m\u001b[0;34m:\u001b[0m\u001b[0;34m\u001b[0m\u001b[0;34m\u001b[0m\u001b[0m\n\u001b[0;32m--> 935\u001b[0;31m             \u001b[0;32mraise\u001b[0m \u001b[0mHTTPError\u001b[0m\u001b[0;34m(\u001b[0m\u001b[0mhttp_error_msg\u001b[0m\u001b[0;34m,\u001b[0m \u001b[0mresponse\u001b[0m\u001b[0;34m=\u001b[0m\u001b[0mself\u001b[0m\u001b[0;34m)\u001b[0m\u001b[0;34m\u001b[0m\u001b[0;34m\u001b[0m\u001b[0m\n\u001b[0m\u001b[1;32m    936\u001b[0m \u001b[0;34m\u001b[0m\u001b[0m\n\u001b[1;32m    937\u001b[0m     \u001b[0;32mdef\u001b[0m \u001b[0mclose\u001b[0m\u001b[0;34m(\u001b[0m\u001b[0mself\u001b[0m\u001b[0;34m)\u001b[0m\u001b[0;34m:\u001b[0m\u001b[0;34m\u001b[0m\u001b[0;34m\u001b[0m\u001b[0m\n",
      "\u001b[0;31mHTTPError\u001b[0m: 404 Client Error: NOT FOUND for url: https://10.209.7.33:8080/api/v1/device/demo"
     ]
    }
   ],
   "source": [
    "# To delete a device\n",
    "hb.device.delete('demo')\n",
    "\n",
    "# if a device is part of device group, to make sure we delete it first from device group\n",
    "hb.device.delete('demo', force=True)"
   ]
  },
  {
   "cell_type": "markdown",
   "metadata": {},
   "source": [
    "# Use Case: Devices"
   ]
  },
  {
   "cell_type": "markdown",
   "metadata": {},
   "source": [
    "### Get details of all devices in System"
   ]
  },
  {
   "cell_type": "code",
   "execution_count": 26,
   "metadata": {},
   "outputs": [],
   "source": [
    "# Get config details of all the device\n",
    "obj = hb.device.get()"
   ]
  },
  {
   "cell_type": "code",
   "execution_count": 27,
   "metadata": {},
   "outputs": [
    {
     "data": {
      "text/plain": [
       "[{'authentication': {'password': {'password': '$9$48aUikqfQ3/.P/Au1yrx7-',\n",
       "                                  'username': 'regress'}},\n",
       "  'description': None,\n",
       "  'device_id': 'EVO',\n",
       "  'host': '10.216.131.209',\n",
       "  'i_agent': {'port': 830},\n",
       "  'open_config': {'port': 32767},\n",
       "  'snmp': None,\n",
       "  'system_id': None,\n",
       "  'variable': [],\n",
       "  'vendor': {'juniper': {'operating-system': 'junos'}}},\n",
       " {'authentication': {'password': {'password': '$9$tXQNu1EcSeML7yl7dwgUD5Tz',\n",
       "                                  'username': 'regress'}},\n",
       "  'description': None,\n",
       "  'device_id': 'vmx',\n",
       "  'host': '10.221.136.140',\n",
       "  'i_agent': {'port': 830},\n",
       "  'open_config': {'port': 32767},\n",
       "  'snmp': None,\n",
       "  'system_id': 'changed description',\n",
       "  'variable': [],\n",
       "  'vendor': {'juniper': {'operating-system': 'junos'}}},\n",
       " {'authentication': {'password': {'password': '$9$w3YoZUDkm5zjHzn9pREMWL',\n",
       "                                  'username': 'regress'}},\n",
       "  'description': None,\n",
       "  'device_id': 'vmx_db',\n",
       "  'host': '10.221.132.104',\n",
       "  'i_agent': {'port': 830},\n",
       "  'open_config': {'port': 32767},\n",
       "  'snmp': None,\n",
       "  'system_id': None,\n",
       "  'variable': [],\n",
       "  'vendor': {'juniper': {'operating-system': 'junos'}}},\n",
       " {'authentication': {'password': {'password': '$9$jDHm5Qz6CpOFnOIhr8LsYg',\n",
       "                                  'username': 'regress'}},\n",
       "  'description': None,\n",
       "  'device_id': 'core_db',\n",
       "  'host': '10.209.1.205',\n",
       "  'i_agent': {'port': 830},\n",
       "  'open_config': {'port': 32767},\n",
       "  'snmp': None,\n",
       "  'system_id': None,\n",
       "  'variable': [],\n",
       "  'vendor': {'juniper': {'operating-system': 'junos'}}},\n",
       " {'authentication': {'password': {'password': '$9$Bd41clKvLNVYWLZUiHmP1RE',\n",
       "                                  'username': 'root'}},\n",
       "  'description': None,\n",
       "  'device_id': 'node1',\n",
       "  'host': 'node1',\n",
       "  'i_agent': None,\n",
       "  'open_config': {'port': 32767},\n",
       "  'snmp': None,\n",
       "  'system_id': None,\n",
       "  'variable': None,\n",
       "  'vendor': {'juniper': {'operating-system': 'junos'}}}]"
      ]
     },
     "execution_count": 27,
     "metadata": {},
     "output_type": "execute_result"
    }
   ],
   "source": [
    "obj"
   ]
  },
  {
   "cell_type": "markdown",
   "metadata": {},
   "source": [
    "### Get device facts for all the devices in HB"
   ]
  },
  {
   "cell_type": "code",
   "execution_count": 28,
   "metadata": {},
   "outputs": [
    {
     "name": "stdout",
     "output_type": "stream",
     "text": [
      "[{'device-id': 'EVO',\n",
      "  'facts': {'fpc': [{'description': 'FPC-JNP10003-LOGICAL',\n",
      "                     'model-number': None,\n",
      "                     'name': 'FPC 1',\n",
      "                     'part-number': 'BUILTIN',\n",
      "                     'serial-number': 'BUILTIN',\n",
      "                     'version': None}],\n",
      "            'hostname': None,\n",
      "            'junos-info': [{'last-reboot-reason': 'Unknown',\n",
      "                            'mastership-state': 'Master',\n",
      "                            'model': 'Control Board',\n",
      "                            'name': 're0',\n",
      "                            'status': 'OK',\n",
      "                            'up-time': '0 second',\n",
      "                            'version-info': {'build': None,\n",
      "                                             'major': [19, 4],\n",
      "                                             'minor': ['20190731122440-EVO_soumikd'],\n",
      "                                             'type': 'I'}}],\n",
      "            'platform': 'PTX10003-160C',\n",
      "            'platform-info': [{'name': 're0', 'platform': 'PTX10003-160C'}],\n",
      "            'product': 'PTX',\n",
      "            'release': '19.4I20190731122440-EVO_soumikd',\n",
      "            'serial-number': 'JN0000000AJD'}},\n",
      " {'device-id': 'vmx',\n",
      "  'facts': {'fpc': [],\n",
      "            'hostname': 'R1_re0',\n",
      "            'junos-info': [{'last-reboot-reason': 'Router rebooted after a '\n",
      "                                                  'normal shutdown.',\n",
      "                            'mastership-state': 'master',\n",
      "                            'model': 'RE-VMX',\n",
      "                            'name': 're0',\n",
      "                            'status': 'OK',\n",
      "                            'up-time': '80 days, 1 hour, 20 minutes, 9 seconds',\n",
      "                            'version-info': {'build': '0',\n",
      "                                             'major': [19, 3],\n",
      "                                             'minor': ['20190421_dev_common'],\n",
      "                                             'type': 'I'}}],\n",
      "            'platform': 'MX960',\n",
      "            'platform-info': [{'name': 're0', 'platform': 'MX960'}],\n",
      "            'product': 'MX',\n",
      "            'release': '19.3-20190421_dev_common.0.84473',\n",
      "            'serial-number': 'VMX4eaf'}},\n",
      " {'device-id': 'vmx_db',\n",
      "  'facts': {'hostname': 'riad001-g',\n",
      "            'junos-info': [],\n",
      "            'platform': 'MX480',\n",
      "            'platform-info': [{'name': 're0', 'platform': 'MX480'}],\n",
      "            'product': None,\n",
      "            'release': '19.4I20190809_0730_madhus',\n",
      "            'serial-number': None}},\n",
      " {'device-id': 'core_db',\n",
      "  'facts': {'fpc': [{'description': 'MPC Type 2 3D',\n",
      "                     'model-number': 'MX-MPC2-3D',\n",
      "                     'name': 'FPC 1',\n",
      "                     'part-number': '750-031089',\n",
      "                     'serial-number': 'CACM1627',\n",
      "                     'version': 'REV 31'}],\n",
      "            'hostname': 'choc-mx480-b',\n",
      "            'junos-info': [{'last-reboot-reason': 'Router rebooted after a '\n",
      "                                                  'normal shutdown.',\n",
      "                            'mastership-state': 'master',\n",
      "                            'model': 'RE-S-2000',\n",
      "                            'name': 're0',\n",
      "                            'status': 'OK',\n",
      "                            'up-time': '5 hours, 27 minutes, 15 seconds',\n",
      "                            'version-info': {'build': None,\n",
      "                                             'major': [19, 4],\n",
      "                                             'minor': ['20190809_0730_madhus'],\n",
      "                                             'type': 'I'}},\n",
      "                           {'last-reboot-reason': '0x1:power cycle/failure',\n",
      "                            'mastership-state': 'backup',\n",
      "                            'model': 'RE-S-2000',\n",
      "                            'name': 're1',\n",
      "                            'status': 'OK',\n",
      "                            'up-time': '14 days, 22 hours, 34 minutes, 13 '\n",
      "                                       'seconds',\n",
      "                            'version-info': {'build': 7,\n",
      "                                             'major': [15, 1],\n",
      "                                             'minor': ['6'],\n",
      "                                             'type': 'R'}}],\n",
      "            'platform': 'MX480',\n",
      "            'platform-info': [{'name': 're0', 'platform': 'MX480'},\n",
      "                              {'name': 're1', 'platform': 'MX480'}],\n",
      "            'product': 'MX',\n",
      "            'release': '19.4I20190809_0730_madhus',\n",
      "            'serial-number': 'JN12317F2AFB'}},\n",
      " {'device-id': 'node1', 'facts': {}}]\n"
     ]
    }
   ],
   "source": [
    "pprint(hb.device.get_facts())"
   ]
  },
  {
   "cell_type": "markdown",
   "metadata": {},
   "source": [
    "### Add device group using DevicegroupSchema and APIs provided"
   ]
  },
  {
   "cell_type": "code",
   "execution_count": 35,
   "metadata": {},
   "outputs": [],
   "source": [
    "from jnpr.healthbot import DeviceGroupSchema"
   ]
  },
  {
   "cell_type": "code",
   "execution_count": 36,
   "metadata": {},
   "outputs": [],
   "source": [
    "dgs = DeviceGroupSchema(device_group_name=\"edge\", devices=['demo'])"
   ]
  },
  {
   "cell_type": "markdown",
   "metadata": {},
   "source": [
    "### We can also set any param/attribute after creating schema object"
   ]
  },
  {
   "cell_type": "code",
   "execution_count": 37,
   "metadata": {},
   "outputs": [],
   "source": [
    "dgs.description=\"All devices on the edge\""
   ]
  },
  {
   "cell_type": "markdown",
   "metadata": {},
   "source": [
    "### Now add device group using provided API"
   ]
  },
  {
   "cell_type": "code",
   "execution_count": 38,
   "metadata": {},
   "outputs": [
    {
     "name": "stdout",
     "output_type": "stream",
     "text": [
      "True\n"
     ]
    }
   ],
   "source": [
    "print(hb.device_group.add(dgs))"
   ]
  },
  {
   "cell_type": "markdown",
   "metadata": {},
   "source": [
    "### Let see whats the plus point of using Schema\n",
    "\n",
    "     1> Helps with any missing paramters\n",
    "     2> Checks for any rule associated with given params"
   ]
  },
  {
   "cell_type": "code",
   "execution_count": 39,
   "metadata": {},
   "outputs": [
    {
     "ename": "ValueError",
     "evalue": "Invalid value for `device_group_name`, must not be `None`",
     "output_type": "error",
     "traceback": [
      "\u001b[0;31m---------------------------------------------------------------------------\u001b[0m",
      "\u001b[0;31mValueError\u001b[0m                                Traceback (most recent call last)",
      "\u001b[0;32m<ipython-input-39-4d61d231fd38>\u001b[0m in \u001b[0;36m<module>\u001b[0;34m\u001b[0m\n\u001b[1;32m      1\u001b[0m \u001b[0;31m# Error for missing mandatory parameters\u001b[0m\u001b[0;34m\u001b[0m\u001b[0;34m\u001b[0m\u001b[0;34m\u001b[0m\u001b[0m\n\u001b[1;32m      2\u001b[0m \u001b[0;34m\u001b[0m\u001b[0m\n\u001b[0;32m----> 3\u001b[0;31m \u001b[0mdgs\u001b[0m \u001b[0;34m=\u001b[0m \u001b[0mDeviceGroupSchema\u001b[0m\u001b[0;34m(\u001b[0m\u001b[0;34m)\u001b[0m\u001b[0;34m\u001b[0m\u001b[0;34m\u001b[0m\u001b[0m\n\u001b[0m",
      "\u001b[0;32m~/Coding/git.juniper.net.iceberg/healthbot-py-client/lib/jnpr/healthbot/swagger/models/device_group_schema.py\u001b[0m in \u001b[0;36m__init__\u001b[0;34m(self, authentication, description, device_group_name, devices, logging, native_gpb, raw_data, notification, playbooks, reports, retention_policy, scheduler, variable)\u001b[0m\n\u001b[1;32m     93\u001b[0m         \u001b[0;32mif\u001b[0m \u001b[0mdescription\u001b[0m \u001b[0;32mis\u001b[0m \u001b[0;32mnot\u001b[0m \u001b[0;32mNone\u001b[0m\u001b[0;34m:\u001b[0m\u001b[0;34m\u001b[0m\u001b[0;34m\u001b[0m\u001b[0m\n\u001b[1;32m     94\u001b[0m             \u001b[0mself\u001b[0m\u001b[0;34m.\u001b[0m\u001b[0mdescription\u001b[0m \u001b[0;34m=\u001b[0m \u001b[0mdescription\u001b[0m\u001b[0;34m\u001b[0m\u001b[0;34m\u001b[0m\u001b[0m\n\u001b[0;32m---> 95\u001b[0;31m         \u001b[0mself\u001b[0m\u001b[0;34m.\u001b[0m\u001b[0mdevice_group_name\u001b[0m \u001b[0;34m=\u001b[0m \u001b[0mdevice_group_name\u001b[0m\u001b[0;34m\u001b[0m\u001b[0;34m\u001b[0m\u001b[0m\n\u001b[0m\u001b[1;32m     96\u001b[0m         \u001b[0;32mif\u001b[0m \u001b[0mdevices\u001b[0m \u001b[0;32mis\u001b[0m \u001b[0;32mnot\u001b[0m \u001b[0;32mNone\u001b[0m\u001b[0;34m:\u001b[0m\u001b[0;34m\u001b[0m\u001b[0;34m\u001b[0m\u001b[0m\n\u001b[1;32m     97\u001b[0m             \u001b[0mself\u001b[0m\u001b[0;34m.\u001b[0m\u001b[0mdevices\u001b[0m \u001b[0;34m=\u001b[0m \u001b[0mdevices\u001b[0m\u001b[0;34m\u001b[0m\u001b[0;34m\u001b[0m\u001b[0m\n",
      "\u001b[0;32m~/Coding/git.juniper.net.iceberg/healthbot-py-client/lib/jnpr/healthbot/swagger/models/device_group_schema.py\u001b[0m in \u001b[0;36mdevice_group_name\u001b[0;34m(self, device_group_name)\u001b[0m\n\u001b[1;32m    180\u001b[0m         \"\"\"\n\u001b[1;32m    181\u001b[0m         \u001b[0;32mif\u001b[0m \u001b[0mdevice_group_name\u001b[0m \u001b[0;32mis\u001b[0m \u001b[0;32mNone\u001b[0m\u001b[0;34m:\u001b[0m\u001b[0;34m\u001b[0m\u001b[0;34m\u001b[0m\u001b[0m\n\u001b[0;32m--> 182\u001b[0;31m             \u001b[0;32mraise\u001b[0m \u001b[0mValueError\u001b[0m\u001b[0;34m(\u001b[0m\u001b[0;34m\"Invalid value for `device_group_name`, must not be `None`\"\u001b[0m\u001b[0;34m)\u001b[0m  \u001b[0;31m# noqa: E501\u001b[0m\u001b[0;34m\u001b[0m\u001b[0;34m\u001b[0m\u001b[0m\n\u001b[0m\u001b[1;32m    183\u001b[0m         \u001b[0;32mif\u001b[0m \u001b[0mdevice_group_name\u001b[0m \u001b[0;32mis\u001b[0m \u001b[0;32mnot\u001b[0m \u001b[0;32mNone\u001b[0m \u001b[0;32mand\u001b[0m \u001b[0mlen\u001b[0m\u001b[0;34m(\u001b[0m\u001b[0mdevice_group_name\u001b[0m\u001b[0;34m)\u001b[0m \u001b[0;34m>\u001b[0m \u001b[0;36m64\u001b[0m\u001b[0;34m:\u001b[0m\u001b[0;34m\u001b[0m\u001b[0;34m\u001b[0m\u001b[0m\n\u001b[1;32m    184\u001b[0m             \u001b[0;32mraise\u001b[0m \u001b[0mValueError\u001b[0m\u001b[0;34m(\u001b[0m\u001b[0;34m\"Invalid value for `device_group_name`, length must be less than or equal to `64`\"\u001b[0m\u001b[0;34m)\u001b[0m  \u001b[0;31m# noqa: E501\u001b[0m\u001b[0;34m\u001b[0m\u001b[0;34m\u001b[0m\u001b[0m\n",
      "\u001b[0;31mValueError\u001b[0m: Invalid value for `device_group_name`, must not be `None`"
     ]
    }
   ],
   "source": [
    "# Error for missing mandatory parameters\n",
    "\n",
    "dgs = DeviceGroupSchema()"
   ]
  },
  {
   "cell_type": "code",
   "execution_count": 40,
   "metadata": {},
   "outputs": [
    {
     "ename": "ValueError",
     "evalue": "Invalid value for `device_group_name`, must be a follow pattern or equal to `/^[a-zA-Z][a-zA-Z0-9_-]*$/`",
     "output_type": "error",
     "traceback": [
      "\u001b[0;31m---------------------------------------------------------------------------\u001b[0m",
      "\u001b[0;31mValueError\u001b[0m                                Traceback (most recent call last)",
      "\u001b[0;32m<ipython-input-40-8617b5d8e365>\u001b[0m in \u001b[0;36m<module>\u001b[0;34m\u001b[0m\n\u001b[1;32m      1\u001b[0m \u001b[0;31m# Error for not following rule for give parameter\u001b[0m\u001b[0;34m\u001b[0m\u001b[0;34m\u001b[0m\u001b[0;34m\u001b[0m\u001b[0m\n\u001b[1;32m      2\u001b[0m \u001b[0;34m\u001b[0m\u001b[0m\n\u001b[0;32m----> 3\u001b[0;31m \u001b[0mdgs\u001b[0m \u001b[0;34m=\u001b[0m \u001b[0mDeviceGroupSchema\u001b[0m\u001b[0;34m(\u001b[0m\u001b[0mdevice_group_name\u001b[0m\u001b[0;34m=\u001b[0m\u001b[0;34m\"edge group\"\u001b[0m\u001b[0;34m)\u001b[0m\u001b[0;34m\u001b[0m\u001b[0;34m\u001b[0m\u001b[0m\n\u001b[0m",
      "\u001b[0;32m~/Coding/git.juniper.net.iceberg/healthbot-py-client/lib/jnpr/healthbot/swagger/models/device_group_schema.py\u001b[0m in \u001b[0;36m__init__\u001b[0;34m(self, authentication, description, device_group_name, devices, logging, native_gpb, raw_data, notification, playbooks, reports, retention_policy, scheduler, variable)\u001b[0m\n\u001b[1;32m     93\u001b[0m         \u001b[0;32mif\u001b[0m \u001b[0mdescription\u001b[0m \u001b[0;32mis\u001b[0m \u001b[0;32mnot\u001b[0m \u001b[0;32mNone\u001b[0m\u001b[0;34m:\u001b[0m\u001b[0;34m\u001b[0m\u001b[0;34m\u001b[0m\u001b[0m\n\u001b[1;32m     94\u001b[0m             \u001b[0mself\u001b[0m\u001b[0;34m.\u001b[0m\u001b[0mdescription\u001b[0m \u001b[0;34m=\u001b[0m \u001b[0mdescription\u001b[0m\u001b[0;34m\u001b[0m\u001b[0;34m\u001b[0m\u001b[0m\n\u001b[0;32m---> 95\u001b[0;31m         \u001b[0mself\u001b[0m\u001b[0;34m.\u001b[0m\u001b[0mdevice_group_name\u001b[0m \u001b[0;34m=\u001b[0m \u001b[0mdevice_group_name\u001b[0m\u001b[0;34m\u001b[0m\u001b[0;34m\u001b[0m\u001b[0m\n\u001b[0m\u001b[1;32m     96\u001b[0m         \u001b[0;32mif\u001b[0m \u001b[0mdevices\u001b[0m \u001b[0;32mis\u001b[0m \u001b[0;32mnot\u001b[0m \u001b[0;32mNone\u001b[0m\u001b[0;34m:\u001b[0m\u001b[0;34m\u001b[0m\u001b[0;34m\u001b[0m\u001b[0m\n\u001b[1;32m     97\u001b[0m             \u001b[0mself\u001b[0m\u001b[0;34m.\u001b[0m\u001b[0mdevices\u001b[0m \u001b[0;34m=\u001b[0m \u001b[0mdevices\u001b[0m\u001b[0;34m\u001b[0m\u001b[0;34m\u001b[0m\u001b[0m\n",
      "\u001b[0;32m~/Coding/git.juniper.net.iceberg/healthbot-py-client/lib/jnpr/healthbot/swagger/models/device_group_schema.py\u001b[0m in \u001b[0;36mdevice_group_name\u001b[0;34m(self, device_group_name)\u001b[0m\n\u001b[1;32m    184\u001b[0m             \u001b[0;32mraise\u001b[0m \u001b[0mValueError\u001b[0m\u001b[0;34m(\u001b[0m\u001b[0;34m\"Invalid value for `device_group_name`, length must be less than or equal to `64`\"\u001b[0m\u001b[0;34m)\u001b[0m  \u001b[0;31m# noqa: E501\u001b[0m\u001b[0;34m\u001b[0m\u001b[0;34m\u001b[0m\u001b[0m\n\u001b[1;32m    185\u001b[0m         \u001b[0;32mif\u001b[0m \u001b[0mdevice_group_name\u001b[0m \u001b[0;32mis\u001b[0m \u001b[0;32mnot\u001b[0m \u001b[0;32mNone\u001b[0m \u001b[0;32mand\u001b[0m \u001b[0;32mnot\u001b[0m \u001b[0mre\u001b[0m\u001b[0;34m.\u001b[0m\u001b[0msearch\u001b[0m\u001b[0;34m(\u001b[0m\u001b[0;34m'^[a-zA-Z][a-zA-Z0-9_-]*$'\u001b[0m\u001b[0;34m,\u001b[0m \u001b[0mdevice_group_name\u001b[0m\u001b[0;34m)\u001b[0m\u001b[0;34m:\u001b[0m  \u001b[0;31m# noqa: E501\u001b[0m\u001b[0;34m\u001b[0m\u001b[0;34m\u001b[0m\u001b[0m\n\u001b[0;32m--> 186\u001b[0;31m             \u001b[0;32mraise\u001b[0m \u001b[0mValueError\u001b[0m\u001b[0;34m(\u001b[0m\u001b[0;34m\"Invalid value for `device_group_name`, must be a follow pattern or equal to `/^[a-zA-Z][a-zA-Z0-9_-]*$/`\"\u001b[0m\u001b[0;34m)\u001b[0m  \u001b[0;31m# noqa: E501\u001b[0m\u001b[0;34m\u001b[0m\u001b[0;34m\u001b[0m\u001b[0m\n\u001b[0m\u001b[1;32m    187\u001b[0m \u001b[0;34m\u001b[0m\u001b[0m\n\u001b[1;32m    188\u001b[0m         \u001b[0mself\u001b[0m\u001b[0;34m.\u001b[0m\u001b[0m_device_group_name\u001b[0m \u001b[0;34m=\u001b[0m \u001b[0mdevice_group_name\u001b[0m\u001b[0;34m\u001b[0m\u001b[0;34m\u001b[0m\u001b[0m\n",
      "\u001b[0;31mValueError\u001b[0m: Invalid value for `device_group_name`, must be a follow pattern or equal to `/^[a-zA-Z][a-zA-Z0-9_-]*$/`"
     ]
    }
   ],
   "source": [
    "# Error for not following rule for give parameter\n",
    "\n",
    "dgs = DeviceGroupSchema(device_group_name=\"edge group\")"
   ]
  },
  {
   "cell_type": "code",
   "execution_count": 41,
   "metadata": {},
   "outputs": [],
   "source": [
    "# Now we are in compliance with rules\n",
    "\n",
    "dgs = DeviceGroupSchema(device_group_name=\"edge\")"
   ]
  },
  {
   "cell_type": "code",
   "execution_count": 42,
   "metadata": {},
   "outputs": [],
   "source": [
    "dgs.devices = ['demo']"
   ]
  },
  {
   "cell_type": "markdown",
   "metadata": {},
   "source": [
    "### We can also pass all Schema params to add_ APIs, internally it will use these params to create Schema"
   ]
  },
  {
   "cell_type": "code",
   "execution_count": 43,
   "metadata": {},
   "outputs": [
    {
     "name": "stdout",
     "output_type": "stream",
     "text": [
      "True\n"
     ]
    },
    {
     "data": {
      "text/plain": [
       "True"
      ]
     },
     "execution_count": 43,
     "metadata": {},
     "output_type": "execute_result"
    }
   ],
   "source": [
    "print(hb.device_group.add(device_group_name=\"edge\", description=\"All devices on the edge\", devices=['demo']))\n",
    "hb.commit()"
   ]
  },
  {
   "cell_type": "code",
   "execution_count": 44,
   "metadata": {},
   "outputs": [
    {
     "data": {
      "text/plain": [
       "{'authentication': None,\n",
       " 'description': 'testing',\n",
       " 'device_group_name': 'real',\n",
       " 'devices': ['vmx'],\n",
       " 'logging': {'log-level': 'warn'},\n",
       " 'native_gpb': None,\n",
       " 'notification': {},\n",
       " 'playbooks': ['phyport'],\n",
       " 'raw_data': None,\n",
       " 'reports': [],\n",
       " 'retention_policy': None,\n",
       " 'scheduler': None,\n",
       " 'variable': [{'@': {'changed-seconds': 1563348601},\n",
       "               'instance-id': 'ge-1-0-0',\n",
       "               'playbook': 'phyport',\n",
       "               'rule': 'external/interface-info',\n",
       "               'variable-value': [{'name': 'interface_name',\n",
       "                                   'value': 'ge-1/0/0'}]},\n",
       "              {'@': {'changed-seconds': 1563348601},\n",
       "               'instance-id': 'ge-1-0-1',\n",
       "               'playbook': 'phyport',\n",
       "               'rule': 'external/interface-info',\n",
       "               'variable-value': [{'name': 'interface_name',\n",
       "                                   'value': 'ge-1/0/1'}]}]}"
      ]
     },
     "execution_count": 44,
     "metadata": {},
     "output_type": "execute_result"
    }
   ],
   "source": [
    "# Get details for a given device group\n",
    "hb.device_group.get('real')"
   ]
  },
  {
   "cell_type": "code",
   "execution_count": 45,
   "metadata": {},
   "outputs": [
    {
     "name": "stderr",
     "output_type": "stream",
     "text": [
      "\n"
     ]
    },
    {
     "data": {
      "text/plain": [
       "True"
      ]
     },
     "execution_count": 45,
     "metadata": {},
     "output_type": "execute_result"
    }
   ],
   "source": [
    "hb.device_group.delete('edge', force=True)"
   ]
  },
  {
   "cell_type": "markdown",
   "metadata": {},
   "source": [
    "### Add an existing device to existing group"
   ]
  },
  {
   "cell_type": "code",
   "execution_count": 46,
   "metadata": {},
   "outputs": [
    {
     "data": {
      "text/plain": [
       "True"
      ]
     },
     "execution_count": 46,
     "metadata": {},
     "output_type": "execute_result"
    }
   ],
   "source": [
    "hb.device_group.add_device_in_group('vmx', 'edge')"
   ]
  },
  {
   "cell_type": "code",
   "execution_count": 47,
   "metadata": {},
   "outputs": [
    {
     "name": "stdout",
     "output_type": "stream",
     "text": [
      "{'authentication': None,\n",
      " 'description': None,\n",
      " 'device_group_name': 'edge',\n",
      " 'devices': ['vmx'],\n",
      " 'logging': None,\n",
      " 'native_gpb': None,\n",
      " 'notification': {},\n",
      " 'playbooks': [],\n",
      " 'raw_data': None,\n",
      " 'reports': [],\n",
      " 'retention_policy': None,\n",
      " 'scheduler': None,\n",
      " 'variable': None}\n"
     ]
    }
   ],
   "source": [
    "obj = hb.device_group.get('edge')\n",
    "print (obj)"
   ]
  },
  {
   "cell_type": "code",
   "execution_count": 48,
   "metadata": {},
   "outputs": [
    {
     "data": {
      "text/plain": [
       "['vmx']"
      ]
     },
     "execution_count": 48,
     "metadata": {},
     "output_type": "execute_result"
    }
   ],
   "source": [
    "obj.devices"
   ]
  },
  {
   "cell_type": "markdown",
   "metadata": {},
   "source": [
    "### Get details of all the device groups"
   ]
  },
  {
   "cell_type": "code",
   "execution_count": 49,
   "metadata": {},
   "outputs": [
    {
     "name": "stdout",
     "output_type": "stream",
     "text": [
      "[{'authentication': None,\n",
      " 'description': 'UBS Demo',\n",
      " 'device_group_name': 'QFabric',\n",
      " 'devices': ['node1'],\n",
      " 'logging': None,\n",
      " 'native_gpb': None,\n",
      " 'notification': {},\n",
      " 'playbooks': [],\n",
      " 'raw_data': None,\n",
      " 'reports': [],\n",
      " 'retention_policy': None,\n",
      " 'scheduler': None,\n",
      " 'variable': []}, {'authentication': None,\n",
      " 'description': 'testing',\n",
      " 'device_group_name': 'real',\n",
      " 'devices': ['vmx'],\n",
      " 'logging': {'log-level': 'warn'},\n",
      " 'native_gpb': None,\n",
      " 'notification': {},\n",
      " 'playbooks': ['phyport'],\n",
      " 'raw_data': None,\n",
      " 'reports': [],\n",
      " 'retention_policy': None,\n",
      " 'scheduler': None,\n",
      " 'variable': [{'@': {'changed-seconds': 1563348601},\n",
      "               'instance-id': 'ge-1-0-0',\n",
      "               'playbook': 'phyport',\n",
      "               'rule': 'external/interface-info',\n",
      "               'variable-value': [{'name': 'interface_name',\n",
      "                                   'value': 'ge-1/0/0'}]},\n",
      "              {'@': {'changed-seconds': 1563348601},\n",
      "               'instance-id': 'ge-1-0-1',\n",
      "               'playbook': 'phyport',\n",
      "               'rule': 'external/interface-info',\n",
      "               'variable-value': [{'name': 'interface_name',\n",
      "                                   'value': 'ge-1/0/1'}]}]}, {'authentication': None,\n",
      " 'description': None,\n",
      " 'device_group_name': 'edge',\n",
      " 'devices': ['vmx'],\n",
      " 'logging': None,\n",
      " 'native_gpb': None,\n",
      " 'notification': {},\n",
      " 'playbooks': [],\n",
      " 'raw_data': None,\n",
      " 'reports': [],\n",
      " 'retention_policy': None,\n",
      " 'scheduler': None,\n",
      " 'variable': None}, {'authentication': {'password': {'password': '$9$6ORV9pO1IhyeMIEML7V4okqm',\n",
      "                                 'username': 'regress'}},\n",
      " 'description': None,\n",
      " 'device_group_name': 'EVO_CORE',\n",
      " 'devices': ['EVO'],\n",
      " 'logging': None,\n",
      " 'native_gpb': None,\n",
      " 'notification': {},\n",
      " 'playbooks': [],\n",
      " 'raw_data': None,\n",
      " 'reports': [],\n",
      " 'retention_policy': None,\n",
      " 'scheduler': None,\n",
      " 'variable': []}, {'authentication': {'password': {'password': '$9$XXy7Vs2gJUiq4aqPT3tpcSr',\n",
      "                                 'username': 'regress'}},\n",
      " 'description': None,\n",
      " 'device_group_name': 'vmx_db',\n",
      " 'devices': ['core_db'],\n",
      " 'logging': {'log-level': 'critical'},\n",
      " 'native_gpb': None,\n",
      " 'notification': {},\n",
      " 'playbooks': [],\n",
      " 'raw_data': None,\n",
      " 'reports': [],\n",
      " 'retention_policy': None,\n",
      " 'scheduler': None,\n",
      " 'variable': []}, {'authentication': None,\n",
      " 'description': 'learning',\n",
      " 'device_group_name': 'Core',\n",
      " 'devices': ['vmx'],\n",
      " 'logging': None,\n",
      " 'native_gpb': {'ports': [22000]},\n",
      " 'notification': {},\n",
      " 'playbooks': ['forwarding-table-summary', 'icmp-probe', 'rca-ospf-playbook'],\n",
      " 'raw_data': None,\n",
      " 'reports': [],\n",
      " 'retention_policy': None,\n",
      " 'scheduler': None,\n",
      " 'variable': [{'@': {'changed-seconds': 1564722219},\n",
      "               'instance-id': 'test1',\n",
      "               'playbook': 'rca-ospf-playbook',\n",
      "               'rule': 'interface.statistics/check-host-loopback-status',\n",
      "               'variable-value': []},\n",
      "              {'@': {'changed-seconds': 1564722219},\n",
      "               'instance-id': 'test1',\n",
      "               'playbook': 'rca-ospf-playbook',\n",
      "               'rule': 'linecard.fpc/check-fpc-memory',\n",
      "               'variable-value': []},\n",
      "              {'@': {'changed-seconds': 1564722219},\n",
      "               'instance-id': 'test1',\n",
      "               'playbook': 'rca-ospf-playbook',\n",
      "               'rule': 'linecard.ospf/check-ddos-statistics',\n",
      "               'variable-value': []},\n",
      "              {'@': {'changed-seconds': 1564722219},\n",
      "               'instance-id': 'test1',\n",
      "               'playbook': 'rca-ospf-playbook',\n",
      "               'rule': 'linecard.statistics/check-center-chip-host-path',\n",
      "               'variable-value': []},\n",
      "              {'@': {'changed-seconds': 1564722219},\n",
      "               'instance-id': 'test1',\n",
      "               'playbook': 'rca-ospf-playbook',\n",
      "               'rule': 'linecard.statistics/check-cm-error-table',\n",
      "               'variable-value': []},\n",
      "              {'@': {'changed-seconds': 1564722219},\n",
      "               'instance-id': 'test1',\n",
      "               'playbook': 'rca-ospf-playbook',\n",
      "               'rule': 'linecard.statistics/check-fpc-cpu-scheduler-info',\n",
      "               'variable-value': []},\n",
      "              {'@': {'changed-seconds': 1564722219},\n",
      "               'instance-id': 'test1',\n",
      "               'playbook': 'rca-ospf-playbook',\n",
      "               'rule': 'linecard.statistics/check-fpc-threads',\n",
      "               'variable-value': []},\n",
      "              {'@': {'changed-seconds': 1564722219},\n",
      "               'instance-id': 'test1',\n",
      "               'playbook': 'rca-ospf-playbook',\n",
      "               'rule': 'linecard.statistics/check-fpc-utilization-information',\n",
      "               'variable-value': []},\n",
      "              {'@': {'changed-seconds': 1564722219},\n",
      "               'instance-id': 'test1',\n",
      "               'playbook': 'rca-ospf-playbook',\n",
      "               'rule': 'linecard.statistics/check-ithrottle',\n",
      "               'variable-value': []},\n",
      "              {'@': {'changed-seconds': 1564722219},\n",
      "               'instance-id': 'test1',\n",
      "               'playbook': 'rca-ospf-playbook',\n",
      "               'rule': 'linecard.statistics/check-ithrottle-statistics',\n",
      "               'variable-value': []},\n",
      "              {'@': {'changed-seconds': 1564722219},\n",
      "               'instance-id': 'test1',\n",
      "               'playbook': 'rca-ospf-playbook',\n",
      "               'rule': 'linecard.statistics/check-jnh-exceptions',\n",
      "               'variable-value': []},\n",
      "              {'@': {'changed-seconds': 1564722219},\n",
      "               'instance-id': 'test1',\n",
      "               'playbook': 'rca-ospf-playbook',\n",
      "               'rule': 'linecard.statistics/check-jnh-interface-statistics',\n",
      "               'variable-value': []},\n",
      "              {'@': {'changed-seconds': 1564722219},\n",
      "               'instance-id': 'test1',\n",
      "               'playbook': 'rca-ospf-playbook',\n",
      "               'rule': 'linecard.statistics/check-linecard-ethernet-statistics',\n",
      "               'variable-value': []},\n",
      "              {'@': {'changed-seconds': 1564722219},\n",
      "               'instance-id': 'test1',\n",
      "               'playbook': 'rca-ospf-playbook',\n",
      "               'rule': 'linecard.statistics/check-pci-error-counters',\n",
      "               'variable-value': []},\n",
      "              {'@': {'changed-seconds': 1564722219},\n",
      "               'instance-id': 'test1',\n",
      "               'playbook': 'rca-ospf-playbook',\n",
      "               'rule': 'linecard.statistics/check-pfe-traffic-statistics',\n",
      "               'variable-value': []},\n",
      "              {'@': {'changed-seconds': 1564722219},\n",
      "               'instance-id': 'test1',\n",
      "               'playbook': 'rca-ospf-playbook',\n",
      "               'rule': 'linecard.statistics/check-pre-classifier-dropped-packets',\n",
      "               'variable-value': []},\n",
      "              {'@': {'changed-seconds': 1564722219},\n",
      "               'instance-id': 'test1',\n",
      "               'playbook': 'rca-ospf-playbook',\n",
      "               'rule': 'linecard.statistics/check-traffic-offload-engine-status',\n",
      "               'variable-value': []},\n",
      "              {'@': {'changed-seconds': 1564722219},\n",
      "               'instance-id': 'test1',\n",
      "               'playbook': 'rca-ospf-playbook',\n",
      "               'rule': 'protocol.infra/check-task-io-drops',\n",
      "               'variable-value': []},\n",
      "              {'@': {'changed-seconds': 1564722219},\n",
      "               'instance-id': 'test1',\n",
      "               'playbook': 'rca-ospf-playbook',\n",
      "               'rule': 'protocol.infra/check-task-memory-usage',\n",
      "               'variable-value': []},\n",
      "              {'@': {'changed-seconds': 1564722219},\n",
      "               'instance-id': 'test1',\n",
      "               'playbook': 'rca-ospf-playbook',\n",
      "               'rule': 'protocol.ospf/check-ospf-forwarding-table',\n",
      "               'variable-value': []},\n",
      "              {'@': {'changed-seconds': 1564722219},\n",
      "               'instance-id': 'test1',\n",
      "               'playbook': 'rca-ospf-playbook',\n",
      "               'rule': 'protocol.ospf/check-ospf-io-statistics-information',\n",
      "               'variable-value': []},\n",
      "              {'@': {'changed-seconds': 1564722219},\n",
      "               'instance-id': 'test1',\n",
      "               'playbook': 'rca-ospf-playbook',\n",
      "               'rule': 'protocol.ospf/check-ospf-neighbor-information',\n",
      "               'variable-value': []},\n",
      "              {'@': {'changed-seconds': 1564722219},\n",
      "               'instance-id': 'test1',\n",
      "               'playbook': 'rca-ospf-playbook',\n",
      "               'rule': 'protocol.ospf/check-ospf-statistics-information',\n",
      "               'variable-value': []},\n",
      "              {'@': {'changed-seconds': 1564722219},\n",
      "               'instance-id': 'test1',\n",
      "               'playbook': 'rca-ospf-playbook',\n",
      "               'rule': 'protocol.ospf/fpc-link-stats',\n",
      "               'variable-value': []},\n",
      "              {'@': {'changed-seconds': 1564722219},\n",
      "               'instance-id': 'test1',\n",
      "               'playbook': 'rca-ospf-playbook',\n",
      "               'rule': 'protocol.ospf/pfe-ddos-policer',\n",
      "               'variable-value': []},\n",
      "              {'@': {'changed-seconds': 1564722219},\n",
      "               'instance-id': 'test1',\n",
      "               'playbook': 'rca-ospf-playbook',\n",
      "               'rule': 'system.statistics/check-routing-engine-cpu-utilization',\n",
      "               'variable-value': []},\n",
      "              {'@': {'changed-seconds': 1564722219},\n",
      "               'instance-id': 'test1',\n",
      "               'playbook': 'rca-ospf-playbook',\n",
      "               'rule': 'system.statistics/check-system-input-queues',\n",
      "               'variable-value': []},\n",
      "              {'@': {'changed-seconds': 1564722219},\n",
      "               'instance-id': 'test1',\n",
      "               'playbook': 'rca-ospf-playbook',\n",
      "               'rule': 'system.statistics/check-system-output-queues',\n",
      "               'variable-value': []},\n",
      "              {'@': {'changed-seconds': 1564722219},\n",
      "               'instance-id': 'test1',\n",
      "               'playbook': 'rca-ospf-playbook',\n",
      "               'rule': 'system.statistics/check-system-statistics-ip',\n",
      "               'variable-value': []},\n",
      "              {'@': {'changed-seconds': 1564722219},\n",
      "               'instance-id': 'test1',\n",
      "               'playbook': 'rca-ospf-playbook',\n",
      "               'rule': 'system.statistics/check-system-storage-capacity',\n",
      "               'variable-value': []},\n",
      "              {'@': {'changed-seconds': 1564722219},\n",
      "               'instance-id': 'test1',\n",
      "               'playbook': 'rca-ospf-playbook',\n",
      "               'rule': 'system.statistics/check-system-virtual-memory-information',\n",
      "               'variable-value': []},\n",
      "              {'@': {'changed-seconds': 1564722219},\n",
      "               'instance-id': 'test1',\n",
      "               'playbook': 'rca-ospf-playbook',\n",
      "               'rule': 'system.statistics/check-version',\n",
      "               'variable-value': []},\n",
      "              {'@': {'changed-seconds': 1565263889},\n",
      "               'instance-id': 'set1',\n",
      "               'playbook': 'icmp-probe',\n",
      "               'rule': 'protocol.icmp/check-icmp-statistics',\n",
      "               'variable-value': [{'name': 'host-var', 'value': '10.221.11.11'},\n",
      "                                  {'name': 'count-var', 'value': '2'}]},\n",
      "              {'@': {'changed-seconds': 1566550538},\n",
      "               'instance-id': 'HbEZ-instance',\n",
      "               'playbook': 'forwarding-table-summary',\n",
      "               'rule': 'protocol.routesummary/check-fib-summary',\n",
      "               'variable-value': []},\n",
      "              {'@': {'changed-seconds': 1566550538},\n",
      "               'instance-id': 'HbEZ-instance',\n",
      "               'playbook': 'forwarding-table-summary',\n",
      "               'rule': 'protocol.routesummary/check-fib-summary',\n",
      "               'variable-value': []},\n",
      "              {'@': {'changed-seconds': 1566550538},\n",
      "               'instance-id': 'HbEZ-instance',\n",
      "               'playbook': 'forwarding-table-summary',\n",
      "               'rule': 'protocol.routesummary/check-fib-summary',\n",
      "               'variable-value': []}]}]\n"
     ]
    }
   ],
   "source": [
    "print(hb.device_group.get())"
   ]
  },
  {
   "cell_type": "markdown",
   "metadata": {},
   "source": [
    "### We can also update any given device group"
   ]
  },
  {
   "cell_type": "code",
   "execution_count": 50,
   "metadata": {},
   "outputs": [
    {
     "name": "stdout",
     "output_type": "stream",
     "text": [
      "{'authentication': None,\n",
      " 'description': None,\n",
      " 'device_group_name': 'edge',\n",
      " 'devices': ['vmx'],\n",
      " 'logging': None,\n",
      " 'native_gpb': None,\n",
      " 'notification': {},\n",
      " 'playbooks': [],\n",
      " 'raw_data': None,\n",
      " 'reports': [],\n",
      " 'retention_policy': None,\n",
      " 'scheduler': None,\n",
      " 'variable': None}\n"
     ]
    }
   ],
   "source": [
    "print(hb.device_group.get('edge'))"
   ]
  },
  {
   "cell_type": "code",
   "execution_count": 51,
   "metadata": {},
   "outputs": [
    {
     "data": {
      "text/plain": [
       "True"
      ]
     },
     "execution_count": 51,
     "metadata": {},
     "output_type": "execute_result"
    }
   ],
   "source": [
    "dgs = hb.device_group.get('edge')\n",
    "dgs.devices.append('vmx')\n",
    "hb.device_group.update(dgs)"
   ]
  },
  {
   "cell_type": "code",
   "execution_count": 52,
   "metadata": {},
   "outputs": [
    {
     "name": "stdout",
     "output_type": "stream",
     "text": [
      "{'authentication': None,\n",
      " 'description': None,\n",
      " 'device_group_name': 'edge',\n",
      " 'devices': ['vmx'],\n",
      " 'logging': None,\n",
      " 'native_gpb': None,\n",
      " 'notification': {},\n",
      " 'playbooks': [],\n",
      " 'raw_data': None,\n",
      " 'reports': [],\n",
      " 'retention_policy': None,\n",
      " 'scheduler': None,\n",
      " 'variable': None}\n"
     ]
    }
   ],
   "source": [
    "# Check for devices list\n",
    "dgs = hb.device_group.get('edge')\n",
    "print(dgs)"
   ]
  },
  {
   "cell_type": "code",
   "execution_count": 53,
   "metadata": {},
   "outputs": [
    {
     "name": "stderr",
     "output_type": "stream",
     "text": [
      "{\n",
      "  \"detail\": \"IncorrectReferenceError: Devices: avro are not present\",\n",
      "  \"status\": 400\n",
      "}\n",
      "\n"
     ]
    },
    {
     "ename": "HTTPError",
     "evalue": "400 Client Error: BAD REQUEST for url: https://10.209.7.33:8080/api/v1/device-group/edge",
     "output_type": "error",
     "traceback": [
      "\u001b[0;31m---------------------------------------------------------------------------\u001b[0m",
      "\u001b[0;31mHTTPError\u001b[0m                                 Traceback (most recent call last)",
      "\u001b[0;32m<ipython-input-53-e85b24046326>\u001b[0m in \u001b[0;36m<module>\u001b[0;34m\u001b[0m\n\u001b[1;32m      1\u001b[0m \u001b[0mdgs\u001b[0m\u001b[0;34m.\u001b[0m\u001b[0mdevices\u001b[0m \u001b[0;34m=\u001b[0m \u001b[0;34m[\u001b[0m\u001b[0;34m'avro'\u001b[0m\u001b[0;34m]\u001b[0m\u001b[0;34m\u001b[0m\u001b[0;34m\u001b[0m\u001b[0m\n\u001b[0;32m----> 2\u001b[0;31m \u001b[0mhb\u001b[0m\u001b[0;34m.\u001b[0m\u001b[0mdevice_group\u001b[0m\u001b[0;34m.\u001b[0m\u001b[0mupdate\u001b[0m\u001b[0;34m(\u001b[0m\u001b[0mdgs\u001b[0m\u001b[0;34m)\u001b[0m\u001b[0;34m\u001b[0m\u001b[0;34m\u001b[0m\u001b[0m\n\u001b[0m",
      "\u001b[0;32m~/Coding/git.juniper.net.iceberg/healthbot-py-client/lib/jnpr/healthbot/modules/devices.py\u001b[0m in \u001b[0;36mupdate\u001b[0;34m(self, schema, **kwargs)\u001b[0m\n\u001b[1;32m    532\u001b[0m         \u001b[0;32mif\u001b[0m \u001b[0mresponse\u001b[0m\u001b[0;34m.\u001b[0m\u001b[0mstatus_code\u001b[0m \u001b[0;34m!=\u001b[0m \u001b[0;36m200\u001b[0m\u001b[0;34m:\u001b[0m\u001b[0;34m\u001b[0m\u001b[0;34m\u001b[0m\u001b[0m\n\u001b[1;32m    533\u001b[0m             \u001b[0mlogger\u001b[0m\u001b[0;34m.\u001b[0m\u001b[0merror\u001b[0m\u001b[0;34m(\u001b[0m\u001b[0mresponse\u001b[0m\u001b[0;34m.\u001b[0m\u001b[0mtext\u001b[0m\u001b[0;34m)\u001b[0m\u001b[0;34m\u001b[0m\u001b[0;34m\u001b[0m\u001b[0m\n\u001b[0;32m--> 534\u001b[0;31m         \u001b[0mresponse\u001b[0m\u001b[0;34m.\u001b[0m\u001b[0mraise_for_status\u001b[0m\u001b[0;34m(\u001b[0m\u001b[0;34m)\u001b[0m\u001b[0;34m\u001b[0m\u001b[0;34m\u001b[0m\u001b[0m\n\u001b[0m\u001b[1;32m    535\u001b[0m         \u001b[0;32mreturn\u001b[0m \u001b[0;32mTrue\u001b[0m\u001b[0;34m\u001b[0m\u001b[0;34m\u001b[0m\u001b[0m\n\u001b[1;32m    536\u001b[0m \u001b[0;34m\u001b[0m\u001b[0m\n",
      "\u001b[0;32m/Library/Frameworks/Python.framework/Versions/3.6/lib/python3.6/site-packages/requests/models.py\u001b[0m in \u001b[0;36mraise_for_status\u001b[0;34m(self)\u001b[0m\n\u001b[1;32m    933\u001b[0m \u001b[0;34m\u001b[0m\u001b[0m\n\u001b[1;32m    934\u001b[0m         \u001b[0;32mif\u001b[0m \u001b[0mhttp_error_msg\u001b[0m\u001b[0;34m:\u001b[0m\u001b[0;34m\u001b[0m\u001b[0;34m\u001b[0m\u001b[0m\n\u001b[0;32m--> 935\u001b[0;31m             \u001b[0;32mraise\u001b[0m \u001b[0mHTTPError\u001b[0m\u001b[0;34m(\u001b[0m\u001b[0mhttp_error_msg\u001b[0m\u001b[0;34m,\u001b[0m \u001b[0mresponse\u001b[0m\u001b[0;34m=\u001b[0m\u001b[0mself\u001b[0m\u001b[0;34m)\u001b[0m\u001b[0;34m\u001b[0m\u001b[0;34m\u001b[0m\u001b[0m\n\u001b[0m\u001b[1;32m    936\u001b[0m \u001b[0;34m\u001b[0m\u001b[0m\n\u001b[1;32m    937\u001b[0m     \u001b[0;32mdef\u001b[0m \u001b[0mclose\u001b[0m\u001b[0;34m(\u001b[0m\u001b[0mself\u001b[0m\u001b[0;34m)\u001b[0m\u001b[0;34m:\u001b[0m\u001b[0;34m\u001b[0m\u001b[0;34m\u001b[0m\u001b[0m\n",
      "\u001b[0;31mHTTPError\u001b[0m: 400 Client Error: BAD REQUEST for url: https://10.209.7.33:8080/api/v1/device-group/edge"
     ]
    }
   ],
   "source": [
    "dgs.devices = ['avro']\n",
    "hb.device_group.update(dgs)"
   ]
  },
  {
   "cell_type": "code",
   "execution_count": 54,
   "metadata": {},
   "outputs": [
    {
     "name": "stdout",
     "output_type": "stream",
     "text": [
      "{'authentication': None,\n",
      " 'description': None,\n",
      " 'device_group_name': 'edge',\n",
      " 'devices': ['vmx'],\n",
      " 'logging': None,\n",
      " 'native_gpb': None,\n",
      " 'notification': {},\n",
      " 'playbooks': [],\n",
      " 'raw_data': None,\n",
      " 'reports': [],\n",
      " 'retention_policy': None,\n",
      " 'scheduler': None,\n",
      " 'variable': None}\n"
     ]
    }
   ],
   "source": [
    "dgs = hb.device_group.get('edge')\n",
    "print(dgs)"
   ]
  },
  {
   "cell_type": "code",
   "execution_count": 55,
   "metadata": {},
   "outputs": [
    {
     "name": "stderr",
     "output_type": "stream",
     "text": [
      "{\n",
      "  \"detail\": \"Error in path /logging. 'iAgent' is not a valid key. Keys should start with @ or be the-ones defined in schema\",\n",
      "  \"status\": 400\n",
      "}\n",
      "\n"
     ]
    },
    {
     "name": "stdout",
     "output_type": "stream",
     "text": [
      "{'authentication': None,\n",
      " 'description': None,\n",
      " 'device_group_name': 'edge',\n",
      " 'devices': ['vmx'],\n",
      " 'logging': None,\n",
      " 'native_gpb': None,\n",
      " 'notification': {},\n",
      " 'playbooks': [],\n",
      " 'raw_data': None,\n",
      " 'reports': [],\n",
      " 'retention_policy': None,\n",
      " 'scheduler': None,\n",
      " 'variable': None}\n"
     ]
    },
    {
     "ename": "HTTPError",
     "evalue": "400 Client Error: BAD REQUEST for url: https://10.209.7.33:8080/api/v1/device-group/edge",
     "output_type": "error",
     "traceback": [
      "\u001b[0;31m---------------------------------------------------------------------------\u001b[0m",
      "\u001b[0;31mHTTPError\u001b[0m                                 Traceback (most recent call last)",
      "\u001b[0;32m<ipython-input-55-39d132263dc9>\u001b[0m in \u001b[0;36m<module>\u001b[0;34m\u001b[0m\n\u001b[1;32m      4\u001b[0m \u001b[0;32mfrom\u001b[0m \u001b[0mjnpr\u001b[0m\u001b[0;34m.\u001b[0m\u001b[0mhealthbot\u001b[0m \u001b[0;32mimport\u001b[0m \u001b[0mDevicegroupSchemaLogging\u001b[0m\u001b[0;34m\u001b[0m\u001b[0;34m\u001b[0m\u001b[0m\n\u001b[1;32m      5\u001b[0m \u001b[0mlogSchema\u001b[0m \u001b[0;34m=\u001b[0m \u001b[0mDevicegroupSchemaLogging\u001b[0m\u001b[0;34m(\u001b[0m\u001b[0;34m'warn'\u001b[0m\u001b[0;34m)\u001b[0m\u001b[0;34m\u001b[0m\u001b[0;34m\u001b[0m\u001b[0m\n\u001b[0;32m----> 6\u001b[0;31m \u001b[0mhb\u001b[0m\u001b[0;34m.\u001b[0m\u001b[0mdevice_group\u001b[0m\u001b[0;34m.\u001b[0m\u001b[0mupdate\u001b[0m\u001b[0;34m(\u001b[0m\u001b[0mdevice_group_name\u001b[0m\u001b[0;34m=\u001b[0m\u001b[0;34m'edge'\u001b[0m\u001b[0;34m,\u001b[0m \u001b[0mlogging\u001b[0m\u001b[0;34m=\u001b[0m\u001b[0mlogSchema\u001b[0m\u001b[0;34m)\u001b[0m\u001b[0;34m\u001b[0m\u001b[0;34m\u001b[0m\u001b[0m\n\u001b[0m",
      "\u001b[0;32m~/Coding/git.juniper.net.iceberg/healthbot-py-client/lib/jnpr/healthbot/modules/devices.py\u001b[0m in \u001b[0;36mupdate\u001b[0;34m(self, schema, **kwargs)\u001b[0m\n\u001b[1;32m    532\u001b[0m         \u001b[0;32mif\u001b[0m \u001b[0mresponse\u001b[0m\u001b[0;34m.\u001b[0m\u001b[0mstatus_code\u001b[0m \u001b[0;34m!=\u001b[0m \u001b[0;36m200\u001b[0m\u001b[0;34m:\u001b[0m\u001b[0;34m\u001b[0m\u001b[0;34m\u001b[0m\u001b[0m\n\u001b[1;32m    533\u001b[0m             \u001b[0mlogger\u001b[0m\u001b[0;34m.\u001b[0m\u001b[0merror\u001b[0m\u001b[0;34m(\u001b[0m\u001b[0mresponse\u001b[0m\u001b[0;34m.\u001b[0m\u001b[0mtext\u001b[0m\u001b[0;34m)\u001b[0m\u001b[0;34m\u001b[0m\u001b[0;34m\u001b[0m\u001b[0m\n\u001b[0;32m--> 534\u001b[0;31m         \u001b[0mresponse\u001b[0m\u001b[0;34m.\u001b[0m\u001b[0mraise_for_status\u001b[0m\u001b[0;34m(\u001b[0m\u001b[0;34m)\u001b[0m\u001b[0;34m\u001b[0m\u001b[0;34m\u001b[0m\u001b[0m\n\u001b[0m\u001b[1;32m    535\u001b[0m         \u001b[0;32mreturn\u001b[0m \u001b[0;32mTrue\u001b[0m\u001b[0;34m\u001b[0m\u001b[0;34m\u001b[0m\u001b[0m\n\u001b[1;32m    536\u001b[0m \u001b[0;34m\u001b[0m\u001b[0m\n",
      "\u001b[0;32m/Library/Frameworks/Python.framework/Versions/3.6/lib/python3.6/site-packages/requests/models.py\u001b[0m in \u001b[0;36mraise_for_status\u001b[0;34m(self)\u001b[0m\n\u001b[1;32m    933\u001b[0m \u001b[0;34m\u001b[0m\u001b[0m\n\u001b[1;32m    934\u001b[0m         \u001b[0;32mif\u001b[0m \u001b[0mhttp_error_msg\u001b[0m\u001b[0;34m:\u001b[0m\u001b[0;34m\u001b[0m\u001b[0;34m\u001b[0m\u001b[0m\n\u001b[0;32m--> 935\u001b[0;31m             \u001b[0;32mraise\u001b[0m \u001b[0mHTTPError\u001b[0m\u001b[0;34m(\u001b[0m\u001b[0mhttp_error_msg\u001b[0m\u001b[0;34m,\u001b[0m \u001b[0mresponse\u001b[0m\u001b[0;34m=\u001b[0m\u001b[0mself\u001b[0m\u001b[0;34m)\u001b[0m\u001b[0;34m\u001b[0m\u001b[0;34m\u001b[0m\u001b[0m\n\u001b[0m\u001b[1;32m    936\u001b[0m \u001b[0;34m\u001b[0m\u001b[0m\n\u001b[1;32m    937\u001b[0m     \u001b[0;32mdef\u001b[0m \u001b[0mclose\u001b[0m\u001b[0;34m(\u001b[0m\u001b[0mself\u001b[0m\u001b[0;34m)\u001b[0m\u001b[0;34m:\u001b[0m\u001b[0;34m\u001b[0m\u001b[0;34m\u001b[0m\u001b[0m\n",
      "\u001b[0;31mHTTPError\u001b[0m: 400 Client Error: BAD REQUEST for url: https://10.209.7.33:8080/api/v1/device-group/edge"
     ]
    }
   ],
   "source": [
    "# can also update by passing Device Group Schema kwargs\n",
    "dgs = hb.device_group.get('edge')\n",
    "pprint(dgs)\n",
    "from jnpr.healthbot import DevicegroupSchemaLogging\n",
    "logSchema = DevicegroupSchemaLogging('warn')\n",
    "hb.device_group.update(device_group_name='edge', logging=logSchema)"
   ]
  },
  {
   "cell_type": "code",
   "execution_count": 56,
   "metadata": {},
   "outputs": [],
   "source": [
    "### Delete device and device group"
   ]
  },
  {
   "cell_type": "code",
   "execution_count": 57,
   "metadata": {},
   "outputs": [
    {
     "name": "stderr",
     "output_type": "stream",
     "text": [
      "\n"
     ]
    },
    {
     "data": {
      "text/plain": [
       "True"
      ]
     },
     "execution_count": 57,
     "metadata": {},
     "output_type": "execute_result"
    }
   ],
   "source": [
    "hb.device_group.delete('edge')\n"
   ]
  },
  {
   "cell_type": "code",
   "execution_count": 58,
   "metadata": {},
   "outputs": [
    {
     "data": {
      "text/plain": [
       "True"
      ]
     },
     "execution_count": 58,
     "metadata": {},
     "output_type": "execute_result"
    }
   ],
   "source": [
    "hb.device.delete('demo')"
   ]
  },
  {
   "cell_type": "code",
   "execution_count": 59,
   "metadata": {},
   "outputs": [
    {
     "data": {
      "text/plain": [
       "True"
      ]
     },
     "execution_count": 59,
     "metadata": {},
     "output_type": "execute_result"
    }
   ],
   "source": [
    "# Lets commit all the changes\n",
    "hb.commit()"
   ]
  },
  {
   "cell_type": "markdown",
   "metadata": {},
   "source": [
    "### Add Network Group"
   ]
  },
  {
   "cell_type": "code",
   "execution_count": 60,
   "metadata": {},
   "outputs": [
    {
     "data": {
      "text/plain": [
       "True"
      ]
     },
     "execution_count": 60,
     "metadata": {},
     "output_type": "execute_result"
    }
   ],
   "source": [
    "hb.network_group.add(network_group_name=\"HbEZ\")"
   ]
  },
  {
   "cell_type": "code",
   "execution_count": 61,
   "metadata": {},
   "outputs": [
    {
     "name": "stderr",
     "output_type": "stream",
     "text": [
      "\n"
     ]
    },
    {
     "name": "stdout",
     "output_type": "stream",
     "text": [
      "{'description': None,\n",
      " 'logging': None,\n",
      " 'network_group_name': 'HbEZ',\n",
      " 'notification': {},\n",
      " 'playbooks': [],\n",
      " 'reports': [],\n",
      " 'scheduler': None,\n",
      " 'variable': None}\n"
     ]
    },
    {
     "data": {
      "text/plain": [
       "True"
      ]
     },
     "execution_count": 61,
     "metadata": {},
     "output_type": "execute_result"
    }
   ],
   "source": [
    "print(hb.network_group.get(network_group_name=\"HbEZ\"))\n",
    "hb.network_group.delete(network_group_name=\"HbEZ\")"
   ]
  },
  {
   "cell_type": "markdown",
   "metadata": {},
   "source": [
    "### Add Network Group using Schema"
   ]
  },
  {
   "cell_type": "code",
   "execution_count": 62,
   "metadata": {},
   "outputs": [],
   "source": [
    "from jnpr.healthbot import NetworkGroupSchema"
   ]
  },
  {
   "cell_type": "code",
   "execution_count": 63,
   "metadata": {},
   "outputs": [],
   "source": [
    "ngs = NetworkGroupSchema(network_group_name=\"HbEZ\")"
   ]
  },
  {
   "cell_type": "code",
   "execution_count": 64,
   "metadata": {},
   "outputs": [
    {
     "data": {
      "text/plain": [
       "True"
      ]
     },
     "execution_count": 64,
     "metadata": {},
     "output_type": "execute_result"
    }
   ],
   "source": [
    "hb.network_group.add(ngs)"
   ]
  },
  {
   "cell_type": "code",
   "execution_count": 65,
   "metadata": {},
   "outputs": [
    {
     "data": {
      "text/plain": [
       "{'description': None,\n",
       " 'logging': None,\n",
       " 'network_group_name': 'HbEZ',\n",
       " 'notification': {},\n",
       " 'playbooks': [],\n",
       " 'reports': [],\n",
       " 'scheduler': None,\n",
       " 'variable': None}"
      ]
     },
     "execution_count": 65,
     "metadata": {},
     "output_type": "execute_result"
    }
   ],
   "source": [
    "hb.network_group.get(network_group_name=\"HbEZ\")"
   ]
  },
  {
   "cell_type": "markdown",
   "metadata": {},
   "source": [
    "# Use Case: Rules"
   ]
  },
  {
   "cell_type": "code",
   "execution_count": 66,
   "metadata": {},
   "outputs": [
    {
     "data": {
      "text/plain": [
       "{'description': 'Monitors ospf related distributed denial of service '\n",
       "                'statistics',\n",
       " 'field': [{'constant': {'value': '{{ddos-arrival-rate-threshold}}'},\n",
       "            'description': 'This field is for ddos arive rate threshold',\n",
       "            'field-name': 'ddos-arrival-rate-threshold'},\n",
       "           {'constant': {'value': '{{ddos-drop-count-threshold}}'},\n",
       "            'description': 'This field is for ddos drop count threshold',\n",
       "            'field-name': 'ddos-drop-count-threshold'},\n",
       "           {'constant': {'value': '{{ddos-drop-rate-threshold}}'},\n",
       "            'description': 'This field is for ddos drop rate threshold',\n",
       "            'field-name': 'ddos-drop-rate-threshold'}],\n",
       " 'function': None,\n",
       " 'keys': ['group-name', 'protocol-states-locale'],\n",
       " 'network_rule': None,\n",
       " 'rule_frequency': None,\n",
       " 'rule_name': 'check-ddos-statistics',\n",
       " 'rule_properties': {'catalogue': {'tier': '1'},\n",
       "                     'contributor': 'juniper',\n",
       "                     'helper-files': [{'file-type': 'other',\n",
       "                                       'list-of-files': ['ddos-statistics.yml']}],\n",
       "                     'supported-devices': {'juniper': {'operating-system': [{'os-name': 'junos',\n",
       "                                                                             'products': [{'product-name': 'ACX',\n",
       "                                                                                           'releases': [{'platform': ['All'],\n",
       "                                                                                                         'release-name': '15.2R1',\n",
       "                                                                                                         'release-support': 'min-supported-release'}]},\n",
       "                                                                                          {'product-name': 'EX',\n",
       "                                                                                           'releases': [{'platform': ['All'],\n",
       "                                                                                                         'release-name': '15.2R1',\n",
       "                                                                                                         'release-support': 'min-supported-release'}]},\n",
       "                                                                                          {'product-name': 'MX',\n",
       "                                                                                           'releases': [{'platform': ['All'],\n",
       "                                                                                                         'release-name': '15.2R1',\n",
       "                                                                                                         'release-support': 'min-supported-release'}]},\n",
       "                                                                                          {'product-name': 'PTX',\n",
       "                                                                                           'releases': [{'platform': ['All'],\n",
       "                                                                                                         'release-name': '15.2R1',\n",
       "                                                                                                         'release-support': 'min-supported-release'}]},\n",
       "                                                                                          {'product-name': 'QFX',\n",
       "                                                                                           'releases': [{'platform': ['All'],\n",
       "                                                                                                         'release-name': '15.2R1',\n",
       "                                                                                                         'release-support': 'min-supported-release'}]},\n",
       "                                                                                          {'product-name': 'SRX',\n",
       "                                                                                           'releases': [{'platform': ['All'],\n",
       "                                                                                                         'release-name': '15.2R1',\n",
       "                                                                                                         'release-support': 'min-supported-release'}]}]}]}},\n",
       "                     'supported-healthbot-version': '1.0.1',\n",
       "                     'version': 2},\n",
       " 'sensor': [{'description': 'Netconf rpc get-ddos-ospf-information iAgent '\n",
       "                            'sensor to collect telemetry data from network '\n",
       "                            'device',\n",
       "             'iAgent': {'file': 'ddos-statistics.yml',\n",
       "                        'frequency': '60s',\n",
       "                        'table': 'ddosStats'},\n",
       "             'sensor-name': 'ddosstats',\n",
       "             'synopsis': 'ddos statistics sensor definition'}],\n",
       " 'synopsis': 'OSPF distributed denial of service statistics analyzer',\n",
       " 'trigger': [{'description': 'Sets health based on DDOS packet drop rate',\n",
       "              'frequency': '60s',\n",
       "              'synopsis': 'DDOS packet drops kpi',\n",
       "              'term': [{'term-name': 'is-ddos-drops-increasing',\n",
       "                        'then': {'status': {'color': 'red',\n",
       "                                            'message': 'DDOS packet drops '\n",
       "                                                       '($dropped-packets) '\n",
       "                                                       'increasing'}},\n",
       "                        'when': {'min-rate-of-increase': [{'field-name': '$dropped-packets',\n",
       "                                                           'rate': '$ddos-drop-rate-threshold',\n",
       "                                                           'time-range': '5m'}]}},\n",
       "                       {'term-name': 'are-ddos-drops-over-threshold',\n",
       "                        'then': {'status': {'color': 'yellow',\n",
       "                                            'message': 'DDOS packet drops '\n",
       "                                                       '($dropped-packets) '\n",
       "                                                       'over threshold '\n",
       "                                                       '($ddos-drop-count-threshold)'}},\n",
       "                        'when': {'greater-than': [{'left-operand': '$dropped-packets',\n",
       "                                                   'right-operand': '$ddos-drop-count-threshold'}]}},\n",
       "                       {'term-name': 'ddos-drops-not-increasing',\n",
       "                        'then': {'status': {'color': 'green'}}}],\n",
       "              'trigger-name': 'ddos-drops'},\n",
       "             {'description': 'Sets health based on DDOS packet arrival rate',\n",
       "              'frequency': '60s',\n",
       "              'synopsis': 'DDOS packet arrival kpi',\n",
       "              'term': [{'term-name': 'is-max-packet-arrival-rate-greater-than-threshold',\n",
       "                        'then': {'status': {'color': 'yellow',\n",
       "                                            'message': 'DDOS packet max '\n",
       "                                                       'arrival rate is over '\n",
       "                                                       'threshold '\n",
       "                                                       '($ddos-arrival-rate-threshold)'}},\n",
       "                        'when': {'greater-than-or-equal-to': [{'left-operand': '$packet-arrival-rate-max',\n",
       "                                                               'right-operand': '$ddos-arrival-rate-threshold'}]}},\n",
       "                       {'term-name': 'max-packet-arrival-rate-less-than-threshold',\n",
       "                        'then': {'status': {'color': 'green'}}}],\n",
       "              'trigger-name': 'ddos-packet-arrival-rate'},\n",
       "             {'description': 'Sets health based on DDOS packet drop others',\n",
       "              'frequency': '60s',\n",
       "              'synopsis': 'DDOS packet drop other kpi',\n",
       "              'term': [{'term-name': 'is-ddos-packet-dropped-others-increasing',\n",
       "                        'then': {'status': {'color': 'red',\n",
       "                                            'message': 'DDOS packet dropped '\n",
       "                                                       'others '\n",
       "                                                       '($dropped-packets-others) '\n",
       "                                                       'increasing'}},\n",
       "                        'when': {'min-rate-of-increase': [{'field-name': '$dropped-packets-others',\n",
       "                                                           'rate': '$ddos-drop-rate-threshold',\n",
       "                                                           'time-range': '5m'}]}},\n",
       "                       {'term-name': 'is-ddos-packet-drop-others-over-threshold',\n",
       "                        'then': {'status': {'color': 'yellow',\n",
       "                                            'message': 'DDOS packet dropped '\n",
       "                                                       'others '\n",
       "                                                       '($dropped-packets-others) '\n",
       "                                                       'over threshold '\n",
       "                                                       '($ddos-drop-count-threshold)'}},\n",
       "                        'when': {'greater-than': [{'left-operand': '$dropped-packets-others',\n",
       "                                                   'right-operand': '$ddos-drop-count-threshold'}]}},\n",
       "                       {'term-name': 'ddos-packet-drop-others-not-increasing',\n",
       "                        'then': {'status': {'color': 'green'}}}],\n",
       "              'trigger-name': 'ddos-packet-dropped-others'}],\n",
       " 'variable': [{'description': 'DDOS arrival rate threshold value',\n",
       "               'name': 'ddos-arrival-rate-threshold',\n",
       "               'type': 'int',\n",
       "               'value': '1000'},\n",
       "              {'description': 'DDOS drop count threshold value',\n",
       "               'name': 'ddos-drop-count-threshold',\n",
       "               'type': 'int',\n",
       "               'value': '0'},\n",
       "              {'description': 'DDOS drop rate threshold value',\n",
       "               'name': 'ddos-drop-rate-threshold',\n",
       "               'type': 'int',\n",
       "               'value': '1'}],\n",
       " 'vector': None}"
      ]
     },
     "execution_count": 66,
     "metadata": {},
     "output_type": "execute_result"
    }
   ],
   "source": [
    "hb.rule.get('linecard.ospf', 'check-ddos-statistics')"
   ]
  },
  {
   "cell_type": "markdown",
   "metadata": {},
   "source": [
    "### Add new rule"
   ]
  },
  {
   "cell_type": "code",
   "execution_count": 67,
   "metadata": {},
   "outputs": [],
   "source": [
    "from jnpr.healthbot.modules.rules import RuleSchema\n",
    "rs = RuleSchema(rule_name=\"hbez-fpc-heap-utilization\")"
   ]
  },
  {
   "cell_type": "markdown",
   "metadata": {},
   "source": [
    "### setting rule schema params"
   ]
  },
  {
   "cell_type": "code",
   "execution_count": 68,
   "metadata": {},
   "outputs": [],
   "source": [
    "rs.description = \"HealthBot EZ example\"\n",
    "rs.synopsis = \"Using python client for demo\"\n",
    "rs.sensor = [{'description': 'Monitors FPC buffer, heap and cpu utilization',\n",
    "             'iAgent': {'file': 'fpc-utilization.yml',\n",
    "                        'frequency': '30s',\n",
    "                        'table': 'FPCCPUHEAPutilizationTable'},\n",
    "             'sensor_name': 'fpccpuheaputilization'}]"
   ]
  },
  {
   "cell_type": "code",
   "execution_count": 69,
   "metadata": {},
   "outputs": [],
   "source": [
    "rs.field = [{'constant': {'value': '{{fpc-buffer-usage-threshold}}'},\n",
    "            'description': 'This field is for buffer usage threshold',\n",
    "            'field_name': 'linecard-buffer-usage-threshold'},\n",
    "           {'constant': {'value': '{{fpc-cpu-usage-threshold}}'},\n",
    "            'description': 'This field is for linecard cpu usage threshold',\n",
    "            'field_name': 'linecard-cpu-usage-threshold'},\n",
    "           {'constant': {'value': '{{fpc-heap-usage-threshold}}'},\n",
    "            'description': 'This field is for linecard heap usage threshold',\n",
    "            'field_name': 'linecard-heap-usage-threshold'}]\n",
    "rs.keys = ['slot']"
   ]
  },
  {
   "cell_type": "code",
   "execution_count": 70,
   "metadata": {},
   "outputs": [],
   "source": [
    "rs.variable = [{'description': 'Linecard Buffer Memory usage threshold value',\n",
    "               'name': 'fpc-buffer-usage-threshold',\n",
    "               'type': 'int',\n",
    "               'value': '80'},\n",
    "              {'description': 'Linecard CPU usage threshold value',\n",
    "               'name': 'fpc-cpu-usage-threshold',\n",
    "               'type': 'int',\n",
    "               'value': '80'},\n",
    "              {'description': 'Linecard Heap Memory usage threshold value',\n",
    "               'name': 'fpc-heap-usage-threshold',\n",
    "               'type': 'int',\n",
    "               'value': '80'}]"
   ]
  },
  {
   "cell_type": "code",
   "execution_count": 71,
   "metadata": {},
   "outputs": [],
   "source": [
    "rs.trigger = [{'description': 'Sets health based on linecard buffer memory',\n",
    "              'frequency': '60s',\n",
    "              'synopsis': 'Linecard buffer memory kpi',\n",
    "              'term': [{'term_name': 'is-buffer-memory-utilization-greater-than-threshold',\n",
    "                        'then': {'status': {'color': 'red',\n",
    "                                            'message': 'FPC buffer memory '\n",
    "                                                       'utilization '\n",
    "                                                       '($memory-buffer-utilization) '\n",
    "                                                       'is over threshold '\n",
    "                                                       '($linecard-buffer-usage-threshold)'}},\n",
    "                        'when': {'greater_than': [{'left_operand': '$memory-buffer-utilization',\n",
    "                                                   'right_operand': '$linecard-buffer-usage-threshold'}]}},\n",
    "                       {'term_name': 'buffer-utilization-less-than-threshold',\n",
    "                        'then': {'status': {'color': 'green'}}}],\n",
    "              'trigger_name': 'fpc-buffer-memory-utilization'},\n",
    "             {'description': 'Sets health based on linecard cpu utilization',\n",
    "              'frequency': '60s',\n",
    "              'synopsis': 'Linecard cpu utilization kpi',\n",
    "              'term': [{'term_name': 'is-cpu-utilization-greater-than-80',\n",
    "                        'then': {'status': {'color': 'red',\n",
    "                                            'message': 'FPC CPU utilization '\n",
    "                                                       '($cpu-total) is over '\n",
    "                                                       'threshold '\n",
    "                                                       '($linecard-cpu-usage-threshold)'}},\n",
    "                        'when': {'greater_than': [{'left_operand': '$cpu-total',\n",
    "                                                   'right_operand': '$linecard-cpu-usage-threshold',\n",
    "                                                   'time_range': '180s'}]}},\n",
    "                       {'term_name': 'cpu-utilization-less-than-threshold',\n",
    "                        'then': {'status': {'color': 'green'}}}],\n",
    "              'trigger_name': 'fpc-cpu-utilization'},\n",
    "             {'description': 'Sets health based on linecard heap memory '\n",
    "                             'utilization',\n",
    "              'frequency': '60s',\n",
    "              'synopsis': 'Linecard heap memory kpi',\n",
    "              'term': [{'term_name': 'is-heap-memory-utilization-greater-than-threshold',\n",
    "                        'then': {'status': {'color': 'red',\n",
    "                                            'message': 'FPC heap memory '\n",
    "                                                       'utilization '\n",
    "                                                       '($memory-heap-utilization) '\n",
    "                                                       'is over threshold '\n",
    "                                                       '($linecard-heap-usage-threshold)'}},\n",
    "                        'when': {'greater_than': [{'left_operand': '$memory-heap-utilization',\n",
    "                                                   'right_operand': '$linecard-heap-usage-threshold'}]}},\n",
    "                       {'term_name': 'heap-memory-utilization-less-than-threshold',\n",
    "                        'then': {'status': {'color': 'green'}}}],\n",
    "              'trigger_name': 'fpc-heap-memory-utilization'}]"
   ]
  },
  {
   "cell_type": "markdown",
   "metadata": {},
   "source": [
    "### If the topic name is not present, first it will create given topic"
   ]
  },
  {
   "cell_type": "code",
   "execution_count": 72,
   "metadata": {},
   "outputs": [
    {
     "data": {
      "text/plain": [
       "True"
      ]
     },
     "execution_count": 72,
     "metadata": {},
     "output_type": "execute_result"
    }
   ],
   "source": [
    "hb.rule.add('hbez', schema=rs)"
   ]
  },
  {
   "cell_type": "code",
   "execution_count": 73,
   "metadata": {},
   "outputs": [],
   "source": [
    "# hb.rules.delete_rule(topic_name='external', rule_name=\"hbez-fpc-heap-utilization\")"
   ]
  },
  {
   "cell_type": "markdown",
   "metadata": {},
   "source": [
    "# Use Case: Playbooks"
   ]
  },
  {
   "cell_type": "code",
   "execution_count": 74,
   "metadata": {},
   "outputs": [
    {
     "name": "stdout",
     "output_type": "stream",
     "text": [
      "{'description': 'Playbook checks linecard health i.e. cpu, memory and CM '\n",
      "                'errors',\n",
      " 'playbook_name': 'linecard-kpis-playbook',\n",
      " 'rules': ['linecard.cm-events/check-cm-events',\n",
      "           'linecard.fpc/check-fpc-cpu',\n",
      "           'linecard.fpc/check-fpc-memory'],\n",
      " 'synopsis': 'Linecards key performance indicators'}\n"
     ]
    }
   ],
   "source": [
    "pprint(hb.playbook.get('linecard-kpis-playbook'))"
   ]
  },
  {
   "cell_type": "code",
   "execution_count": 75,
   "metadata": {},
   "outputs": [],
   "source": [
    "from jnpr.healthbot.modules.playbooks import PlaybookSchema"
   ]
  },
  {
   "cell_type": "code",
   "execution_count": 76,
   "metadata": {},
   "outputs": [],
   "source": [
    "pbs = PlaybookSchema(playbook_name=\"HbEZ-example\")"
   ]
  },
  {
   "cell_type": "code",
   "execution_count": 77,
   "metadata": {},
   "outputs": [],
   "source": [
    "pbs.description = \"HbEZ Demo Examples\"\n",
    "pbs.synopsis = 'fpc status'"
   ]
  },
  {
   "cell_type": "code",
   "execution_count": 78,
   "metadata": {},
   "outputs": [],
   "source": [
    "pbs.rules = ['hbez/hbez-fpc-heap-utilization']"
   ]
  },
  {
   "cell_type": "code",
   "execution_count": 79,
   "metadata": {},
   "outputs": [
    {
     "data": {
      "text/plain": [
       "True"
      ]
     },
     "execution_count": 79,
     "metadata": {},
     "output_type": "execute_result"
    }
   ],
   "source": [
    "hb.playbook.add(pbs)"
   ]
  },
  {
   "cell_type": "code",
   "execution_count": 80,
   "metadata": {},
   "outputs": [
    {
     "name": "stderr",
     "output_type": "stream",
     "text": [
      "\n"
     ]
    },
    {
     "data": {
      "text/plain": [
       "True"
      ]
     },
     "execution_count": 80,
     "metadata": {},
     "output_type": "execute_result"
    }
   ],
   "source": [
    "hb.playbook.delete(playbook_name=\"HbEZ-example\")"
   ]
  },
  {
   "cell_type": "markdown",
   "metadata": {},
   "source": [
    "# Use Case: Health"
   ]
  },
  {
   "cell_type": "code",
   "execution_count": 85,
   "metadata": {},
   "outputs": [
    {
     "name": "stdout",
     "output_type": "stream",
     "text": [
      "{'children': [{'children': [{'children': [], 'name': 'external'}],\n",
      "               'name': 'real'},\n",
      "              {'children': [{'children': [], 'name': 'interface.statistics'},\n",
      "                            {'children': [], 'name': 'linecard.fpc'},\n",
      "                            {'children': [{'children': [{'color': 'green',\n",
      "                                                         'data': '',\n",
      "                                                         'name': 'ddos-drops',\n",
      "                                                         'timestamp': '2019-08-28T04:28:04Z'},\n",
      "                                                        {'color': 'green',\n",
      "                                                         'data': '',\n",
      "                                                         'name': 'ddos-packet-arrival-rate',\n",
      "                                                         'timestamp': '2019-08-28T04:28:05Z'},\n",
      "                                                        {'color': 'green',\n",
      "                                                         'data': '',\n",
      "                                                         'name': 'ddos-packet-dropped-others',\n",
      "                                                         'timestamp': '2019-08-28T04:28:04Z'}],\n",
      "                                           'color': 'green',\n",
      "                                           'name': '_instance_id: [\"test1\"], '\n",
      "                                                   '_playbook_name: '\n",
      "                                                   'rca-ospf-playbook, '\n",
      "                                                   'group-name: OSPF, '\n",
      "                                                   'protocol-states-locale: '\n",
      "                                                   'Routing Engine'}],\n",
      "                             'color': 'green',\n",
      "                             'name': 'linecard.ospf'},\n",
      "                            {'children': [], 'name': 'linecard.statistics'},\n",
      "                            {'children': [{'children': [{'color': 'red',\n",
      "                                                         'data': 'Host abc not '\n",
      "                                                                 'reachable',\n",
      "                                                         'name': 'packet-loss',\n",
      "                                                         'timestamp': '2019-08-28T04:28:04Z'},\n",
      "                                                        {'color': 'green',\n",
      "                                                         'data': 'Round trip '\n",
      "                                                                 'time($rtt-average-ms '\n",
      "                                                                 'ms) to abc '\n",
      "                                                                 'is normal',\n",
      "                                                         'name': 'round-trip-time',\n",
      "                                                         'timestamp': '2019-08-28T04:28:04Z'}],\n",
      "                                           'color': 'red',\n",
      "                                           'name': '_instance_id: [\"set1\"], '\n",
      "                                                   '_playbook_name: '\n",
      "                                                   'icmp-probe, host: abc'}],\n",
      "                             'color': 'red',\n",
      "                             'name': 'protocol.icmp'},\n",
      "                            {'children': [{'children': [{'color': 'green',\n",
      "                                                         'data': 'Routing '\n",
      "                                                                 'Protocol '\n",
      "                                                                 'Daemon in '\n",
      "                                                                 'user task '\n",
      "                                                                 'memory (0) '\n",
      "                                                                 'lower than '\n",
      "                                                                 'configured '\n",
      "                                                                 'threshold(80)',\n",
      "                                                         'name': 'percentage-of-task-memory-in-use',\n",
      "                                                         'timestamp': '2019-08-28T04:28:04Z'}],\n",
      "                                           'color': 'green',\n",
      "                                           'name': '_instance_id: [\"test1\"], '\n",
      "                                                   '_playbook_name: '\n",
      "                                                   'rca-ospf-playbook, '\n",
      "                                                   'task-memory-overall-report: '},\n",
      "                                          {'children': [{'color': 'green',\n",
      "                                                         'data': '',\n",
      "                                                         'name': 'task-io-drops',\n",
      "                                                         'timestamp': '2019-08-28T04:28:00Z'}],\n",
      "                                           'color': 'green',\n",
      "                                           'name': '_instance_id: [\"test1\"], '\n",
      "                                                   '_playbook_name: '\n",
      "                                                   'rca-ospf-playbook, '\n",
      "                                                   'task-name: tai'},\n",
      "                                          {'children': [{'color': 'green',\n",
      "                                                         'data': '',\n",
      "                                                         'name': 'task-io-drops',\n",
      "                                                         'timestamp': '2019-08-28T04:28:00Z'}],\n",
      "                                           'color': 'green',\n",
      "                                           'name': '_instance_id: [\"test1\"], '\n",
      "                                                   '_playbook_name: '\n",
      "                                                   'rca-ospf-playbook, '\n",
      "                                                   'task-name: srte'},\n",
      "                                          {'children': [{'color': 'green',\n",
      "                                                         'data': '',\n",
      "                                                         'name': 'task-io-drops',\n",
      "                                                         'timestamp': '2019-08-28T04:28:00Z'}],\n",
      "                                           'color': 'green',\n",
      "                                           'name': '_instance_id: [\"test1\"], '\n",
      "                                                   '_playbook_name: '\n",
      "                                                   'rca-ospf-playbook, '\n",
      "                                                   'task-name: '\n",
      "                                                   'rt-export-service'},\n",
      "                                          {'children': [{'color': 'green',\n",
      "                                                         'data': '',\n",
      "                                                         'name': 'task-io-drops',\n",
      "                                                         'timestamp': '2019-08-28T04:28:00Z'}],\n",
      "                                           'color': 'green',\n",
      "                                           'name': '_instance_id: [\"test1\"], '\n",
      "                                                   '_playbook_name: '\n",
      "                                                   'rca-ospf-playbook, '\n",
      "                                                   'task-name: mvpn global '\n",
      "                                                   'task'},\n",
      "                                          {'children': [{'color': 'green',\n",
      "                                                         'data': '',\n",
      "                                                         'name': 'task-io-drops',\n",
      "                                                         'timestamp': '2019-08-28T04:28:00Z'}],\n",
      "                                           'color': 'green',\n",
      "                                           'name': '_instance_id: [\"test1\"], '\n",
      "                                                   '_playbook_name: '\n",
      "                                                   'rca-ospf-playbook, '\n",
      "                                                   'task-name: l2vpn global '\n",
      "                                                   'task'},\n",
      "                                          {'children': [{'color': 'green',\n",
      "                                                         'data': '',\n",
      "                                                         'name': 'task-io-drops',\n",
      "                                                         'timestamp': '2019-08-28T04:28:00Z'}],\n",
      "                                           'color': 'green',\n",
      "                                           'name': '_instance_id: [\"test1\"], '\n",
      "                                                   '_playbook_name: '\n",
      "                                                   'rca-ospf-playbook, '\n",
      "                                                   'task-name: krtio-th'},\n",
      "                                          {'children': [{'color': 'green',\n",
      "                                                         'data': '',\n",
      "                                                         'name': 'task-io-drops',\n",
      "                                                         'timestamp': '2019-08-28T04:28:00Z'}],\n",
      "                                           'color': 'green',\n",
      "                                           'name': '_instance_id: [\"test1\"], '\n",
      "                                                   '_playbook_name: '\n",
      "                                                   'rca-ospf-playbook, '\n",
      "                                                   'task-name: krtio'},\n",
      "                                          {'children': [{'color': 'green',\n",
      "                                                         'data': '',\n",
      "                                                         'name': 'task-io-drops',\n",
      "                                                         'timestamp': '2019-08-28T04:28:00Z'}],\n",
      "                                           'color': 'green',\n",
      "                                           'name': '_instance_id: [\"test1\"], '\n",
      "                                                   '_playbook_name: '\n",
      "                                                   'rca-ospf-playbook, '\n",
      "                                                   'task-name: krt unsolic '\n",
      "                                                   'client'},\n",
      "                                          {'children': [{'color': 'yellow',\n",
      "                                                         'data': 'Task IO '\n",
      "                                                                 'drops (3) '\n",
      "                                                                 'non-zero',\n",
      "                                                         'name': 'task-io-drops',\n",
      "                                                         'timestamp': '2019-08-28T04:28:00Z'}],\n",
      "                                           'color': 'yellow',\n",
      "                                           'name': '_instance_id: [\"test1\"], '\n",
      "                                                   '_playbook_name: '\n",
      "                                                   'rca-ospf-playbook, '\n",
      "                                                   'task-name: krt solic '\n",
      "                                                   'client JUNOS'},\n",
      "                                          {'children': [{'color': 'green',\n",
      "                                                         'data': '',\n",
      "                                                         'name': 'task-io-drops',\n",
      "                                                         'timestamp': '2019-08-28T04:28:00Z'}],\n",
      "                                           'color': 'green',\n",
      "                                           'name': '_instance_id: [\"test1\"], '\n",
      "                                                   '_playbook_name: '\n",
      "                                                   'rca-ospf-playbook, '\n",
      "                                                   'task-name: krt ioth solic '\n",
      "                                                   'client'},\n",
      "                                          {'children': [{'color': 'green',\n",
      "                                                         'data': '',\n",
      "                                                         'name': 'task-io-drops',\n",
      "                                                         'timestamp': '2019-08-28T04:28:00Z'}],\n",
      "                                           'color': 'green',\n",
      "                                           'name': '_instance_id: [\"test1\"], '\n",
      "                                                   '_playbook_name: '\n",
      "                                                   'rca-ospf-playbook, '\n",
      "                                                   'task-name: hakr'},\n",
      "                                          {'children': [{'color': 'green',\n",
      "                                                         'data': '',\n",
      "                                                         'name': 'task-io-drops',\n",
      "                                                         'timestamp': '2019-08-28T04:28:00Z'}],\n",
      "                                           'color': 'green',\n",
      "                                           'name': '_instance_id: [\"test1\"], '\n",
      "                                                   '_playbook_name: '\n",
      "                                                   'rca-ospf-playbook, '\n",
      "                                                   'task-name: community_task'},\n",
      "                                          {'children': [{'color': 'green',\n",
      "                                                         'data': '',\n",
      "                                                         'name': 'task-io-drops',\n",
      "                                                         'timestamp': '2019-08-28T04:28:00Z'}],\n",
      "                                           'color': 'green',\n",
      "                                           'name': '_instance_id: [\"test1\"], '\n",
      "                                                   '_playbook_name: '\n",
      "                                                   'rca-ospf-playbook, '\n",
      "                                                   'task-name: '\n",
      "                                                   'block-id-vt-subunit-vpls'},\n",
      "                                          {'children': [{'color': 'green',\n",
      "                                                         'data': '',\n",
      "                                                         'name': 'task-io-drops',\n",
      "                                                         'timestamp': '2019-08-28T04:28:00Z'}],\n",
      "                                           'color': 'green',\n",
      "                                           'name': '_instance_id: [\"test1\"], '\n",
      "                                                   '_playbook_name: '\n",
      "                                                   'rca-ospf-playbook, '\n",
      "                                                   'task-name: '\n",
      "                                                   'block-id-vt-subunit-protection'},\n",
      "                                          {'children': [{'color': 'green',\n",
      "                                                         'data': '',\n",
      "                                                         'name': 'task-io-drops',\n",
      "                                                         'timestamp': '2019-08-28T04:28:00Z'}],\n",
      "                                           'color': 'green',\n",
      "                                           'name': '_instance_id: [\"test1\"], '\n",
      "                                                   '_playbook_name: '\n",
      "                                                   'rca-ospf-playbook, '\n",
      "                                                   'task-name: '\n",
      "                                                   'block-id-ud-subunit-amt'},\n",
      "                                          {'children': [{'color': 'green',\n",
      "                                                         'data': '',\n",
      "                                                         'name': 'task-io-drops',\n",
      "                                                         'timestamp': '2019-08-28T04:28:00Z'}],\n",
      "                                           'color': 'green',\n",
      "                                           'name': '_instance_id: [\"test1\"], '\n",
      "                                                   '_playbook_name: '\n",
      "                                                   'rca-ospf-playbook, '\n",
      "                                                   'task-name: '\n",
      "                                                   'block-id-tag-global-label-bloc'},\n",
      "                                          {'children': [{'color': 'green',\n",
      "                                                         'data': '',\n",
      "                                                         'name': 'task-io-drops',\n",
      "                                                         'timestamp': '2019-08-28T04:28:00Z'}],\n",
      "                                           'color': 'green',\n",
      "                                           'name': '_instance_id: [\"test1\"], '\n",
      "                                                   '_playbook_name: '\n",
      "                                                   'rca-ospf-playbook, '\n",
      "                                                   'task-name: '\n",
      "                                                   'block-id-rsvp-state-id'},\n",
      "                                          {'children': [{'color': 'green',\n",
      "                                                         'data': '',\n",
      "                                                         'name': 'task-io-drops',\n",
      "                                                         'timestamp': '2019-08-28T04:28:00Z'}],\n",
      "                                           'color': 'green',\n",
      "                                           'name': '_instance_id: [\"test1\"], '\n",
      "                                                   '_playbook_name: '\n",
      "                                                   'rca-ospf-playbook, '\n",
      "                                                   'task-name: '\n",
      "                                                   'block-id-lsi-subunit-vrf'},\n",
      "                                          {'children': [{'color': 'green',\n",
      "                                                         'data': '',\n",
      "                                                         'name': 'task-io-drops',\n",
      "                                                         'timestamp': '2019-08-28T04:28:00Z'}],\n",
      "                                           'color': 'green',\n",
      "                                           'name': '_instance_id: [\"test1\"], '\n",
      "                                                   '_playbook_name: '\n",
      "                                                   'rca-ospf-playbook, '\n",
      "                                                   'task-name: '\n",
      "                                                   'block-id-lsi-subunit-vpls'},\n",
      "                                          {'children': [{'color': 'green',\n",
      "                                                         'data': '',\n",
      "                                                         'name': 'task-io-drops',\n",
      "                                                         'timestamp': '2019-08-28T04:28:00Z'}],\n",
      "                                           'color': 'green',\n",
      "                                           'name': '_instance_id: [\"test1\"], '\n",
      "                                                   '_playbook_name: '\n",
      "                                                   'rca-ospf-playbook, '\n",
      "                                                   'task-name: '\n",
      "                                                   'block-id-lsi-label-vrf'},\n",
      "                                          {'children': [{'color': 'green',\n",
      "                                                         'data': '',\n",
      "                                                         'name': 'task-io-drops',\n",
      "                                                         'timestamp': '2019-08-28T04:28:00Z'}],\n",
      "                                           'color': 'green',\n",
      "                                           'name': '_instance_id: [\"test1\"], '\n",
      "                                                   '_playbook_name: '\n",
      "                                                   'rca-ospf-playbook, '\n",
      "                                                   'task-name: '\n",
      "                                                   'block-id-lsi-label-vpls'},\n",
      "                                          {'children': [{'color': 'green',\n",
      "                                                         'data': '',\n",
      "                                                         'name': 'task-io-drops',\n",
      "                                                         'timestamp': '2019-08-28T04:28:00Z'}],\n",
      "                                           'color': 'green',\n",
      "                                           'name': '_instance_id: [\"test1\"], '\n",
      "                                                   '_playbook_name: '\n",
      "                                                   'rca-ospf-playbook, '\n",
      "                                                   'task-name: '\n",
      "                                                   'block-id-lo-subunit-vrf'},\n",
      "                                          {'children': [{'color': 'green',\n",
      "                                                         'data': '',\n",
      "                                                         'name': 'task-io-drops',\n",
      "                                                         'timestamp': '2019-08-28T04:28:00Z'}],\n",
      "                                           'color': 'green',\n",
      "                                           'name': '_instance_id: [\"test1\"], '\n",
      "                                                   '_playbook_name: '\n",
      "                                                   'rca-ospf-playbook, '\n",
      "                                                   'task-name: Task License '\n",
      "                                                   'manager'},\n",
      "                                          {'children': [{'color': 'green',\n",
      "                                                         'data': '',\n",
      "                                                         'name': 'task-io-drops',\n",
      "                                                         'timestamp': '2019-08-28T04:28:00Z'}],\n",
      "                                           'color': 'green',\n",
      "                                           'name': '_instance_id: [\"test1\"], '\n",
      "                                                   '_playbook_name: '\n",
      "                                                   'rca-ospf-playbook, '\n",
      "                                                   'task-name: TED-master'},\n",
      "                                          {'children': [{'color': 'green',\n",
      "                                                         'data': '',\n",
      "                                                         'name': 'task-io-drops',\n",
      "                                                         'timestamp': '2019-08-28T04:28:00Z'}],\n",
      "                                           'color': 'green',\n",
      "                                           'name': '_instance_id: [\"test1\"], '\n",
      "                                                   '_playbook_name: '\n",
      "                                                   'rca-ospf-playbook, '\n",
      "                                                   'task-name: TED Global '\n",
      "                                                   'Task'},\n",
      "                                          {'children': [{'color': 'green',\n",
      "                                                         'data': '',\n",
      "                                                         'name': 'task-io-drops',\n",
      "                                                         'timestamp': '2019-08-28T04:28:00Z'}],\n",
      "                                           'color': 'green',\n",
      "                                           'name': '_instance_id: [\"test1\"], '\n",
      "                                                   '_playbook_name: '\n",
      "                                                   'rca-ospf-playbook, '\n",
      "                                                   'task-name: TE'},\n",
      "                                          {'children': [{'color': 'green',\n",
      "                                                         'data': '',\n",
      "                                                         'name': 'task-io-drops',\n",
      "                                                         'timestamp': '2019-08-28T04:28:00Z'}],\n",
      "                                           'color': 'green',\n",
      "                                           'name': '_instance_id: [\"test1\"], '\n",
      "                                                   '_playbook_name: '\n",
      "                                                   'rca-ospf-playbook, '\n",
      "                                                   'task-name: TCNH_TASK'},\n",
      "                                          {'children': [{'color': 'green',\n",
      "                                                         'data': '',\n",
      "                                                         'name': 'task-io-drops',\n",
      "                                                         'timestamp': '2019-08-28T04:28:00Z'}],\n",
      "                                           'color': 'green',\n",
      "                                           'name': '_instance_id: [\"test1\"], '\n",
      "                                                   '_playbook_name: '\n",
      "                                                   'rca-ospf-playbook, '\n",
      "                                                   'task-name: SNMP Subagent'},\n",
      "                                          {'children': [{'color': 'green',\n",
      "                                                         'data': '',\n",
      "                                                         'name': 'task-io-drops',\n",
      "                                                         'timestamp': '2019-08-28T04:28:00Z'}],\n",
      "                                           'color': 'green',\n",
      "                                           'name': '_instance_id: [\"test1\"], '\n",
      "                                                   '_playbook_name: '\n",
      "                                                   'rca-ospf-playbook, '\n",
      "                                                   'task-name: Rt Remote '\n",
      "                                                   'Flash'},\n",
      "                                          {'children': [{'color': 'green',\n",
      "                                                         'data': '',\n",
      "                                                         'name': 'task-io-drops',\n",
      "                                                         'timestamp': '2019-08-28T04:28:00Z'}],\n",
      "                                           'color': 'green',\n",
      "                                           'name': '_instance_id: [\"test1\"], '\n",
      "                                                   '_playbook_name: '\n",
      "                                                   'rca-ospf-playbook, '\n",
      "                                                   'task-name: Routing '\n",
      "                                                   'interface service'},\n",
      "                                          {'children': [{'color': 'green',\n",
      "                                                         'data': '',\n",
      "                                                         'name': 'task-io-drops',\n",
      "                                                         'timestamp': '2019-08-28T04:28:00Z'}],\n",
      "                                           'color': 'green',\n",
      "                                           'name': '_instance_id: [\"test1\"], '\n",
      "                                                   '_playbook_name: '\n",
      "                                                   'rca-ospf-playbook, '\n",
      "                                                   'task-name: '\n",
      "                                                   'Router-Advertisement'},\n",
      "                                          {'children': [{'color': 'green',\n",
      "                                                         'data': '',\n",
      "                                                         'name': 'task-io-drops',\n",
      "                                                         'timestamp': '2019-08-28T04:28:00Z'}],\n",
      "                                           'color': 'green',\n",
      "                                           'name': '_instance_id: [\"test1\"], '\n",
      "                                                   '_playbook_name: '\n",
      "                                                   'rca-ospf-playbook, '\n",
      "                                                   'task-name: Redirect'},\n",
      "                                          {'children': [{'color': 'green',\n",
      "                                                         'data': '',\n",
      "                                                         'name': 'task-io-drops',\n",
      "                                                         'timestamp': '2019-08-28T04:28:00Z'}],\n",
      "                                           'color': 'green',\n",
      "                                           'name': '_instance_id: [\"test1\"], '\n",
      "                                                   '_playbook_name: '\n",
      "                                                   'rca-ospf-playbook, '\n",
      "                                                   'task-name: RaaS Server'},\n",
      "                                          {'children': [{'color': 'green',\n",
      "                                                         'data': '',\n",
      "                                                         'name': 'task-io-drops',\n",
      "                                                         'timestamp': '2019-08-28T04:28:00Z'}],\n",
      "                                           'color': 'green',\n",
      "                                           'name': '_instance_id: [\"test1\"], '\n",
      "                                                   '_playbook_name: '\n",
      "                                                   'rca-ospf-playbook, '\n",
      "                                                   'task-name: RT'},\n",
      "                                          {'children': [{'color': 'green',\n",
      "                                                         'data': '',\n",
      "                                                         'name': 'task-io-drops',\n",
      "                                                         'timestamp': '2019-08-28T04:28:00Z'}],\n",
      "                                           'color': 'green',\n",
      "                                           'name': '_instance_id: [\"test1\"], '\n",
      "                                                   '_playbook_name: '\n",
      "                                                   'rca-ospf-playbook, '\n",
      "                                                   'task-name: RPD_TELEMETRY'},\n",
      "                                          {'children': [{'color': 'green',\n",
      "                                                         'data': '',\n",
      "                                                         'name': 'task-io-drops',\n",
      "                                                         'timestamp': '2019-08-28T04:28:00Z'}],\n",
      "                                           'color': 'green',\n",
      "                                           'name': '_instance_id: [\"test1\"], '\n",
      "                                                   '_playbook_name: '\n",
      "                                                   'rca-ospf-playbook, '\n",
      "                                                   'task-name: RPD_DREND'},\n",
      "                                          {'children': [{'color': 'green',\n",
      "                                                         'data': '',\n",
      "                                                         'name': 'task-io-drops',\n",
      "                                                         'timestamp': '2019-08-28T04:28:00Z'}],\n",
      "                                           'color': 'green',\n",
      "                                           'name': '_instance_id: [\"test1\"], '\n",
      "                                                   '_playbook_name: '\n",
      "                                                   'rca-ospf-playbook, '\n",
      "                                                   'task-name: RPD Unix Domain '\n",
      "                                                   'Server./var/ru'},\n",
      "                                          {'children': [{'color': 'green',\n",
      "                                                         'data': '',\n",
      "                                                         'name': 'task-io-drops',\n",
      "                                                         'timestamp': '2019-08-28T04:28:00Z'}],\n",
      "                                           'color': 'green',\n",
      "                                           'name': '_instance_id: [\"test1\"], '\n",
      "                                                   '_playbook_name: '\n",
      "                                                   'rca-ospf-playbook, '\n",
      "                                                   'task-name: RPD '\n",
      "                                                   'Server.0.0.0.0+666'},\n",
      "                                          {'children': [{'color': 'green',\n",
      "                                                         'data': '',\n",
      "                                                         'name': 'task-io-drops',\n",
      "                                                         'timestamp': '2019-08-28T04:28:00Z'}],\n",
      "                                           'color': 'green',\n",
      "                                           'name': '_instance_id: [\"test1\"], '\n",
      "                                                   '_playbook_name: '\n",
      "                                                   'rca-ospf-playbook, '\n",
      "                                                   'task-name: PRPD task'},\n",
      "                                          {'children': [{'color': 'green',\n",
      "                                                         'data': '',\n",
      "                                                         'name': 'task-io-drops',\n",
      "                                                         'timestamp': '2019-08-28T04:28:00Z'}],\n",
      "                                           'color': 'green',\n",
      "                                           'name': '_instance_id: [\"test1\"], '\n",
      "                                                   '_playbook_name: '\n",
      "                                                   'rca-ospf-playbook, '\n",
      "                                                   'task-name: PIM NSR'},\n",
      "                                          {'children': [{'color': 'green',\n",
      "                                                         'data': '',\n",
      "                                                         'name': 'task-io-drops',\n",
      "                                                         'timestamp': '2019-08-28T04:28:00Z'}],\n",
      "                                           'color': 'green',\n",
      "                                           'name': '_instance_id: [\"test1\"], '\n",
      "                                                   '_playbook_name: '\n",
      "                                                   'rca-ospf-playbook, '\n",
      "                                                   'task-name: PIM MT'},\n",
      "                                          {'children': [{'color': 'green',\n",
      "                                                         'data': '',\n",
      "                                                         'name': 'task-io-drops',\n",
      "                                                         'timestamp': '2019-08-28T04:28:00Z'}],\n",
      "                                           'color': 'green',\n",
      "                                           'name': '_instance_id: [\"test1\"], '\n",
      "                                                   '_playbook_name: '\n",
      "                                                   'rca-ospf-playbook, '\n",
      "                                                   'task-name: Mirror '\n",
      "                                                   'Listen.0.0.0.0+6156'},\n",
      "                                          {'children': [{'color': 'green',\n",
      "                                                         'data': '',\n",
      "                                                         'name': 'task-io-drops',\n",
      "                                                         'timestamp': '2019-08-28T04:28:00Z'}],\n",
      "                                           'color': 'green',\n",
      "                                           'name': '_instance_id: [\"test1\"], '\n",
      "                                                   '_playbook_name: '\n",
      "                                                   'rca-ospf-playbook, '\n",
      "                                                   'task-name: Memory'},\n",
      "                                          {'children': [{'color': 'green',\n",
      "                                                         'data': '',\n",
      "                                                         'name': 'task-io-drops',\n",
      "                                                         'timestamp': '2019-08-28T04:28:00Z'}],\n",
      "                                           'color': 'green',\n",
      "                                           'name': '_instance_id: [\"test1\"], '\n",
      "                                                   '_playbook_name: '\n",
      "                                                   'rca-ospf-playbook, '\n",
      "                                                   'task-name: MVPN NSR'},\n",
      "                                          {'children': [{'color': 'green',\n",
      "                                                         'data': '',\n",
      "                                                         'name': 'task-io-drops',\n",
      "                                                         'timestamp': '2019-08-28T04:28:00Z'}],\n",
      "                                           'color': 'green',\n",
      "                                           'name': '_instance_id: [\"test1\"], '\n",
      "                                                   '_playbook_name: '\n",
      "                                                   'rca-ospf-playbook, '\n",
      "                                                   'task-name: MVPN MIB'},\n",
      "                                          {'children': [{'color': 'yellow',\n",
      "                                                         'data': 'Task IO '\n",
      "                                                                 'drops (100) '\n",
      "                                                                 'non-zero',\n",
      "                                                         'name': 'task-io-drops',\n",
      "                                                         'timestamp': '2019-08-28T04:28:00Z'}],\n",
      "                                           'color': 'yellow',\n",
      "                                           'name': '_instance_id: [\"test1\"], '\n",
      "                                                   '_playbook_name: '\n",
      "                                                   'rca-ospf-playbook, '\n",
      "                                                   'task-name: MPLS_PM Proto '\n",
      "                                                   'I/O./var/run/ppm'},\n",
      "                                          {'children': [{'color': 'yellow',\n",
      "                                                         'data': 'Task IO '\n",
      "                                                                 'drops (146) '\n",
      "                                                                 'non-zero',\n",
      "                                                         'name': 'task-io-drops',\n",
      "                                                         'timestamp': '2019-08-28T04:28:00Z'}],\n",
      "                                           'color': 'yellow',\n",
      "                                           'name': '_instance_id: [\"test1\"], '\n",
      "                                                   '_playbook_name: '\n",
      "                                                   'rca-ospf-playbook, '\n",
      "                                                   'task-name: MPLSOAMD '\n",
      "                                                   'I/O./var/run/mplsoamd'},\n",
      "                                          {'children': [{'color': 'green',\n",
      "                                                         'data': '',\n",
      "                                                         'name': 'task-io-drops',\n",
      "                                                         'timestamp': '2019-08-28T04:28:00Z'}],\n",
      "                                           'color': 'green',\n",
      "                                           'name': '_instance_id: [\"test1\"], '\n",
      "                                                   '_playbook_name: '\n",
      "                                                   'rca-ospf-playbook, '\n",
      "                                                   'task-name: MPLS PM MODULE'},\n",
      "                                          {'children': [{'color': 'green',\n",
      "                                                         'data': '',\n",
      "                                                         'name': 'task-io-drops',\n",
      "                                                         'timestamp': '2019-08-28T04:28:00Z'}],\n",
      "                                           'color': 'green',\n",
      "                                           'name': '_instance_id: [\"test1\"], '\n",
      "                                                   '_playbook_name: '\n",
      "                                                   'rca-ospf-playbook, '\n",
      "                                                   'task-name: '\n",
      "                                                   'ML_SP.0.0.0.0+8503'},\n",
      "                                          {'children': [{'color': 'green',\n",
      "                                                         'data': '',\n",
      "                                                         'name': 'task-io-drops',\n",
      "                                                         'timestamp': '2019-08-28T04:28:00Z'}],\n",
      "                                           'color': 'green',\n",
      "                                           'name': '_instance_id: [\"test1\"], '\n",
      "                                                   '_playbook_name: '\n",
      "                                                   'rca-ospf-playbook, '\n",
      "                                                   'task-name: '\n",
      "                                                   'MGMT_Listen./var/run/rpd_mgmt'},\n",
      "                                          {'children': [{'color': 'green',\n",
      "                                                         'data': '',\n",
      "                                                         'name': 'task-io-drops',\n",
      "                                                         'timestamp': '2019-08-28T04:28:00Z'}],\n",
      "                                           'color': 'green',\n",
      "                                           'name': '_instance_id: [\"test1\"], '\n",
      "                                                   '_playbook_name: '\n",
      "                                                   'rca-ospf-playbook, '\n",
      "                                                   'task-name: MGMT.local'},\n",
      "                                          {'children': [{'color': 'green',\n",
      "                                                         'data': '',\n",
      "                                                         'name': 'task-io-drops',\n",
      "                                                         'timestamp': '2019-08-28T04:28:00Z'}],\n",
      "                                           'color': 'green',\n",
      "                                           'name': '_instance_id: [\"test1\"], '\n",
      "                                                   '_playbook_name: '\n",
      "                                                   'rca-ospf-playbook, '\n",
      "                                                   'task-name: MC SVCS '\n",
      "                                                   'Server./var/run/rpd_mc'},\n",
      "                                          {'children': [{'color': 'green',\n",
      "                                                         'data': '',\n",
      "                                                         'name': 'task-io-drops',\n",
      "                                                         'timestamp': '2019-08-28T04:28:00Z'}],\n",
      "                                           'color': 'green',\n",
      "                                           'name': '_instance_id: [\"test1\"], '\n",
      "                                                   '_playbook_name: '\n",
      "                                                   'rca-ospf-playbook, '\n",
      "                                                   'task-name: MC'},\n",
      "                                          {'children': [{'color': 'green',\n",
      "                                                         'data': '',\n",
      "                                                         'name': 'task-io-drops',\n",
      "                                                         'timestamp': '2019-08-28T04:28:00Z'}],\n",
      "                                           'color': 'green',\n",
      "                                           'name': '_instance_id: [\"test1\"], '\n",
      "                                                   '_playbook_name: '\n",
      "                                                   'rca-ospf-playbook, '\n",
      "                                                   'task-name: '\n",
      "                                                   'Libjapi-server-listener:[::]:4'},\n",
      "                                          {'children': [{'color': 'green',\n",
      "                                                         'data': '',\n",
      "                                                         'name': 'task-io-drops',\n",
      "                                                         'timestamp': '2019-08-28T04:28:00Z'}],\n",
      "                                           'color': 'green',\n",
      "                                           'name': '_instance_id: [\"test1\"], '\n",
      "                                                   '_playbook_name: '\n",
      "                                                   'rca-ospf-playbook, '\n",
      "                                                   'task-name: '\n",
      "                                                   'Libjapi-server-listener:(socka'},\n",
      "                                          {'children': [{'color': 'green',\n",
      "                                                         'data': '',\n",
      "                                                         'name': 'task-io-drops',\n",
      "                                                         'timestamp': '2019-08-28T04:28:00Z'}],\n",
      "                                           'color': 'green',\n",
      "                                           'name': '_instance_id: [\"test1\"], '\n",
      "                                                   '_playbook_name: '\n",
      "                                                   'rca-ospf-playbook, '\n",
      "                                                   'task-name: LMP Client'},\n",
      "                                          {'children': [{'color': 'green',\n",
      "                                                         'data': '',\n",
      "                                                         'name': 'task-io-drops',\n",
      "                                                         'timestamp': '2019-08-28T04:28:00Z'}],\n",
      "                                           'color': 'green',\n",
      "                                           'name': '_instance_id: [\"test1\"], '\n",
      "                                                   '_playbook_name: '\n",
      "                                                   'rca-ospf-playbook, '\n",
      "                                                   'task-name: L2IW'},\n",
      "                                          {'children': [{'color': 'green',\n",
      "                                                         'data': '',\n",
      "                                                         'name': 'task-io-drops',\n",
      "                                                         'timestamp': '2019-08-28T04:28:00Z'}],\n",
      "                                           'color': 'green',\n",
      "                                           'name': '_instance_id: [\"test1\"], '\n",
      "                                                   '_playbook_name: '\n",
      "                                                   'rca-ospf-playbook, '\n",
      "                                                   'task-name: KStat'},\n",
      "                                          {'children': [{'color': 'yellow',\n",
      "                                                         'data': 'Task IO '\n",
      "                                                                 'drops (2) '\n",
      "                                                                 'non-zero',\n",
      "                                                         'name': 'task-io-drops',\n",
      "                                                         'timestamp': '2019-08-28T04:28:00Z'}],\n",
      "                                           'color': 'yellow',\n",
      "                                           'name': '_instance_id: [\"test1\"], '\n",
      "                                                   '_playbook_name: '\n",
      "                                                   'rca-ospf-playbook, '\n",
      "                                                   'task-name: KRT_PURGE_TASK'},\n",
      "                                          {'children': [{'color': 'green',\n",
      "                                                         'data': '',\n",
      "                                                         'name': 'task-io-drops',\n",
      "                                                         'timestamp': '2019-08-28T04:28:00Z'}],\n",
      "                                           'color': 'green',\n",
      "                                           'name': '_instance_id: [\"test1\"], '\n",
      "                                                   '_playbook_name: '\n",
      "                                                   'rca-ospf-playbook, '\n",
      "                                                   'task-name: KRT IO task'},\n",
      "                                          {'children': [{'color': 'green',\n",
      "                                                         'data': '',\n",
      "                                                         'name': 'task-io-drops',\n",
      "                                                         'timestamp': '2019-08-28T04:28:00Z'}],\n",
      "                                           'color': 'green',\n",
      "                                           'name': '_instance_id: [\"test1\"], '\n",
      "                                                   '_playbook_name: '\n",
      "                                                   'rca-ospf-playbook, '\n",
      "                                                   'task-name: KRT IO'},\n",
      "                                          {'children': [{'color': 'green',\n",
      "                                                         'data': '',\n",
      "                                                         'name': 'task-io-drops',\n",
      "                                                         'timestamp': '2019-08-28T04:28:00Z'}],\n",
      "                                           'color': 'green',\n",
      "                                           'name': '_instance_id: [\"test1\"], '\n",
      "                                                   '_playbook_name: '\n",
      "                                                   'rca-ospf-playbook, '\n",
      "                                                   'task-name: KRT'},\n",
      "                                          {'children': [{'color': 'green',\n",
      "                                                         'data': '',\n",
      "                                                         'name': 'task-io-drops',\n",
      "                                                         'timestamp': '2019-08-28T04:28:00Z'}],\n",
      "                                           'color': 'green',\n",
      "                                           'name': '_instance_id: [\"test1\"], '\n",
      "                                                   '_playbook_name: '\n",
      "                                                   'rca-ospf-playbook, '\n",
      "                                                   'task-name: ISO'},\n",
      "                                          {'children': [{'color': 'green',\n",
      "                                                         'data': '',\n",
      "                                                         'name': 'task-io-drops',\n",
      "                                                         'timestamp': '2019-08-28T04:28:00Z'}],\n",
      "                                           'color': 'green',\n",
      "                                           'name': '_instance_id: [\"test1\"], '\n",
      "                                                   '_playbook_name: '\n",
      "                                                   'rca-ospf-playbook, '\n",
      "                                                   'task-name: INET6'},\n",
      "                                          {'children': [{'color': 'green',\n",
      "                                                         'data': '',\n",
      "                                                         'name': 'task-io-drops',\n",
      "                                                         'timestamp': '2019-08-28T04:28:00Z'}],\n",
      "                                           'color': 'green',\n",
      "                                           'name': '_instance_id: [\"test1\"], '\n",
      "                                                   '_playbook_name: '\n",
      "                                                   'rca-ospf-playbook, '\n",
      "                                                   'task-name: INET'},\n",
      "                                          {'children': [{'color': 'green',\n",
      "                                                         'data': '',\n",
      "                                                         'name': 'task-io-drops',\n",
      "                                                         'timestamp': '2019-08-28T04:28:00Z'}],\n",
      "                                           'color': 'green',\n",
      "                                           'name': '_instance_id: [\"test1\"], '\n",
      "                                                   '_playbook_name: '\n",
      "                                                   'rca-ospf-playbook, '\n",
      "                                                   'task-name: IF Delete'},\n",
      "                                          {'children': [{'color': 'green',\n",
      "                                                         'data': '',\n",
      "                                                         'name': 'task-io-drops',\n",
      "                                                         'timestamp': '2019-08-28T04:28:00Z'}],\n",
      "                                           'color': 'green',\n",
      "                                           'name': '_instance_id: [\"test1\"], '\n",
      "                                                   '_playbook_name: '\n",
      "                                                   'rca-ospf-playbook, '\n",
      "                                                   'task-name: IF'},\n",
      "                                          {'children': [{'color': 'green',\n",
      "                                                         'data': '',\n",
      "                                                         'name': 'task-io-drops',\n",
      "                                                         'timestamp': '2019-08-28T04:28:00Z'}],\n",
      "                                           'color': 'green',\n",
      "                                           'name': '_instance_id: [\"test1\"], '\n",
      "                                                   '_playbook_name: '\n",
      "                                                   'rca-ospf-playbook, '\n",
      "                                                   'task-name: ICMPv6'},\n",
      "                                          {'children': [{'color': 'green',\n",
      "                                                         'data': '',\n",
      "                                                         'name': 'task-io-drops',\n",
      "                                                         'timestamp': '2019-08-28T04:28:00Z'}],\n",
      "                                           'color': 'green',\n",
      "                                           'name': '_instance_id: [\"test1\"], '\n",
      "                                                   '_playbook_name: '\n",
      "                                                   'rca-ospf-playbook, '\n",
      "                                                   'task-name: ICMP'},\n",
      "                                          {'children': [{'color': 'green',\n",
      "                                                         'data': '',\n",
      "                                                         'name': 'task-io-drops',\n",
      "                                                         'timestamp': '2019-08-28T04:28:00Z'}],\n",
      "                                           'color': 'green',\n",
      "                                           'name': '_instance_id: [\"test1\"], '\n",
      "                                                   '_playbook_name: '\n",
      "                                                   'rca-ospf-playbook, '\n",
      "                                                   'task-name: Filter file '\n",
      "                                                   'read task'},\n",
      "                                          {'children': [{'color': 'green',\n",
      "                                                         'data': '',\n",
      "                                                         'name': 'task-io-drops',\n",
      "                                                         'timestamp': '2019-08-28T04:28:00Z'}],\n",
      "                                           'color': 'green',\n",
      "                                           'name': '_instance_id: [\"test1\"], '\n",
      "                                                   '_playbook_name: '\n",
      "                                                   'rca-ospf-playbook, '\n",
      "                                                   'task-name: Dynamic '\n",
      "                                                   'configuration'},\n",
      "                                          {'children': [{'color': 'green',\n",
      "                                                         'data': '',\n",
      "                                                         'name': 'task-io-drops',\n",
      "                                                         'timestamp': '2019-08-28T04:28:00Z'}],\n",
      "                                           'color': 'green',\n",
      "                                           'name': '_instance_id: [\"test1\"], '\n",
      "                                                   '_playbook_name: '\n",
      "                                                   'rca-ospf-playbook, '\n",
      "                                                   'task-name: DbgSh '\n",
      "                                                   'UX./var/run/rpd_dbgsh'},\n",
      "                                          {'children': [{'color': 'green',\n",
      "                                                         'data': '',\n",
      "                                                         'name': 'task-io-drops',\n",
      "                                                         'timestamp': '2019-08-28T04:28:00Z'}],\n",
      "                                           'color': 'green',\n",
      "                                           'name': '_instance_id: [\"test1\"], '\n",
      "                                                   '_playbook_name: '\n",
      "                                                   'rca-ospf-playbook, '\n",
      "                                                   'task-name: DbgSh'},\n",
      "                                          {'children': [{'color': 'green',\n",
      "                                                         'data': '',\n",
      "                                                         'name': 'task-io-drops',\n",
      "                                                         'timestamp': '2019-08-28T04:28:00Z'}],\n",
      "                                           'color': 'green',\n",
      "                                           'name': '_instance_id: [\"test1\"], '\n",
      "                                                   '_playbook_name: '\n",
      "                                                   'rca-ospf-playbook, '\n",
      "                                                   'task-name: Condition '\n",
      "                                                   'manager'},\n",
      "                                          {'children': [{'color': 'green',\n",
      "                                                         'data': '',\n",
      "                                                         'name': 'task-io-drops',\n",
      "                                                         'timestamp': '2019-08-28T04:28:00Z'}],\n",
      "                                           'color': 'green',\n",
      "                                           'name': '_instance_id: [\"test1\"], '\n",
      "                                                   '_playbook_name: '\n",
      "                                                   'rca-ospf-playbook, '\n",
      "                                                   'task-name: Common L2 VC'},\n",
      "                                          {'children': [{'color': 'yellow',\n",
      "                                                         'data': 'Task IO '\n",
      "                                                                 'drops (10) '\n",
      "                                                                 'non-zero',\n",
      "                                                         'name': 'task-io-drops',\n",
      "                                                         'timestamp': '2019-08-28T04:28:00Z'}],\n",
      "                                           'color': 'yellow',\n",
      "                                           'name': '_instance_id: [\"test1\"], '\n",
      "                                                   '_playbook_name: '\n",
      "                                                   'rca-ospf-playbook, '\n",
      "                                                   'task-name: BFD '\n",
      "                                                   'I/O./var/run/bfdd_control'},\n",
      "                                          {'children': [{'color': 'green',\n",
      "                                                         'data': '',\n",
      "                                                         'name': 'task-io-drops',\n",
      "                                                         'timestamp': '2019-08-28T04:28:00Z'}],\n",
      "                                           'color': 'green',\n",
      "                                           'name': '_instance_id: [\"test1\"], '\n",
      "                                                   '_playbook_name: '\n",
      "                                                   'rca-ospf-playbook, '\n",
      "                                                   'task-name: Aggregate'},\n",
      "                                          {'children': [{'color': 'green',\n",
      "                                                         'data': '',\n",
      "                                                         'name': 'task-io-drops',\n",
      "                                                         'timestamp': '2019-08-28T04:28:00Z'}],\n",
      "                                           'color': 'green',\n",
      "                                           'name': '_instance_id: [\"test1\"], '\n",
      "                                                   '_playbook_name: '\n",
      "                                                   'rca-ospf-playbook, '\n",
      "                                                   'task-name: ASPaths'},\n",
      "                                          {'children': [{'color': 'green',\n",
      "                                                         'data': '',\n",
      "                                                         'name': 'task-io-drops',\n",
      "                                                         'timestamp': '2019-08-28T04:28:00Z'}],\n",
      "                                           'color': 'green',\n",
      "                                           'name': '_instance_id: [\"test1\"], '\n",
      "                                                   '_playbook_name: '\n",
      "                                                   'rca-ospf-playbook, '\n",
      "                                                   'task-name: AGENTD '\n",
      "                                                   'I/O.128.0.0.4+9500'}],\n",
      "                             'color': 'yellow',\n",
      "                             'name': 'protocol.infra'},\n",
      "                            {'children': [{'children': [{'color': 'green',\n",
      "                                                         'data': 'RPD OSPF IO '\n",
      "                                                                 'is not '\n",
      "                                                                 'reporting '\n",
      "                                                                 'any errors',\n",
      "                                                         'name': 'protocol-ospf-io-statistics-information-ospf-error-count',\n",
      "                                                         'timestamp': '2019-08-28T04:28:02Z'},\n",
      "                                                        {'color': 'red',\n",
      "                                                         'data': 'RPD OSPF IO '\n",
      "                                                                 'module is '\n",
      "                                                                 'not '\n",
      "                                                                 'functioning',\n",
      "                                                         'name': 'protocol-ospf-io-statistics-information-packet-read',\n",
      "                                                         'timestamp': '2019-08-28T04:28:04Z'}],\n",
      "                                           'color': 'red',\n",
      "                                           'name': '_instance_id: [\"test1\"], '\n",
      "                                                   '_playbook_name: '\n",
      "                                                   'rca-ospf-playbook, '\n",
      "                                                   'packets-read: 0'}],\n",
      "                             'color': 'red',\n",
      "                             'name': 'protocol.ospf'},\n",
      "                            {'children': [{'children': [{'color': 'green',\n",
      "                                                         'data': 'Route count '\n",
      "                                                                 'of '\n",
      "                                                                 'default.svcs-inet6 '\n",
      "                                                                 'of '\n",
      "                                                                 'svcs-inet6 '\n",
      "                                                                 'of perm is '\n",
      "                                                                 '(1) normal',\n",
      "                                                         'name': 'fib-route-count',\n",
      "                                                         'timestamp': '2019-08-28T04:25:50Z'}],\n",
      "                                           'color': 'green',\n",
      "                                           'name': '_instance_id: '\n",
      "                                                   '[\"HbEZ-instance\"], '\n",
      "                                                   '_playbook_name: '\n",
      "                                                   'forwarding-table-summary, '\n",
      "                                                   'address-family: '\n",
      "                                                   'svcs-inet6, '\n",
      "                                                   'route-table-type: perm, '\n",
      "                                                   'table-name: '\n",
      "                                                   'default.svcs-inet6'},\n",
      "                                          {'children': [{'color': 'green',\n",
      "                                                         'data': 'Route count '\n",
      "                                                                 'of '\n",
      "                                                                 'default.svcs-inet '\n",
      "                                                                 'of svcs-inet '\n",
      "                                                                 'of perm is '\n",
      "                                                                 '(1) normal',\n",
      "                                                         'name': 'fib-route-count',\n",
      "                                                         'timestamp': '2019-08-28T04:25:50Z'}],\n",
      "                                           'color': 'green',\n",
      "                                           'name': '_instance_id: '\n",
      "                                                   '[\"HbEZ-instance\"], '\n",
      "                                                   '_playbook_name: '\n",
      "                                                   'forwarding-table-summary, '\n",
      "                                                   'address-family: svcs-inet, '\n",
      "                                                   'route-table-type: perm, '\n",
      "                                                   'table-name: '\n",
      "                                                   'default.svcs-inet'},\n",
      "                                          {'children': [{'color': 'green',\n",
      "                                                         'data': 'Route count '\n",
      "                                                                 'of '\n",
      "                                                                 'default-switch.bridge '\n",
      "                                                                 'of VPLS of '\n",
      "                                                                 'perm is (1) '\n",
      "                                                                 'normal',\n",
      "                                                         'name': 'fib-route-count',\n",
      "                                                         'timestamp': '2019-08-28T04:25:50Z'}],\n",
      "                                           'color': 'green',\n",
      "                                           'name': '_instance_id: '\n",
      "                                                   '[\"HbEZ-instance\"], '\n",
      "                                                   '_playbook_name: '\n",
      "                                                   'forwarding-table-summary, '\n",
      "                                                   'address-family: VPLS, '\n",
      "                                                   'route-table-type: perm, '\n",
      "                                                   'table-name: '\n",
      "                                                   'default-switch.bridge'},\n",
      "                                          {'children': [{'color': 'green',\n",
      "                                                         'data': 'Route count '\n",
      "                                                                 'of '\n",
      "                                                                 'default.steering '\n",
      "                                                                 'of Steering '\n",
      "                                                                 'of perm is '\n",
      "                                                                 '(1) normal',\n",
      "                                                         'name': 'fib-route-count',\n",
      "                                                         'timestamp': '2019-08-28T04:25:50Z'}],\n",
      "                                           'color': 'green',\n",
      "                                           'name': '_instance_id: '\n",
      "                                                   '[\"HbEZ-instance\"], '\n",
      "                                                   '_playbook_name: '\n",
      "                                                   'forwarding-table-summary, '\n",
      "                                                   'address-family: Steering, '\n",
      "                                                   'route-table-type: perm, '\n",
      "                                                   'table-name: '\n",
      "                                                   'default.steering'},\n",
      "                                          {'children': [{'color': 'green',\n",
      "                                                         'data': 'Route count '\n",
      "                                                                 'of '\n",
      "                                                                 'default.mpls '\n",
      "                                                                 'of MPLS of '\n",
      "                                                                 'perm is (1) '\n",
      "                                                                 'normal',\n",
      "                                                         'name': 'fib-route-count',\n",
      "                                                         'timestamp': '2019-08-28T04:25:50Z'}],\n",
      "                                           'color': 'green',\n",
      "                                           'name': '_instance_id: '\n",
      "                                                   '[\"HbEZ-instance\"], '\n",
      "                                                   '_playbook_name: '\n",
      "                                                   'forwarding-table-summary, '\n",
      "                                                   'address-family: MPLS, '\n",
      "                                                   'route-table-type: perm, '\n",
      "                                                   'table-name: default.mpls'},\n",
      "                                          {'children': [{'color': 'green',\n",
      "                                                         'data': 'Route count '\n",
      "                                                                 'of '\n",
      "                                                                 '__mpls-oam__.mpls '\n",
      "                                                                 'of MPLS of '\n",
      "                                                                 'perm is (1) '\n",
      "                                                                 'normal',\n",
      "                                                         'name': 'fib-route-count',\n",
      "                                                         'timestamp': '2019-08-28T04:25:50Z'}],\n",
      "                                           'color': 'green',\n",
      "                                           'name': '_instance_id: '\n",
      "                                                   '[\"HbEZ-instance\"], '\n",
      "                                                   '_playbook_name: '\n",
      "                                                   'forwarding-table-summary, '\n",
      "                                                   'address-family: MPLS, '\n",
      "                                                   'route-table-type: perm, '\n",
      "                                                   'table-name: '\n",
      "                                                   '__mpls-oam__.mpls'},\n",
      "                                          {'children': [{'color': 'green',\n",
      "                                                         'data': 'Route count '\n",
      "                                                                 'of '\n",
      "                                                                 'default.inet6 '\n",
      "                                                                 'of Internet6 '\n",
      "                                                                 'of user is '\n",
      "                                                                 '(1) normal',\n",
      "                                                         'name': 'fib-route-count',\n",
      "                                                         'timestamp': '2019-08-28T04:25:50Z'}],\n",
      "                                           'color': 'green',\n",
      "                                           'name': '_instance_id: '\n",
      "                                                   '[\"HbEZ-instance\"], '\n",
      "                                                   '_playbook_name: '\n",
      "                                                   'forwarding-table-summary, '\n",
      "                                                   'address-family: Internet6, '\n",
      "                                                   'route-table-type: user, '\n",
      "                                                   'table-name: default.inet6'},\n",
      "                                          {'children': [{'color': 'green',\n",
      "                                                         'data': 'Route count '\n",
      "                                                                 'of '\n",
      "                                                                 'default.inet6 '\n",
      "                                                                 'of Internet6 '\n",
      "                                                                 'of perm is '\n",
      "                                                                 '(6) normal',\n",
      "                                                         'name': 'fib-route-count',\n",
      "                                                         'timestamp': '2019-08-28T04:25:50Z'}],\n",
      "                                           'color': 'green',\n",
      "                                           'name': '_instance_id: '\n",
      "                                                   '[\"HbEZ-instance\"], '\n",
      "                                                   '_playbook_name: '\n",
      "                                                   'forwarding-table-summary, '\n",
      "                                                   'address-family: Internet6, '\n",
      "                                                   'route-table-type: perm, '\n",
      "                                                   'table-name: default.inet6'},\n",
      "                                          {'children': [{'color': 'green',\n",
      "                                                         'data': 'Route count '\n",
      "                                                                 'of '\n",
      "                                                                 '__master.anon__.inet6 '\n",
      "                                                                 'of Internet6 '\n",
      "                                                                 'of perm is '\n",
      "                                                                 '(6) normal',\n",
      "                                                         'name': 'fib-route-count',\n",
      "                                                         'timestamp': '2019-08-28T04:25:50Z'}],\n",
      "                                           'color': 'green',\n",
      "                                           'name': '_instance_id: '\n",
      "                                                   '[\"HbEZ-instance\"], '\n",
      "                                                   '_playbook_name: '\n",
      "                                                   'forwarding-table-summary, '\n",
      "                                                   'address-family: Internet6, '\n",
      "                                                   'route-table-type: perm, '\n",
      "                                                   'table-name: '\n",
      "                                                   '__master.anon__.inet6'},\n",
      "                                          {'children': [{'color': 'green',\n",
      "                                                         'data': 'Route count '\n",
      "                                                                 'of '\n",
      "                                                                 'default.inet6 '\n",
      "                                                                 'of Internet6 '\n",
      "                                                                 'of intf is '\n",
      "                                                                 '(2) normal',\n",
      "                                                         'name': 'fib-route-count',\n",
      "                                                         'timestamp': '2019-08-28T04:25:50Z'}],\n",
      "                                           'color': 'green',\n",
      "                                           'name': '_instance_id: '\n",
      "                                                   '[\"HbEZ-instance\"], '\n",
      "                                                   '_playbook_name: '\n",
      "                                                   'forwarding-table-summary, '\n",
      "                                                   'address-family: Internet6, '\n",
      "                                                   'route-table-type: intf, '\n",
      "                                                   'table-name: default.inet6'},\n",
      "                                          {'children': [{'color': 'green',\n",
      "                                                         'data': 'Route count '\n",
      "                                                                 'of '\n",
      "                                                                 'default.inet '\n",
      "                                                                 'of Internet '\n",
      "                                                                 'of user is '\n",
      "                                                                 '(31) normal',\n",
      "                                                         'name': 'fib-route-count',\n",
      "                                                         'timestamp': '2019-08-28T04:25:50Z'}],\n",
      "                                           'color': 'green',\n",
      "                                           'name': '_instance_id: '\n",
      "                                                   '[\"HbEZ-instance\"], '\n",
      "                                                   '_playbook_name: '\n",
      "                                                   'forwarding-table-summary, '\n",
      "                                                   'address-family: Internet, '\n",
      "                                                   'route-table-type: user, '\n",
      "                                                   'table-name: default.inet'},\n",
      "                                          {'children': [{'color': 'green',\n",
      "                                                         'data': 'Route count '\n",
      "                                                                 'of '\n",
      "                                                                 'default.inet '\n",
      "                                                                 'of Internet '\n",
      "                                                                 'of perm is '\n",
      "                                                                 '(5) normal',\n",
      "                                                         'name': 'fib-route-count',\n",
      "                                                         'timestamp': '2019-08-28T04:25:50Z'}],\n",
      "                                           'color': 'green',\n",
      "                                           'name': '_instance_id: '\n",
      "                                                   '[\"HbEZ-instance\"], '\n",
      "                                                   '_playbook_name: '\n",
      "                                                   'forwarding-table-summary, '\n",
      "                                                   'address-family: Internet, '\n",
      "                                                   'route-table-type: perm, '\n",
      "                                                   'table-name: default.inet'},\n",
      "                                          {'children': [{'color': 'green',\n",
      "                                                         'data': 'Route count '\n",
      "                                                                 'of '\n",
      "                                                                 '__pfe_private__.inet '\n",
      "                                                                 'of Internet '\n",
      "                                                                 'of perm is '\n",
      "                                                                 '(5) normal',\n",
      "                                                         'name': 'fib-route-count',\n",
      "                                                         'timestamp': '2019-08-28T04:25:50Z'}],\n",
      "                                           'color': 'green',\n",
      "                                           'name': '_instance_id: '\n",
      "                                                   '[\"HbEZ-instance\"], '\n",
      "                                                   '_playbook_name: '\n",
      "                                                   'forwarding-table-summary, '\n",
      "                                                   'address-family: Internet, '\n",
      "                                                   'route-table-type: perm, '\n",
      "                                                   'table-name: '\n",
      "                                                   '__pfe_private__.inet'},\n",
      "                                          {'children': [{'color': 'green',\n",
      "                                                         'data': 'Route count '\n",
      "                                                                 'of '\n",
      "                                                                 '__master.anon__.inet '\n",
      "                                                                 'of Internet '\n",
      "                                                                 'of perm is '\n",
      "                                                                 '(5) normal',\n",
      "                                                         'name': 'fib-route-count',\n",
      "                                                         'timestamp': '2019-08-28T04:25:50Z'}],\n",
      "                                           'color': 'green',\n",
      "                                           'name': '_instance_id: '\n",
      "                                                   '[\"HbEZ-instance\"], '\n",
      "                                                   '_playbook_name: '\n",
      "                                                   'forwarding-table-summary, '\n",
      "                                                   'address-family: Internet, '\n",
      "                                                   'route-table-type: perm, '\n",
      "                                                   'table-name: '\n",
      "                                                   '__master.anon__.inet'},\n",
      "                                          {'children': [{'color': 'green',\n",
      "                                                         'data': 'Route count '\n",
      "                                                                 'of '\n",
      "                                                                 '__juniper_services__.inet '\n",
      "                                                                 'of Internet '\n",
      "                                                                 'of perm is '\n",
      "                                                                 '(5) normal',\n",
      "                                                         'name': 'fib-route-count',\n",
      "                                                         'timestamp': '2019-08-28T04:25:50Z'}],\n",
      "                                           'color': 'green',\n",
      "                                           'name': '_instance_id: '\n",
      "                                                   '[\"HbEZ-instance\"], '\n",
      "                                                   '_playbook_name: '\n",
      "                                                   'forwarding-table-summary, '\n",
      "                                                   'address-family: Internet, '\n",
      "                                                   'route-table-type: perm, '\n",
      "                                                   'table-name: '\n",
      "                                                   '__juniper_services__.inet'},\n",
      "                                          {'children': [{'color': 'green',\n",
      "                                                         'data': 'Route count '\n",
      "                                                                 'of '\n",
      "                                                                 'default.inet '\n",
      "                                                                 'of Internet '\n",
      "                                                                 'of intf is '\n",
      "                                                                 '(3) normal',\n",
      "                                                         'name': 'fib-route-count',\n",
      "                                                         'timestamp': '2019-08-28T04:25:50Z'}],\n",
      "                                           'color': 'green',\n",
      "                                           'name': '_instance_id: '\n",
      "                                                   '[\"HbEZ-instance\"], '\n",
      "                                                   '_playbook_name: '\n",
      "                                                   'forwarding-table-summary, '\n",
      "                                                   'address-family: Internet, '\n",
      "                                                   'route-table-type: intf, '\n",
      "                                                   'table-name: default.inet'},\n",
      "                                          {'children': [{'color': 'green',\n",
      "                                                         'data': 'Route count '\n",
      "                                                                 'of '\n",
      "                                                                 '__juniper_services__.inet '\n",
      "                                                                 'of Internet '\n",
      "                                                                 'of intf is '\n",
      "                                                                 '(2) normal',\n",
      "                                                         'name': 'fib-route-count',\n",
      "                                                         'timestamp': '2019-08-28T04:25:50Z'}],\n",
      "                                           'color': 'green',\n",
      "                                           'name': '_instance_id: '\n",
      "                                                   '[\"HbEZ-instance\"], '\n",
      "                                                   '_playbook_name: '\n",
      "                                                   'forwarding-table-summary, '\n",
      "                                                   'address-family: Internet, '\n",
      "                                                   'route-table-type: intf, '\n",
      "                                                   'table-name: '\n",
      "                                                   '__juniper_services__.inet'},\n",
      "                                          {'children': [{'color': 'green',\n",
      "                                                         'data': 'Route count '\n",
      "                                                                 'of '\n",
      "                                                                 'default.inet '\n",
      "                                                                 'of Internet '\n",
      "                                                                 'of dest is '\n",
      "                                                                 '(469) normal',\n",
      "                                                         'name': 'fib-route-count',\n",
      "                                                         'timestamp': '2019-08-28T04:25:50Z'}],\n",
      "                                           'color': 'green',\n",
      "                                           'name': '_instance_id: '\n",
      "                                                   '[\"HbEZ-instance\"], '\n",
      "                                                   '_playbook_name: '\n",
      "                                                   'forwarding-table-summary, '\n",
      "                                                   'address-family: Internet, '\n",
      "                                                   'route-table-type: dest, '\n",
      "                                                   'table-name: default.inet'},\n",
      "                                          {'children': [{'color': 'green',\n",
      "                                                         'data': 'Route count '\n",
      "                                                                 'of '\n",
      "                                                                 '__juniper_services__.inet '\n",
      "                                                                 'of Internet '\n",
      "                                                                 'of dest is '\n",
      "                                                                 '(3) normal',\n",
      "                                                         'name': 'fib-route-count',\n",
      "                                                         'timestamp': '2019-08-28T04:25:50Z'}],\n",
      "                                           'color': 'green',\n",
      "                                           'name': '_instance_id: '\n",
      "                                                   '[\"HbEZ-instance\"], '\n",
      "                                                   '_playbook_name: '\n",
      "                                                   'forwarding-table-summary, '\n",
      "                                                   'address-family: Internet, '\n",
      "                                                   'route-table-type: dest, '\n",
      "                                                   'table-name: '\n",
      "                                                   '__juniper_services__.inet'},\n",
      "                                          {'children': [{'color': 'green',\n",
      "                                                         'data': 'Route count '\n",
      "                                                                 'of '\n",
      "                                                                 'default.iso '\n",
      "                                                                 'of ISO of '\n",
      "                                                                 'perm is (1) '\n",
      "                                                                 'normal',\n",
      "                                                         'name': 'fib-route-count',\n",
      "                                                         'timestamp': '2019-08-28T04:25:50Z'}],\n",
      "                                           'color': 'green',\n",
      "                                           'name': '_instance_id: '\n",
      "                                                   '[\"HbEZ-instance\"], '\n",
      "                                                   '_playbook_name: '\n",
      "                                                   'forwarding-table-summary, '\n",
      "                                                   'address-family: ISO, '\n",
      "                                                   'route-table-type: perm, '\n",
      "                                                   'table-name: default.iso'},\n",
      "                                          {'children': [{'color': 'green',\n",
      "                                                         'data': 'Route count '\n",
      "                                                                 'of '\n",
      "                                                                 '__master.anon__.iso '\n",
      "                                                                 'of ISO of '\n",
      "                                                                 'perm is (1) '\n",
      "                                                                 'normal',\n",
      "                                                         'name': 'fib-route-count',\n",
      "                                                         'timestamp': '2019-08-28T04:25:50Z'}],\n",
      "                                           'color': 'green',\n",
      "                                           'name': '_instance_id: '\n",
      "                                                   '[\"HbEZ-instance\"], '\n",
      "                                                   '_playbook_name: '\n",
      "                                                   'forwarding-table-summary, '\n",
      "                                                   'address-family: ISO, '\n",
      "                                                   'route-table-type: perm, '\n",
      "                                                   'table-name: '\n",
      "                                                   '__master.anon__.iso'},\n",
      "                                          {'children': [{'color': 'green',\n",
      "                                                         'data': 'Route count '\n",
      "                                                                 'of '\n",
      "                                                                 'default.iso '\n",
      "                                                                 'of ISO of '\n",
      "                                                                 'intf is (1) '\n",
      "                                                                 'normal',\n",
      "                                                         'name': 'fib-route-count',\n",
      "                                                         'timestamp': '2019-08-28T04:25:50Z'}],\n",
      "                                           'color': 'green',\n",
      "                                           'name': '_instance_id: '\n",
      "                                                   '[\"HbEZ-instance\"], '\n",
      "                                                   '_playbook_name: '\n",
      "                                                   'forwarding-table-summary, '\n",
      "                                                   'address-family: ISO, '\n",
      "                                                   'route-table-type: intf, '\n",
      "                                                   'table-name: default.iso'},\n",
      "                                          {'children': [{'color': 'green',\n",
      "                                                         'data': 'Route count '\n",
      "                                                                 'of '\n",
      "                                                                 'default.gtp-u '\n",
      "                                                                 'of GTP-U of '\n",
      "                                                                 'perm is (1) '\n",
      "                                                                 'normal',\n",
      "                                                         'name': 'fib-route-count',\n",
      "                                                         'timestamp': '2019-08-28T04:25:50Z'}],\n",
      "                                           'color': 'green',\n",
      "                                           'name': '_instance_id: '\n",
      "                                                   '[\"HbEZ-instance\"], '\n",
      "                                                   '_playbook_name: '\n",
      "                                                   'forwarding-table-summary, '\n",
      "                                                   'address-family: GTP-U, '\n",
      "                                                   'route-table-type: perm, '\n",
      "                                                   'table-name: default.gtp-u'},\n",
      "                                          {'children': [{'color': 'green',\n",
      "                                                         'data': 'Route count '\n",
      "                                                                 'of '\n",
      "                                                                 'default.dhcp-snooping '\n",
      "                                                                 'of DHCP '\n",
      "                                                                 'Snooping of '\n",
      "                                                                 'perm is (1) '\n",
      "                                                                 'normal',\n",
      "                                                         'name': 'fib-route-count',\n",
      "                                                         'timestamp': '2019-08-28T04:25:50Z'}],\n",
      "                                           'color': 'green',\n",
      "                                           'name': '_instance_id: '\n",
      "                                                   '[\"HbEZ-instance\"], '\n",
      "                                                   '_playbook_name: '\n",
      "                                                   'forwarding-table-summary, '\n",
      "                                                   'address-family: DHCP '\n",
      "                                                   'Snooping, '\n",
      "                                                   'route-table-type: perm, '\n",
      "                                                   'table-name: '\n",
      "                                                   'default.dhcp-snooping'}],\n",
      "                             'color': 'green',\n",
      "                             'name': 'protocol.routesummary'},\n",
      "                            {'children': [{'children': [{'color': 'green',\n",
      "                                                         'data': '',\n",
      "                                                         'name': 'interrupt-rate',\n",
      "                                                         'timestamp': '2019-08-28T04:28:05Z'},\n",
      "                                                        {'color': 'green',\n",
      "                                                         'data': '',\n",
      "                                                         'name': 'vm-kmem-map-free',\n",
      "                                                         'timestamp': '2019-08-28T04:28:04Z'}],\n",
      "                                           'color': 'green',\n",
      "                                           'name': '_instance_id: [\"test1\"], '\n",
      "                                                   '_playbook_name: '\n",
      "                                                   'rca-ospf-playbook, '\n",
      "                                                   'vm-kmem-map-free: '\n",
      "                                                   '4050075648'},\n",
      "                                          {'children': [{'color': 'green',\n",
      "                                                         'data': 'Device '\n",
      "                                                                 'product '\n",
      "                                                                 'model is '\n",
      "                                                                 'valid (.*)',\n",
      "                                                         'name': 'product-name',\n",
      "                                                         'timestamp': '2019-08-28T04:28:04Z'},\n",
      "                                                        {'color': 'green',\n",
      "                                                         'data': 'Junos '\n",
      "                                                                 'version .* '\n",
      "                                                                 'is being '\n",
      "                                                                 'used',\n",
      "                                                         'name': 'software-version',\n",
      "                                                         'timestamp': '2019-08-28T04:28:04Z'}],\n",
      "                                           'color': 'green',\n",
      "                                           'name': '_instance_id: [\"test1\"], '\n",
      "                                                   '_playbook_name: '\n",
      "                                                   'rca-ospf-playbook, '\n",
      "                                                   'host-name: R1_re0'},\n",
      "                                          {'children': [{'color': 'green',\n",
      "                                                         'data': 'The system '\n",
      "                                                                 'storage '\n",
      "                                                                 'usage (22) '\n",
      "                                                                 'is under '\n",
      "                                                                 'threshold '\n",
      "                                                                 '(80)',\n",
      "                                                         'name': 'system-storage-capacity',\n",
      "                                                         'timestamp': '2019-08-28T04:28:04Z'}],\n",
      "                                           'color': 'green',\n",
      "                                           'name': '_instance_id: [\"test1\"], '\n",
      "                                                   '_playbook_name: '\n",
      "                                                   'rca-ospf-playbook, '\n",
      "                                                   'filesystem-name: '\n",
      "                                                   '/dev/gpt/junos'},\n",
      "                                          {'children': [{'color': 'yellow',\n",
      "                                                         'data': 'IP no socket '\n",
      "                                                                 'buffer drops '\n",
      "                                                                 '(1225144) '\n",
      "                                                                 'non-zero',\n",
      "                                                         'name': 'incoming-raw-ip-no-socket-buffer-packets-dropped',\n",
      "                                                         'timestamp': '2019-08-28T04:28:05Z'}],\n",
      "                                           'color': 'yellow',\n",
      "                                           'name': '_instance_id: [\"test1\"], '\n",
      "                                                   '_playbook_name: '\n",
      "                                                   'rca-ospf-playbook, '\n",
      "                                                   'incoming-rawip-packets-dropped-no-socket-buffer: '\n",
      "                                                   '1225144'},\n",
      "                                          {'children': [{'color': 'green',\n",
      "                                                         'data': '',\n",
      "                                                         'name': 'system-output-queue-drops',\n",
      "                                                         'timestamp': '2019-08-28T04:27:46Z'}],\n",
      "                                           'color': 'green',\n",
      "                                           'name': '_instance_id: [\"test1\"], '\n",
      "                                                   '_playbook_name: '\n",
      "                                                   'rca-ospf-playbook, '\n",
      "                                                   'interface: vtep'},\n",
      "                                          {'children': [{'color': 'green',\n",
      "                                                         'data': '',\n",
      "                                                         'name': 'system-output-queue-drops',\n",
      "                                                         'timestamp': '2019-08-28T04:27:46Z'}],\n",
      "                                           'color': 'green',\n",
      "                                           'name': '_instance_id: [\"test1\"], '\n",
      "                                                   '_playbook_name: '\n",
      "                                                   'rca-ospf-playbook, '\n",
      "                                                   'interface: tap'},\n",
      "                                          {'children': [{'color': 'green',\n",
      "                                                         'data': '',\n",
      "                                                         'name': 'system-output-queue-drops',\n",
      "                                                         'timestamp': '2019-08-28T04:27:46Z'}],\n",
      "                                           'color': 'green',\n",
      "                                           'name': '_instance_id: [\"test1\"], '\n",
      "                                                   '_playbook_name: '\n",
      "                                                   'rca-ospf-playbook, '\n",
      "                                                   'interface: rbeb'},\n",
      "                                          {'children': [{'color': 'green',\n",
      "                                                         'data': '',\n",
      "                                                         'name': 'system-output-queue-drops',\n",
      "                                                         'timestamp': '2019-08-28T04:27:46Z'}],\n",
      "                                           'color': 'green',\n",
      "                                           'name': '_instance_id: [\"test1\"], '\n",
      "                                                   '_playbook_name: '\n",
      "                                                   'rca-ospf-playbook, '\n",
      "                                                   'interface: pp0'},\n",
      "                                          {'children': [{'color': 'green',\n",
      "                                                         'data': '',\n",
      "                                                         'name': 'system-output-queue-drops',\n",
      "                                                         'timestamp': '2019-08-28T04:27:46Z'}],\n",
      "                                           'color': 'green',\n",
      "                                           'name': '_instance_id: [\"test1\"], '\n",
      "                                                   '_playbook_name: '\n",
      "                                                   'rca-ospf-playbook, '\n",
      "                                                   'interface: pip0'},\n",
      "                                          {'children': [{'color': 'green',\n",
      "                                                         'data': '',\n",
      "                                                         'name': 'system-output-queue-drops',\n",
      "                                                         'timestamp': '2019-08-28T04:27:46Z'}],\n",
      "                                           'color': 'green',\n",
      "                                           'name': '_instance_id: [\"test1\"], '\n",
      "                                                   '_playbook_name: '\n",
      "                                                   'rca-ospf-playbook, '\n",
      "                                                   'interface: pime'},\n",
      "                                          {'children': [{'color': 'green',\n",
      "                                                         'data': '',\n",
      "                                                         'name': 'system-output-queue-drops',\n",
      "                                                         'timestamp': '2019-08-28T04:27:46Z'}],\n",
      "                                           'color': 'green',\n",
      "                                           'name': '_instance_id: [\"test1\"], '\n",
      "                                                   '_playbook_name: '\n",
      "                                                   'rca-ospf-playbook, '\n",
      "                                                   'interface: pimd'},\n",
      "                                          {'children': [{'color': 'green',\n",
      "                                                         'data': '',\n",
      "                                                         'name': 'system-output-queue-drops',\n",
      "                                                         'timestamp': '2019-08-28T04:27:46Z'}],\n",
      "                                           'color': 'green',\n",
      "                                           'name': '_instance_id: [\"test1\"], '\n",
      "                                                   '_playbook_name: '\n",
      "                                                   'rca-ospf-playbook, '\n",
      "                                                   'interface: mtun'},\n",
      "                                          {'children': [{'color': 'green',\n",
      "                                                         'data': '',\n",
      "                                                         'name': 'system-output-queue-drops',\n",
      "                                                         'timestamp': '2019-08-28T04:27:46Z'}],\n",
      "                                           'color': 'green',\n",
      "                                           'name': '_instance_id: [\"test1\"], '\n",
      "                                                   '_playbook_name: '\n",
      "                                                   'rca-ospf-playbook, '\n",
      "                                                   'interface: mif'},\n",
      "                                          {'children': [{'color': 'green',\n",
      "                                                         'data': '',\n",
      "                                                         'name': 'system-output-queue-drops',\n",
      "                                                         'timestamp': '2019-08-28T04:27:46Z'}],\n",
      "                                           'color': 'green',\n",
      "                                           'name': '_instance_id: [\"test1\"], '\n",
      "                                                   '_playbook_name: '\n",
      "                                                   'rca-ospf-playbook, '\n",
      "                                                   'interface: lsi'},\n",
      "                                          {'children': [{'color': 'green',\n",
      "                                                         'data': '',\n",
      "                                                         'name': 'system-output-queue-drops',\n",
      "                                                         'timestamp': '2019-08-28T04:27:46Z'}],\n",
      "                                           'color': 'green',\n",
      "                                           'name': '_instance_id: [\"test1\"], '\n",
      "                                                   '_playbook_name: '\n",
      "                                                   'rca-ospf-playbook, '\n",
      "                                                   'interface: lo0'},\n",
      "                                          {'children': [{'color': 'green',\n",
      "                                                         'data': '',\n",
      "                                                         'name': 'system-output-queue-drops',\n",
      "                                                         'timestamp': '2019-08-28T04:27:46Z'}],\n",
      "                                           'color': 'green',\n",
      "                                           'name': '_instance_id: [\"test1\"], '\n",
      "                                                   '_playbook_name: '\n",
      "                                                   'rca-ospf-playbook, '\n",
      "                                                   'interface: jsrv'},\n",
      "                                          {'children': [{'color': 'green',\n",
      "                                                         'data': '',\n",
      "                                                         'name': 'system-output-queue-drops',\n",
      "                                                         'timestamp': '2019-08-28T04:27:46Z'}],\n",
      "                                           'color': 'green',\n",
      "                                           'name': '_instance_id: [\"test1\"], '\n",
      "                                                   '_playbook_name: '\n",
      "                                                   'rca-ospf-playbook, '\n",
      "                                                   'interface: irb'},\n",
      "                                          {'children': [{'color': 'green',\n",
      "                                                         'data': '',\n",
      "                                                         'name': 'system-output-queue-drops',\n",
      "                                                         'timestamp': '2019-08-28T04:27:46Z'}],\n",
      "                                           'color': 'green',\n",
      "                                           'name': '_instance_id: [\"test1\"], '\n",
      "                                                   '_playbook_name: '\n",
      "                                                   'rca-ospf-playbook, '\n",
      "                                                   'interface: ipip'},\n",
      "                                          {'children': [{'color': 'green',\n",
      "                                                         'data': '',\n",
      "                                                         'name': 'system-output-queue-drops',\n",
      "                                                         'timestamp': '2019-08-28T04:27:46Z'}],\n",
      "                                           'color': 'green',\n",
      "                                           'name': '_instance_id: [\"test1\"], '\n",
      "                                                   '_playbook_name: '\n",
      "                                                   'rca-ospf-playbook, '\n",
      "                                                   'interface: gre'},\n",
      "                                          {'children': [{'color': 'yellow',\n",
      "                                                         'data': 'System '\n",
      "                                                                 'interface '\n",
      "                                                                 'output drops '\n",
      "                                                                 '(2) are '\n",
      "                                                                 'non-zero',\n",
      "                                                         'name': 'system-output-queue-drops',\n",
      "                                                         'timestamp': '2019-08-28T04:27:46Z'}],\n",
      "                                           'color': 'yellow',\n",
      "                                           'name': '_instance_id: [\"test1\"], '\n",
      "                                                   '_playbook_name: '\n",
      "                                                   'rca-ospf-playbook, '\n",
      "                                                   'interface: fxp0'},\n",
      "                                          {'children': [{'color': 'green',\n",
      "                                                         'data': '',\n",
      "                                                         'name': 'system-output-queue-drops',\n",
      "                                                         'timestamp': '2019-08-28T04:27:46Z'}],\n",
      "                                           'color': 'green',\n",
      "                                           'name': '_instance_id: [\"test1\"], '\n",
      "                                                   '_playbook_name: '\n",
      "                                                   'rca-ospf-playbook, '\n",
      "                                                   'interface: fti7'},\n",
      "                                          {'children': [{'color': 'green',\n",
      "                                                         'data': '',\n",
      "                                                         'name': 'system-output-queue-drops',\n",
      "                                                         'timestamp': '2019-08-28T04:27:46Z'}],\n",
      "                                           'color': 'green',\n",
      "                                           'name': '_instance_id: [\"test1\"], '\n",
      "                                                   '_playbook_name: '\n",
      "                                                   'rca-ospf-playbook, '\n",
      "                                                   'interface: fti6'},\n",
      "                                          {'children': [{'color': 'green',\n",
      "                                                         'data': '',\n",
      "                                                         'name': 'system-output-queue-drops',\n",
      "                                                         'timestamp': '2019-08-28T04:27:46Z'}],\n",
      "                                           'color': 'green',\n",
      "                                           'name': '_instance_id: [\"test1\"], '\n",
      "                                                   '_playbook_name: '\n",
      "                                                   'rca-ospf-playbook, '\n",
      "                                                   'interface: fti5'},\n",
      "                                          {'children': [{'color': 'green',\n",
      "                                                         'data': '',\n",
      "                                                         'name': 'system-output-queue-drops',\n",
      "                                                         'timestamp': '2019-08-28T04:27:46Z'}],\n",
      "                                           'color': 'green',\n",
      "                                           'name': '_instance_id: [\"test1\"], '\n",
      "                                                   '_playbook_name: '\n",
      "                                                   'rca-ospf-playbook, '\n",
      "                                                   'interface: fti4'},\n",
      "                                          {'children': [{'color': 'green',\n",
      "                                                         'data': '',\n",
      "                                                         'name': 'system-output-queue-drops',\n",
      "                                                         'timestamp': '2019-08-28T04:27:46Z'}],\n",
      "                                           'color': 'green',\n",
      "                                           'name': '_instance_id: [\"test1\"], '\n",
      "                                                   '_playbook_name: '\n",
      "                                                   'rca-ospf-playbook, '\n",
      "                                                   'interface: fti3'},\n",
      "                                          {'children': [{'color': 'green',\n",
      "                                                         'data': '',\n",
      "                                                         'name': 'system-output-queue-drops',\n",
      "                                                         'timestamp': '2019-08-28T04:27:46Z'}],\n",
      "                                           'color': 'green',\n",
      "                                           'name': '_instance_id: [\"test1\"], '\n",
      "                                                   '_playbook_name: '\n",
      "                                                   'rca-ospf-playbook, '\n",
      "                                                   'interface: fti2'},\n",
      "                                          {'children': [{'color': 'green',\n",
      "                                                         'data': '',\n",
      "                                                         'name': 'system-output-queue-drops',\n",
      "                                                         'timestamp': '2019-08-28T04:27:46Z'}],\n",
      "                                           'color': 'green',\n",
      "                                           'name': '_instance_id: [\"test1\"], '\n",
      "                                                   '_playbook_name: '\n",
      "                                                   'rca-ospf-playbook, '\n",
      "                                                   'interface: fti1'},\n",
      "                                          {'children': [{'color': 'green',\n",
      "                                                         'data': '',\n",
      "                                                         'name': 'system-output-queue-drops',\n",
      "                                                         'timestamp': '2019-08-28T04:27:46Z'}],\n",
      "                                           'color': 'green',\n",
      "                                           'name': '_instance_id: [\"test1\"], '\n",
      "                                                   '_playbook_name: '\n",
      "                                                   'rca-ospf-playbook, '\n",
      "                                                   'interface: fti0'},\n",
      "                                          {'children': [{'color': 'green',\n",
      "                                                         'data': '',\n",
      "                                                         'name': 'system-output-queue-drops',\n",
      "                                                         'timestamp': '2019-08-28T04:27:46Z'}],\n",
      "                                           'color': 'green',\n",
      "                                           'name': '_instance_id: [\"test1\"], '\n",
      "                                                   '_playbook_name: '\n",
      "                                                   'rca-ospf-playbook, '\n",
      "                                                   'interface: esi'},\n",
      "                                          {'children': [{'color': 'green',\n",
      "                                                         'data': '',\n",
      "                                                         'name': 'system-output-queue-drops',\n",
      "                                                         'timestamp': '2019-08-28T04:27:46Z'}],\n",
      "                                           'color': 'green',\n",
      "                                           'name': '_instance_id: [\"test1\"], '\n",
      "                                                   '_playbook_name: '\n",
      "                                                   'rca-ospf-playbook, '\n",
      "                                                   'interface: em2'},\n",
      "                                          {'children': [{'color': 'yellow',\n",
      "                                                         'data': 'System '\n",
      "                                                                 'interface '\n",
      "                                                                 'output drops '\n",
      "                                                                 '(3) are '\n",
      "                                                                 'non-zero',\n",
      "                                                         'name': 'system-output-queue-drops',\n",
      "                                                         'timestamp': '2019-08-28T04:27:46Z'}],\n",
      "                                           'color': 'yellow',\n",
      "                                           'name': '_instance_id: [\"test1\"], '\n",
      "                                                   '_playbook_name: '\n",
      "                                                   'rca-ospf-playbook, '\n",
      "                                                   'interface: em1'},\n",
      "                                          {'children': [{'color': 'green',\n",
      "                                                         'data': '',\n",
      "                                                         'name': 'system-output-queue-drops',\n",
      "                                                         'timestamp': '2019-08-28T04:27:46Z'}],\n",
      "                                           'color': 'green',\n",
      "                                           'name': '_instance_id: [\"test1\"], '\n",
      "                                                   '_playbook_name: '\n",
      "                                                   'rca-ospf-playbook, '\n",
      "                                                   'interface: dsc'},\n",
      "                                          {'children': [{'color': 'green',\n",
      "                                                         'data': '',\n",
      "                                                         'name': 'system-output-queue-drops',\n",
      "                                                         'timestamp': '2019-08-28T04:27:46Z'}],\n",
      "                                           'color': 'green',\n",
      "                                           'name': '_instance_id: [\"test1\"], '\n",
      "                                                   '_playbook_name: '\n",
      "                                                   'rca-ospf-playbook, '\n",
      "                                                   'interface: demux0'},\n",
      "                                          {'children': [{'color': 'green',\n",
      "                                                         'data': '',\n",
      "                                                         'name': 'system-output-queue-drops',\n",
      "                                                         'timestamp': '2019-08-28T04:27:46Z'}],\n",
      "                                           'color': 'green',\n",
      "                                           'name': '_instance_id: [\"test1\"], '\n",
      "                                                   '_playbook_name: '\n",
      "                                                   'rca-ospf-playbook, '\n",
      "                                                   'interface: cbp0'},\n",
      "                                          {'children': [{'color': 'green',\n",
      "                                                         'data': '',\n",
      "                                                         'name': 'routing-engine-cpu-utilization-idle-15min',\n",
      "                                                         'timestamp': '2019-08-28T04:28:04Z'},\n",
      "                                                        {'color': 'green',\n",
      "                                                         'data': '',\n",
      "                                                         'name': 'routing-engine-cpu-utilization-idle-1min',\n",
      "                                                         'timestamp': '2019-08-28T04:28:04Z'},\n",
      "                                                        {'color': 'green',\n",
      "                                                         'data': '',\n",
      "                                                         'name': 'routing-engine-cpu-utilization-idle-5-sec',\n",
      "                                                         'timestamp': '2019-08-28T04:28:04Z'},\n",
      "                                                        {'color': 'green',\n",
      "                                                         'data': '',\n",
      "                                                         'name': 'routing-engine-cpu-utilization-idle-5min',\n",
      "                                                         'timestamp': '2019-08-28T04:28:05Z'}],\n",
      "                                           'color': 'green',\n",
      "                                           'name': '_instance_id: [\"test1\"], '\n",
      "                                                   '_playbook_name: '\n",
      "                                                   'rca-ospf-playbook, slot: '\n",
      "                                                   '0'}],\n",
      "                             'color': 'yellow',\n",
      "                             'name': 'system.statistics'}],\n",
      "               'color': 'red',\n",
      "               'name': 'Core'}],\n",
      " 'color': 'red',\n",
      " 'data': None,\n",
      " 'name': 'vmx',\n",
      " 'timestamp': None}\n"
     ]
    }
   ],
   "source": [
    "pprint(hb.device.health('vmx'))"
   ]
  },
  {
   "cell_type": "code",
   "execution_count": 86,
   "metadata": {},
   "outputs": [
    {
     "name": "stdout",
     "output_type": "stream",
     "text": [
      "{'children': [{'children': [{'children': [], 'name': 'external'}],\n",
      "               'name': 'vmx'}],\n",
      " 'color': None,\n",
      " 'data': None,\n",
      " 'name': 'real',\n",
      " 'timestamp': None}\n"
     ]
    }
   ],
   "source": [
    "pprint(hb.device_group.health('real'))"
   ]
  },
  {
   "cell_type": "markdown",
   "metadata": {},
   "source": [
    "# Use Case: Database\n",
    "    This we might need to take it off"
   ]
  },
  {
   "cell_type": "code",
   "execution_count": 87,
   "metadata": {},
   "outputs": [
    {
     "name": "stdout",
     "output_type": "stream",
     "text": [
      "ResultSet({'('databases', None)': [{'name': 'health'}, {'name': '_internal'}, {'name': 'Core:vmx'}, {'name': 'real:avro'}, {'name': 'Core:demo'}, {'name': 'EVO_Core:EVO'}, {'name': 'EVO_CORE:EVO'}, {'name': 'vmx_db:vmx_db'}, {'name': 'vmx_db:core_db'}, {'name': 'real:vmx'}]})\n"
     ]
    }
   ],
   "source": [
    "print (hb.tsdb.query(\"show databases\"))"
   ]
  },
  {
   "cell_type": "code",
   "execution_count": 88,
   "metadata": {},
   "outputs": [
    {
     "name": "stdout",
     "output_type": "stream",
     "text": [
      "{'statement_id': 0}\n"
     ]
    }
   ],
   "source": [
    "obj = hb.tsdb.query('select * from \"protocol-eventd-host/check-host-traffic/packet-loss\" limit 10', database='Core:vmx')\n",
    "pprint(obj.raw)"
   ]
  },
  {
   "cell_type": "code",
   "execution_count": 89,
   "metadata": {},
   "outputs": [
    {
     "name": "stdout",
     "output_type": "stream",
     "text": [
      "2.0.1\n"
     ]
    }
   ],
   "source": [
    "print(hb.version)"
   ]
  },
  {
   "cell_type": "code",
   "execution_count": 90,
   "metadata": {},
   "outputs": [],
   "source": [
    "### Load any helper file"
   ]
  },
  {
   "cell_type": "code",
   "execution_count": 91,
   "metadata": {},
   "outputs": [
    {
     "ename": "FileNotFoundError",
     "evalue": "[Errno 2] No such file or directory: '/Users/nitinkr/xxx/xyz.rule'",
     "output_type": "error",
     "traceback": [
      "\u001b[0;31m---------------------------------------------------------------------------\u001b[0m",
      "\u001b[0;31mFileNotFoundError\u001b[0m                         Traceback (most recent call last)",
      "\u001b[0;32m<ipython-input-91-9d91bf6f2e42>\u001b[0m in \u001b[0;36m<module>\u001b[0;34m\u001b[0m\n\u001b[0;32m----> 1\u001b[0;31m \u001b[0mhb\u001b[0m\u001b[0;34m.\u001b[0m\u001b[0mupload_helper_file\u001b[0m\u001b[0;34m(\u001b[0m\u001b[0;34m'/Users/nitinkr/xxx/xyz.rule'\u001b[0m\u001b[0;34m)\u001b[0m\u001b[0;34m\u001b[0m\u001b[0;34m\u001b[0m\u001b[0m\n\u001b[0m",
      "\u001b[0;32m~/Coding/git.juniper.net.iceberg/healthbot-py-client/lib/jnpr/healthbot/healthbot.py\u001b[0m in \u001b[0;36mupload_helper_file\u001b[0;34m(self, filename)\u001b[0m\n\u001b[1;32m    248\u001b[0m             \u001b[0;32mif\u001b[0m \u001b[0mfilename\u001b[0m\u001b[0;34m.\u001b[0m\u001b[0mendswith\u001b[0m\u001b[0;34m(\u001b[0m\u001b[0;34m'.rule'\u001b[0m\u001b[0;34m)\u001b[0m\u001b[0;34m:\u001b[0m\u001b[0;34m\u001b[0m\u001b[0;34m\u001b[0m\u001b[0m\n\u001b[1;32m    249\u001b[0m                 \u001b[0murl\u001b[0m \u001b[0;34m=\u001b[0m \u001b[0mself\u001b[0m\u001b[0;34m.\u001b[0m\u001b[0murlfor\u001b[0m\u001b[0;34m.\u001b[0m\u001b[0mtopics\u001b[0m\u001b[0;34m(\u001b[0m\u001b[0;34m)\u001b[0m\u001b[0;34m\u001b[0m\u001b[0;34m\u001b[0m\u001b[0m\n\u001b[0;32m--> 250\u001b[0;31m                 \u001b[0mfiles\u001b[0m \u001b[0;34m=\u001b[0m \u001b[0;34m{\u001b[0m\u001b[0;34m'topics'\u001b[0m\u001b[0;34m:\u001b[0m \u001b[0mfile_p\u001b[0m\u001b[0;34m.\u001b[0m\u001b[0mopen\u001b[0m\u001b[0;34m(\u001b[0m\u001b[0;34m'rb'\u001b[0m\u001b[0;34m)\u001b[0m\u001b[0;34m}\u001b[0m\u001b[0;34m\u001b[0m\u001b[0;34m\u001b[0m\u001b[0m\n\u001b[0m\u001b[1;32m    251\u001b[0m             \u001b[0;32melif\u001b[0m \u001b[0mfilename\u001b[0m\u001b[0;34m.\u001b[0m\u001b[0mendswith\u001b[0m\u001b[0;34m(\u001b[0m\u001b[0;34m'.playbook'\u001b[0m\u001b[0;34m)\u001b[0m\u001b[0;34m:\u001b[0m\u001b[0;34m\u001b[0m\u001b[0;34m\u001b[0m\u001b[0m\n\u001b[1;32m    252\u001b[0m                 \u001b[0murl\u001b[0m \u001b[0;34m=\u001b[0m \u001b[0mself\u001b[0m\u001b[0;34m.\u001b[0m\u001b[0murlfor\u001b[0m\u001b[0;34m.\u001b[0m\u001b[0mplaybooks\u001b[0m\u001b[0;34m(\u001b[0m\u001b[0;34m)\u001b[0m\u001b[0;34m\u001b[0m\u001b[0;34m\u001b[0m\u001b[0m\n",
      "\u001b[0;32m/Library/Frameworks/Python.framework/Versions/3.6/lib/python3.6/pathlib.py\u001b[0m in \u001b[0;36mopen\u001b[0;34m(self, mode, buffering, encoding, errors, newline)\u001b[0m\n\u001b[1;32m   1181\u001b[0m             \u001b[0mself\u001b[0m\u001b[0;34m.\u001b[0m\u001b[0m_raise_closed\u001b[0m\u001b[0;34m(\u001b[0m\u001b[0;34m)\u001b[0m\u001b[0;34m\u001b[0m\u001b[0;34m\u001b[0m\u001b[0m\n\u001b[1;32m   1182\u001b[0m         return io.open(str(self), mode, buffering, encoding, errors, newline,\n\u001b[0;32m-> 1183\u001b[0;31m                        opener=self._opener)\n\u001b[0m\u001b[1;32m   1184\u001b[0m \u001b[0;34m\u001b[0m\u001b[0m\n\u001b[1;32m   1185\u001b[0m     \u001b[0;32mdef\u001b[0m \u001b[0mread_bytes\u001b[0m\u001b[0;34m(\u001b[0m\u001b[0mself\u001b[0m\u001b[0;34m)\u001b[0m\u001b[0;34m:\u001b[0m\u001b[0;34m\u001b[0m\u001b[0;34m\u001b[0m\u001b[0m\n",
      "\u001b[0;32m/Library/Frameworks/Python.framework/Versions/3.6/lib/python3.6/pathlib.py\u001b[0m in \u001b[0;36m_opener\u001b[0;34m(self, name, flags, mode)\u001b[0m\n\u001b[1;32m   1035\u001b[0m     \u001b[0;32mdef\u001b[0m \u001b[0m_opener\u001b[0m\u001b[0;34m(\u001b[0m\u001b[0mself\u001b[0m\u001b[0;34m,\u001b[0m \u001b[0mname\u001b[0m\u001b[0;34m,\u001b[0m \u001b[0mflags\u001b[0m\u001b[0;34m,\u001b[0m \u001b[0mmode\u001b[0m\u001b[0;34m=\u001b[0m\u001b[0;36m0o666\u001b[0m\u001b[0;34m)\u001b[0m\u001b[0;34m:\u001b[0m\u001b[0;34m\u001b[0m\u001b[0;34m\u001b[0m\u001b[0m\n\u001b[1;32m   1036\u001b[0m         \u001b[0;31m# A stub for the opener argument to built-in open()\u001b[0m\u001b[0;34m\u001b[0m\u001b[0;34m\u001b[0m\u001b[0;34m\u001b[0m\u001b[0m\n\u001b[0;32m-> 1037\u001b[0;31m         \u001b[0;32mreturn\u001b[0m \u001b[0mself\u001b[0m\u001b[0;34m.\u001b[0m\u001b[0m_accessor\u001b[0m\u001b[0;34m.\u001b[0m\u001b[0mopen\u001b[0m\u001b[0;34m(\u001b[0m\u001b[0mself\u001b[0m\u001b[0;34m,\u001b[0m \u001b[0mflags\u001b[0m\u001b[0;34m,\u001b[0m \u001b[0mmode\u001b[0m\u001b[0;34m)\u001b[0m\u001b[0;34m\u001b[0m\u001b[0;34m\u001b[0m\u001b[0m\n\u001b[0m\u001b[1;32m   1038\u001b[0m \u001b[0;34m\u001b[0m\u001b[0m\n\u001b[1;32m   1039\u001b[0m     \u001b[0;32mdef\u001b[0m \u001b[0m_raw_open\u001b[0m\u001b[0;34m(\u001b[0m\u001b[0mself\u001b[0m\u001b[0;34m,\u001b[0m \u001b[0mflags\u001b[0m\u001b[0;34m,\u001b[0m \u001b[0mmode\u001b[0m\u001b[0;34m=\u001b[0m\u001b[0;36m0o777\u001b[0m\u001b[0;34m)\u001b[0m\u001b[0;34m:\u001b[0m\u001b[0;34m\u001b[0m\u001b[0;34m\u001b[0m\u001b[0m\n",
      "\u001b[0;32m/Library/Frameworks/Python.framework/Versions/3.6/lib/python3.6/pathlib.py\u001b[0m in \u001b[0;36mwrapped\u001b[0;34m(pathobj, *args)\u001b[0m\n\u001b[1;32m    385\u001b[0m         \u001b[0;34m@\u001b[0m\u001b[0mfunctools\u001b[0m\u001b[0;34m.\u001b[0m\u001b[0mwraps\u001b[0m\u001b[0;34m(\u001b[0m\u001b[0mstrfunc\u001b[0m\u001b[0;34m)\u001b[0m\u001b[0;34m\u001b[0m\u001b[0;34m\u001b[0m\u001b[0m\n\u001b[1;32m    386\u001b[0m         \u001b[0;32mdef\u001b[0m \u001b[0mwrapped\u001b[0m\u001b[0;34m(\u001b[0m\u001b[0mpathobj\u001b[0m\u001b[0;34m,\u001b[0m \u001b[0;34m*\u001b[0m\u001b[0margs\u001b[0m\u001b[0;34m)\u001b[0m\u001b[0;34m:\u001b[0m\u001b[0;34m\u001b[0m\u001b[0;34m\u001b[0m\u001b[0m\n\u001b[0;32m--> 387\u001b[0;31m             \u001b[0;32mreturn\u001b[0m \u001b[0mstrfunc\u001b[0m\u001b[0;34m(\u001b[0m\u001b[0mstr\u001b[0m\u001b[0;34m(\u001b[0m\u001b[0mpathobj\u001b[0m\u001b[0;34m)\u001b[0m\u001b[0;34m,\u001b[0m \u001b[0;34m*\u001b[0m\u001b[0margs\u001b[0m\u001b[0;34m)\u001b[0m\u001b[0;34m\u001b[0m\u001b[0;34m\u001b[0m\u001b[0m\n\u001b[0m\u001b[1;32m    388\u001b[0m         \u001b[0;32mreturn\u001b[0m \u001b[0mstaticmethod\u001b[0m\u001b[0;34m(\u001b[0m\u001b[0mwrapped\u001b[0m\u001b[0;34m)\u001b[0m\u001b[0;34m\u001b[0m\u001b[0;34m\u001b[0m\u001b[0m\n\u001b[1;32m    389\u001b[0m \u001b[0;34m\u001b[0m\u001b[0m\n",
      "\u001b[0;31mFileNotFoundError\u001b[0m: [Errno 2] No such file or directory: '/Users/nitinkr/xxx/xyz.rule'"
     ]
    }
   ],
   "source": [
    "hb.upload_helper_file('/Users/nitinkr/xxx/xyz.rule')\n"
   ]
  },
  {
   "cell_type": "markdown",
   "metadata": {},
   "source": [
    "# Use Case: Notification"
   ]
  },
  {
   "cell_type": "code",
   "execution_count": 92,
   "metadata": {},
   "outputs": [
    {
     "data": {
      "text/plain": [
       "True"
      ]
     },
     "execution_count": 92,
     "metadata": {},
     "output_type": "execute_result"
    }
   ],
   "source": [
    "from jnpr.healthbot import NotificationSchema\n",
    "from jnpr.healthbot import NotificationSchemaSlack\n",
    "\n",
    "\n",
    "ns = NotificationSchema(notification_name='HbEZ-notification')\n",
    "ns.description = \"example of adding notification via API\"\n",
    "nss = NotificationSchemaSlack(channel=\"HbEZ\", url='http://testing')\n",
    "ns.slack = nss\n",
    "hb.settings.notification.add(ns)"
   ]
  },
  {
   "cell_type": "code",
   "execution_count": 93,
   "metadata": {},
   "outputs": [
    {
     "name": "stdout",
     "output_type": "stream",
     "text": [
      "[{'description': 'example of adding notification via API',\n",
      " 'http_post': None,\n",
      " 'kafka_publish': None,\n",
      " 'notification_name': 'HbEZ-notification',\n",
      " 'slack': {'channel': 'HbEZ', 'url': 'http://testing'}}]\n"
     ]
    }
   ],
   "source": [
    "print(hb.settings.notification.get())"
   ]
  },
  {
   "cell_type": "code",
   "execution_count": 94,
   "metadata": {},
   "outputs": [
    {
     "name": "stderr",
     "output_type": "stream",
     "text": [
      "\n"
     ]
    },
    {
     "name": "stdout",
     "output_type": "stream",
     "text": [
      "True\n"
     ]
    }
   ],
   "source": [
    "pprint(hb.settings.notification.delete('HbEZ-notification'))"
   ]
  },
  {
   "cell_type": "markdown",
   "metadata": {},
   "source": [
    "# Use Case: Settings"
   ]
  },
  {
   "cell_type": "code",
   "execution_count": 3,
   "metadata": {},
   "outputs": [
    {
     "data": {
      "text/plain": [
       "True"
      ]
     },
     "execution_count": 3,
     "metadata": {},
     "output_type": "execute_result"
    }
   ],
   "source": [
    "from jnpr.healthbot import RetentionPolicySchema\n",
    "\n",
    "rps = RetentionPolicySchema(retention_policy_name='HbEZ-testing')\n",
    "hb.settings.retention_policy.add(rps)"
   ]
  },
  {
   "cell_type": "code",
   "execution_count": 4,
   "metadata": {},
   "outputs": [
    {
     "name": "stdout",
     "output_type": "stream",
     "text": [
      "[{'duration': None, 'replication': None, 'retention_policy_name': 'HbEZ-testing'}, {'duration': None,\n",
      " 'replication': None,\n",
      " 'retention_policy_name': 'HbEZ-testing1'}, {'duration': None,\n",
      " 'replication': None,\n",
      " 'retention_policy_name': 'HbEZ-testing2'}]\n"
     ]
    }
   ],
   "source": [
    "print(hb.settings.retention_policy.get())"
   ]
  },
  {
   "cell_type": "code",
   "execution_count": 5,
   "metadata": {},
   "outputs": [
    {
     "data": {
      "text/plain": [
       "True"
      ]
     },
     "execution_count": 5,
     "metadata": {},
     "output_type": "execute_result"
    }
   ],
   "source": [
    "from jnpr.healthbot import SchedulerSchema\n",
    "sc = SchedulerSchema(name='HbEZ-schedule', repeat={'every': 'week'}, start_time=\"2019-07-22T05:32:23Z\")\n",
    "hb.settings.scheduler.add(sc)\n",
    "\n",
    "from jnpr.healthbot import DestinationSchema\n",
    "ds = DestinationSchema(name='HbEZ-destination', email={'id': 'nitinkr@juniper.net'})\n",
    "hb.settings.destination.add(ds)\n",
    "\n",
    "from jnpr.healthbot import ReportSchema\n",
    "rs = ReportSchema(name=\"HbEZ-report\", destination=['HbEZ-destination'], format=\"html\", schedule=[\"HbEZ-schedule\"])\n",
    "hb.settings.report.add(rs)"
   ]
  },
  {
   "cell_type": "markdown",
   "metadata": {},
   "source": [
    "# Use Case: PlayBook Instance"
   ]
  },
  {
   "cell_type": "code",
   "execution_count": 6,
   "metadata": {},
   "outputs": [
    {
     "data": {
      "text/plain": [
       "True"
      ]
     },
     "execution_count": 6,
     "metadata": {},
     "output_type": "execute_result"
    }
   ],
   "source": [
    "from jnpr.healthbot.modules.playbooks import PlayBookInstanceBuilder\n",
    "\n",
    "# case where we dont need to set any variable\n",
    "pbb = PlayBookInstanceBuilder(hb, 'forwarding-table-summary', 'HbEZ-instance', 'Core')\n",
    "pbb.apply()\n",
    "\n",
    "#hb.commit()"
   ]
  },
  {
   "cell_type": "markdown",
   "metadata": {},
   "source": [
    "### when we need to set any rule variable for given device/group in playbook instance"
   ]
  },
  {
   "cell_type": "code",
   "execution_count": 7,
   "metadata": {},
   "outputs": [
    {
     "data": {
      "text/plain": [
       "True"
      ]
     },
     "execution_count": 7,
     "metadata": {},
     "output_type": "execute_result"
    }
   ],
   "source": [
    "from jnpr.healthbot import PlayBookInstanceBuilder\n",
    "\n",
    "pbb = PlayBookInstanceBuilder(hb, 'forwarding-table-summary', 'HbEZ-instance', 'Core')\n",
    "\n",
    "variable = pbb.rule_variables[\"protocol.routesummary/check-fib-summary\"]\n",
    "\n",
    "\n",
    "variable.route_address_family = 'pqr'\n",
    "variable.route_count_threshold = 100\n",
    "\n",
    "# Apply variable to given device(s)\n",
    "pbb.apply(device_ids=['vmx'])\n",
    "\n",
    "#clear all the variable if you want to set it something else for group or other device(s)\n",
    "pbb.clear()\n",
    "\n",
    "variable = pbb.rule_variables[\"protocol.routesummary/check-fib-summary\"]\n",
    "variable.route_address_family = 'abc'\n",
    "variable.route_count_threshold = 200\n",
    "\n",
    "pbb.apply()\n",
    "\n",
    "hb.commit()"
   ]
  },
  {
   "cell_type": "code",
   "execution_count": 4,
   "metadata": {},
   "outputs": [
    {
     "name": "stderr",
     "output_type": "stream",
     "text": [
      "DEBUG:/Users/nitinkr/Coding/git.juniper.net.iceberg/healthbot-py-client/lib/jnpr/healthbot/modules/playbooks.py:Getting details of playbook 'forwarding-table-summary'\n",
      "DEBUG:urllib3.connectionpool:https://10.209.7.33:8080 \"GET /api/v1/playbook/forwarding-table-summary/?working=true HTTP/1.1\" 200 355\n",
      "DEBUG:urllib3.connectionpool:https://10.209.7.33:8080 \"GET /api/v1/topic/protocol.routesummary/rule/check-fib-summary/?working=true HTTP/1.1\" 200 4688\n",
      "DEBUG:urllib3.connectionpool:https://10.209.7.33:8080 \"GET /api/v1/device-group/Core/?working=true HTTP/1.1\" 200 8457\n",
      "DEBUG:urllib3.connectionpool:https://10.209.7.33:8080 \"GET /api/v1/device/vmx/?working=true HTTP/1.1\" 200 390\n",
      "DEBUG:urllib3.connectionpool:https://10.209.7.33:8080 \"PUT /api/v1/device-group/Core HTTP/1.1\" 200 0\n"
     ]
    },
    {
     "data": {
      "text/plain": [
       "True"
      ]
     },
     "execution_count": 4,
     "metadata": {},
     "output_type": "execute_result"
    }
   ],
   "source": [
    "from jnpr.healthbot import PlayBookInstanceBuilder\n",
    "\n",
    "import logging\n",
    "logging.basicConfig(level=logging.DEBUG)\n",
    "pbb = PlayBookInstanceBuilder(hb, 'forwarding-table-summary', 'HbEZ-instance', 'Core')\n",
    "\n",
    "pbb.delete()"
   ]
  },
  {
   "cell_type": "code",
   "execution_count": 10,
   "metadata": {},
   "outputs": [
    {
     "name": "stderr",
     "output_type": "stream",
     "text": [
      "DEBUG:urllib3.connectionpool:https://10.209.7.33:8080 \"GET /api/v1/topic/hbez/rule/hbez-fpc-heap-utilization/?working=true HTTP/1.1\" 200 4570\n"
     ]
    }
   ],
   "source": [
    "rule = hb.rule.get('hbez', 'hbez-fpc-heap-utilization')"
   ]
  },
  {
   "cell_type": "code",
   "execution_count": 11,
   "metadata": {},
   "outputs": [
    {
     "data": {
      "text/plain": [
       "[{'description': 'Monitors FPC buffer, heap and cpu utilization',\n",
       "  'iAgent': {'file': 'fpc-utilization.yml',\n",
       "   'frequency': '30s',\n",
       "   'table': 'FPCCPUHEAPutilizationTable'},\n",
       "  'sensor-name': 'fpccpuheaputilization'}]"
      ]
     },
     "execution_count": 11,
     "metadata": {},
     "output_type": "execute_result"
    }
   ],
   "source": [
    "rule.sensor"
   ]
  },
  {
   "cell_type": "code",
   "execution_count": 14,
   "metadata": {},
   "outputs": [],
   "source": [
    "existing_rule = copy.copy(rule.sensor)\n",
    "for i in existing_rule:\n",
    "    if i.get('iAgent') is not None:\n",
    "        rule.sensor.remove(i)"
   ]
  },
  {
   "cell_type": "code",
   "execution_count": 15,
   "metadata": {},
   "outputs": [
    {
     "data": {
      "text/plain": [
       "[]"
      ]
     },
     "execution_count": 15,
     "metadata": {},
     "output_type": "execute_result"
    }
   ],
   "source": [
    "hb.rule.update(rule)"
   ]
  },
  {
   "cell_type": "markdown",
   "metadata": {},
   "source": [
    "## Thanks"
   ]
  }
 ],
 "metadata": {
  "kernelspec": {
   "display_name": "Python 3",
   "language": "python",
   "name": "python3"
  },
  "language_info": {
   "codemirror_mode": {
    "name": "ipython",
    "version": 3
   },
   "file_extension": ".py",
   "mimetype": "text/x-python",
   "name": "python",
   "nbconvert_exporter": "python",
   "pygments_lexer": "ipython3",
   "version": "3.6.7"
  }
 },
 "nbformat": 4,
 "nbformat_minor": 2
}
