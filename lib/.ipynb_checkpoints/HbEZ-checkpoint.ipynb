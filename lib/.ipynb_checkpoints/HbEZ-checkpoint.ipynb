{
 "cells": [
  {
   "cell_type": "markdown",
   "metadata": {},
   "source": [
    "# Import HbEZ library"
   ]
  },
  {
   "cell_type": "code",
   "execution_count": 1,
   "metadata": {},
   "outputs": [],
   "source": [
    "from jnpr.healthbot import HealthBotClient\n",
    "from pprint import pprint"
   ]
  },
  {
   "cell_type": "code",
   "execution_count": 2,
   "metadata": {},
   "outputs": [],
   "source": [
    "hb = HealthBotClient('10.209.7.33', 'regress', 'MaRtInI')"
   ]
  },
  {
   "cell_type": "markdown",
   "metadata": {},
   "source": [
    "# Use Case: Device"
   ]
  },
  {
   "cell_type": "code",
   "execution_count": 4,
   "metadata": {},
   "outputs": [
    {
     "name": "stdout",
     "output_type": "stream",
     "text": [
      "['avro', 'EVO', 'vmx', 'vmx_db', 'core_db', 'node1', 'demo']\n"
     ]
    }
   ],
   "source": [
    "pprint(hb.device.get_ids())"
   ]
  },
  {
   "cell_type": "markdown",
   "metadata": {},
   "source": [
    "### Getting help for any given function"
   ]
  },
  {
   "cell_type": "code",
   "execution_count": 5,
   "metadata": {},
   "outputs": [
    {
     "name": "stdout",
     "output_type": "stream",
     "text": [
      "Help on method get_ids in module jnpr.healthbot.modules.devices:\n",
      "\n",
      "get_ids() method of jnpr.healthbot.modules.devices.Device instance\n",
      "    Return Device IDs for all the devices in HealthBot system\n",
      "    \n",
      "    :return: list of device IDs\n",
      "    \n",
      "    Example:\n",
      "    ::\n",
      "    \n",
      "        from jnpr.healthbot import HealthBotClient\n",
      "        hb = HealthBotClient('xx.xxx.x.xx', 'xxxx', 'xxxx')\n",
      "        print(hb.device.get_ids())\n",
      "\n"
     ]
    }
   ],
   "source": [
    "help(hb.device.get_ids)"
   ]
  },
  {
   "cell_type": "markdown",
   "metadata": {},
   "source": [
    "### Get config related to given device-id"
   ]
  },
  {
   "cell_type": "code",
   "execution_count": 8,
   "metadata": {},
   "outputs": [],
   "source": [
    "# Get config related to given device-id\n",
    "obj = hb.device.get('demo')"
   ]
  },
  {
   "cell_type": "code",
   "execution_count": 9,
   "metadata": {},
   "outputs": [
    {
     "data": {
      "text/plain": [
       "'10.221.136.140'"
      ]
     },
     "execution_count": 9,
     "metadata": {},
     "output_type": "execute_result"
    }
   ],
   "source": [
    "obj.host"
   ]
  },
  {
   "cell_type": "code",
   "execution_count": 10,
   "metadata": {},
   "outputs": [
    {
     "name": "stdout",
     "output_type": "stream",
     "text": [
      "{'authentication': {'password': {'password': '$9$JeGiqmPQ3/AfTAuBEeK-db',\n",
      "                                 'username': 'regress'}},\n",
      " 'description': None,\n",
      " 'device_id': 'demo',\n",
      " 'host': '10.221.136.140',\n",
      " 'i_agent': None,\n",
      " 'open_config': None,\n",
      " 'snmp': None,\n",
      " 'system_id': 'test:HbEZ',\n",
      " 'variable': None,\n",
      " 'vendor': None}\n"
     ]
    }
   ],
   "source": [
    "pprint(obj)"
   ]
  },
  {
   "cell_type": "markdown",
   "metadata": {},
   "source": [
    "### get facts for the given device id"
   ]
  },
  {
   "cell_type": "code",
   "execution_count": 12,
   "metadata": {},
   "outputs": [
    {
     "name": "stdout",
     "output_type": "stream",
     "text": [
      "{'device-id': 'demo',\n",
      " 'facts': {'fpc': [],\n",
      "           'hostname': 'R1_re0',\n",
      "           'junos-info': [{'last-reboot-reason': 'Router rebooted after a '\n",
      "                                                 'normal shutdown.',\n",
      "                           'mastership-state': 'master',\n",
      "                           'model': 'RE-VMX',\n",
      "                           'name': 're0',\n",
      "                           'status': 'OK',\n",
      "                           'up-time': '98 days, 3 minutes, 49 seconds',\n",
      "                           'version-info': {'build': '0',\n",
      "                                            'major': [19, 3],\n",
      "                                            'minor': ['20190421_dev_common'],\n",
      "                                            'type': 'I'}}],\n",
      "           'platform': 'MX960',\n",
      "           'platform-info': [{'name': 're0', 'platform': 'MX960'}],\n",
      "           'product': 'MX',\n",
      "           'release': '19.3-20190421_dev_common.0.84473',\n",
      "           'serial-number': 'VMX4eaf'}}\n"
     ]
    }
   ],
   "source": [
    "# Get device facts of a given device id\n",
    "pprint(hb.device.get_facts('demo'))"
   ]
  },
  {
   "cell_type": "markdown",
   "metadata": {},
   "source": [
    "### Add a new device"
   ]
  },
  {
   "cell_type": "code",
   "execution_count": 22,
   "metadata": {},
   "outputs": [
    {
     "name": "stdout",
     "output_type": "stream",
     "text": [
      "True\n"
     ]
    }
   ],
   "source": [
    "from jnpr.healthbot import DeviceSchema\n",
    "\n",
    "ds = DeviceSchema(device_id='demo', host='10.221.136.140',\n",
    "                  authentication={\"password\": {\"password\": \"MaRtInI\", \"username\": \"regress\"}})\n",
    "print(hb.device.add(schema=ds))"
   ]
  },
  {
   "cell_type": "code",
   "execution_count": 23,
   "metadata": {},
   "outputs": [
    {
     "name": "stdout",
     "output_type": "stream",
     "text": [
      "Help on class DeviceSchema in module jnpr.healthbot.swagger.models.device_schema:\n",
      "\n",
      "class DeviceSchema(builtins.object)\n",
      " |  NOTE: This class is auto generated by the swagger code generator program.\n",
      " |  \n",
      " |  Do not edit the class manually.\n",
      " |  \n",
      " |  Methods defined here:\n",
      " |  \n",
      " |  __eq__(self, other)\n",
      " |      Returns true if both objects are equal\n",
      " |  \n",
      " |  __init__(self, authentication=None, description=None, device_id=None, host=None, i_agent=None, open_config=None, snmp=None, system_id=None, variable=None, vendor=None)\n",
      " |      DeviceSchema - a model defined in Swagger\n",
      " |  \n",
      " |  __ne__(self, other)\n",
      " |      Returns true if both objects are not equal\n",
      " |  \n",
      " |  __repr__(self)\n",
      " |      For `print` and `pprint`\n",
      " |  \n",
      " |  to_dict(self)\n",
      " |      Returns the model properties as a dict\n",
      " |  \n",
      " |  to_str(self)\n",
      " |      Returns the string representation of the model\n",
      " |  \n",
      " |  ----------------------------------------------------------------------\n",
      " |  Data descriptors defined here:\n",
      " |  \n",
      " |  __dict__\n",
      " |      dictionary for instance variables (if defined)\n",
      " |  \n",
      " |  __weakref__\n",
      " |      list of weak references to the object (if defined)\n",
      " |  \n",
      " |  authentication\n",
      " |      Gets the authentication of this DeviceSchema.  # noqa: E501\n",
      " |      \n",
      " |      \n",
      " |      :return: The authentication of this DeviceSchema.  # noqa: E501\n",
      " |      :rtype: DeviceSchemaAuthentication\n",
      " |  \n",
      " |  description\n",
      " |      Gets the description of this DeviceSchema.  # noqa: E501\n",
      " |      \n",
      " |      Description about the device  # noqa: E501\n",
      " |      \n",
      " |      :return: The description of this DeviceSchema.  # noqa: E501\n",
      " |      :rtype: str\n",
      " |  \n",
      " |  device_id\n",
      " |      Gets the device_id of this DeviceSchema.  # noqa: E501\n",
      " |      \n",
      " |      Identifier for the device. Should be of pattern [a-zA-Z][a-zA-Z0-9_-]*  # noqa: E501\n",
      " |      \n",
      " |      :return: The device_id of this DeviceSchema.  # noqa: E501\n",
      " |      :rtype: str\n",
      " |  \n",
      " |  host\n",
      " |      Gets the host of this DeviceSchema.  # noqa: E501\n",
      " |      \n",
      " |      Name or IP the device  # noqa: E501\n",
      " |      \n",
      " |      :return: The host of this DeviceSchema.  # noqa: E501\n",
      " |      :rtype: str\n",
      " |  \n",
      " |  i_agent\n",
      " |      Gets the i_agent of this DeviceSchema.  # noqa: E501\n",
      " |      \n",
      " |      \n",
      " |      :return: The i_agent of this DeviceSchema.  # noqa: E501\n",
      " |      :rtype: DeviceSchemaIAgent\n",
      " |  \n",
      " |  open_config\n",
      " |      Gets the open_config of this DeviceSchema.  # noqa: E501\n",
      " |      \n",
      " |      \n",
      " |      :return: The open_config of this DeviceSchema.  # noqa: E501\n",
      " |      :rtype: DeviceSchemaOpenconfig\n",
      " |  \n",
      " |  snmp\n",
      " |      Gets the snmp of this DeviceSchema.  # noqa: E501\n",
      " |      \n",
      " |      \n",
      " |      :return: The snmp of this DeviceSchema.  # noqa: E501\n",
      " |      :rtype: DeviceSchemaSnmp\n",
      " |  \n",
      " |  system_id\n",
      " |      Gets the system_id of this DeviceSchema.  # noqa: E501\n",
      " |      \n",
      " |      ID which is sent in the JTI UDP messages  # noqa: E501\n",
      " |      \n",
      " |      :return: The system_id of this DeviceSchema.  # noqa: E501\n",
      " |      :rtype: str\n",
      " |  \n",
      " |  variable\n",
      " |      Gets the variable of this DeviceSchema.  # noqa: E501\n",
      " |      \n",
      " |      Playbook variable configuration  # noqa: E501\n",
      " |      \n",
      " |      :return: The variable of this DeviceSchema.  # noqa: E501\n",
      " |      :rtype: list[DeviceSchemaVariable]\n",
      " |  \n",
      " |  vendor\n",
      " |      Gets the vendor of this DeviceSchema.  # noqa: E501\n",
      " |      \n",
      " |      \n",
      " |      :return: The vendor of this DeviceSchema.  # noqa: E501\n",
      " |      :rtype: DeviceSchemaVendor\n",
      " |  \n",
      " |  ----------------------------------------------------------------------\n",
      " |  Data and other attributes defined here:\n",
      " |  \n",
      " |  __hash__ = None\n",
      " |  \n",
      " |  attribute_map = {'authentication': 'authentication', 'description': 'd...\n",
      " |  \n",
      " |  swagger_types = {'authentication': 'DeviceSchemaAuthentication', 'desc...\n",
      "\n"
     ]
    }
   ],
   "source": [
    "help(DeviceSchema)"
   ]
  },
  {
   "cell_type": "code",
   "execution_count": 24,
   "metadata": {},
   "outputs": [
    {
     "name": "stdout",
     "output_type": "stream",
     "text": [
      "{'authentication': {'password': {'password': '$9$vDYWx-Vb2oZDwYDH.56/1IE',\n",
      "                                 'username': 'regress'}},\n",
      " 'description': None,\n",
      " 'device_id': 'demo',\n",
      " 'host': '10.221.136.140',\n",
      " 'i_agent': None,\n",
      " 'open_config': None,\n",
      " 'snmp': None,\n",
      " 'system_id': None,\n",
      " 'variable': None,\n",
      " 'vendor': None}\n"
     ]
    }
   ],
   "source": [
    "dev = hb.device.get('demo')\n",
    "pprint(dev)"
   ]
  },
  {
   "cell_type": "markdown",
   "metadata": {},
   "source": [
    "### By default, get() returns uncommited data (from candidate DB)"
   ]
  },
  {
   "cell_type": "code",
   "execution_count": 25,
   "metadata": {},
   "outputs": [
    {
     "name": "stderr",
     "output_type": "stream",
     "text": [
      "{\n",
      "  \"detail\": \"Device id demo not found\",\n",
      "  \"status\": 404\n",
      "}\n",
      "\n"
     ]
    },
    {
     "ename": "HTTPError",
     "evalue": "404 Client Error: NOT FOUND for url: https://10.209.7.33:8080/api/v1/device/demo",
     "output_type": "error",
     "traceback": [
      "\u001b[0;31m---------------------------------------------------------------------------\u001b[0m",
      "\u001b[0;31mHTTPError\u001b[0m                                 Traceback (most recent call last)",
      "\u001b[0;32m<ipython-input-25-13c8b67cdb5c>\u001b[0m in \u001b[0;36m<module>\u001b[0;34m\u001b[0m\n\u001b[0;32m----> 1\u001b[0;31m \u001b[0mpprint\u001b[0m\u001b[0;34m(\u001b[0m\u001b[0mhb\u001b[0m\u001b[0;34m.\u001b[0m\u001b[0mdevice\u001b[0m\u001b[0;34m.\u001b[0m\u001b[0mget\u001b[0m\u001b[0;34m(\u001b[0m\u001b[0;34m'demo'\u001b[0m\u001b[0;34m,\u001b[0m \u001b[0muncommitted\u001b[0m\u001b[0;34m=\u001b[0m\u001b[0;32mFalse\u001b[0m\u001b[0;34m)\u001b[0m\u001b[0;34m)\u001b[0m\u001b[0;34m\u001b[0m\u001b[0;34m\u001b[0m\u001b[0m\n\u001b[0m",
      "\u001b[0;32m~/Coding/git.juniper.net.iceberg/healthbot-py-client/lib/jnpr/healthbot/modules/devices.py\u001b[0m in \u001b[0;36mget\u001b[0;34m(self, device_id, uncommitted)\u001b[0m\n\u001b[1;32m    217\u001b[0m             \u001b[0;32mif\u001b[0m \u001b[0mresponse\u001b[0m\u001b[0;34m.\u001b[0m\u001b[0mstatus_code\u001b[0m \u001b[0;34m!=\u001b[0m \u001b[0;36m200\u001b[0m\u001b[0;34m:\u001b[0m\u001b[0;34m\u001b[0m\u001b[0;34m\u001b[0m\u001b[0m\n\u001b[1;32m    218\u001b[0m                 \u001b[0mlogger\u001b[0m\u001b[0;34m.\u001b[0m\u001b[0merror\u001b[0m\u001b[0;34m(\u001b[0m\u001b[0mresponse\u001b[0m\u001b[0;34m.\u001b[0m\u001b[0mtext\u001b[0m\u001b[0;34m)\u001b[0m\u001b[0;34m\u001b[0m\u001b[0;34m\u001b[0m\u001b[0m\n\u001b[0;32m--> 219\u001b[0;31m             \u001b[0mresponse\u001b[0m\u001b[0;34m.\u001b[0m\u001b[0mraise_for_status\u001b[0m\u001b[0;34m(\u001b[0m\u001b[0;34m)\u001b[0m\u001b[0;34m\u001b[0m\u001b[0;34m\u001b[0m\u001b[0m\n\u001b[0m\u001b[1;32m    220\u001b[0m             \u001b[0;32mreturn\u001b[0m \u001b[0mself\u001b[0m\u001b[0;34m.\u001b[0m\u001b[0mhbot\u001b[0m\u001b[0;34m.\u001b[0m\u001b[0m_create_schema\u001b[0m\u001b[0;34m(\u001b[0m\u001b[0mresponse\u001b[0m\u001b[0;34m,\u001b[0m \u001b[0mDeviceSchema\u001b[0m\u001b[0;34m)\u001b[0m\u001b[0;34m\u001b[0m\u001b[0;34m\u001b[0m\u001b[0m\n\u001b[1;32m    221\u001b[0m         \u001b[0;32melse\u001b[0m\u001b[0;34m:\u001b[0m\u001b[0;34m\u001b[0m\u001b[0;34m\u001b[0m\u001b[0m\n",
      "\u001b[0;32m/Library/Frameworks/Python.framework/Versions/3.6/lib/python3.6/site-packages/requests/models.py\u001b[0m in \u001b[0;36mraise_for_status\u001b[0;34m(self)\u001b[0m\n\u001b[1;32m    933\u001b[0m \u001b[0;34m\u001b[0m\u001b[0m\n\u001b[1;32m    934\u001b[0m         \u001b[0;32mif\u001b[0m \u001b[0mhttp_error_msg\u001b[0m\u001b[0;34m:\u001b[0m\u001b[0;34m\u001b[0m\u001b[0;34m\u001b[0m\u001b[0m\n\u001b[0;32m--> 935\u001b[0;31m             \u001b[0;32mraise\u001b[0m \u001b[0mHTTPError\u001b[0m\u001b[0;34m(\u001b[0m\u001b[0mhttp_error_msg\u001b[0m\u001b[0;34m,\u001b[0m \u001b[0mresponse\u001b[0m\u001b[0;34m=\u001b[0m\u001b[0mself\u001b[0m\u001b[0;34m)\u001b[0m\u001b[0;34m\u001b[0m\u001b[0;34m\u001b[0m\u001b[0m\n\u001b[0m\u001b[1;32m    936\u001b[0m \u001b[0;34m\u001b[0m\u001b[0m\n\u001b[1;32m    937\u001b[0m     \u001b[0;32mdef\u001b[0m \u001b[0mclose\u001b[0m\u001b[0;34m(\u001b[0m\u001b[0mself\u001b[0m\u001b[0;34m)\u001b[0m\u001b[0;34m:\u001b[0m\u001b[0;34m\u001b[0m\u001b[0;34m\u001b[0m\u001b[0m\n",
      "\u001b[0;31mHTTPError\u001b[0m: 404 Client Error: NOT FOUND for url: https://10.209.7.33:8080/api/v1/device/demo"
     ]
    }
   ],
   "source": [
    "pprint(hb.device.get('demo', uncommitted=False))"
   ]
  },
  {
   "cell_type": "markdown",
   "metadata": {},
   "source": [
    "### Why we choose to go with Schema. We can easily access and edit any attribute. "
   ]
  },
  {
   "cell_type": "code",
   "execution_count": 26,
   "metadata": {},
   "outputs": [
    {
     "name": "stdout",
     "output_type": "stream",
     "text": [
      "None\n"
     ]
    }
   ],
   "source": [
    "# Existing system_id\n",
    "print (dev.system_id)"
   ]
  },
  {
   "cell_type": "code",
   "execution_count": 27,
   "metadata": {},
   "outputs": [],
   "source": [
    "# Editing system_id\n",
    "dev.system_id = \"Demo:HbEZ\""
   ]
  },
  {
   "cell_type": "code",
   "execution_count": 28,
   "metadata": {},
   "outputs": [
    {
     "name": "stdout",
     "output_type": "stream",
     "text": [
      "True\n"
     ]
    }
   ],
   "source": [
    "print(hb.device.update(dev))"
   ]
  },
  {
   "cell_type": "markdown",
   "metadata": {},
   "source": [
    "### HealthBot API provide commit and rollback config"
   ]
  },
  {
   "cell_type": "code",
   "execution_count": 29,
   "metadata": {},
   "outputs": [
    {
     "data": {
      "text/plain": [
       "True"
      ]
     },
     "execution_count": 29,
     "metadata": {},
     "output_type": "execute_result"
    }
   ],
   "source": [
    "hb.commit()"
   ]
  },
  {
   "cell_type": "code",
   "execution_count": 30,
   "metadata": {},
   "outputs": [
    {
     "name": "stdout",
     "output_type": "stream",
     "text": [
      "{'authentication': {'password': {'password': '$9$vDYWx-Vb2oZDwYDH.56/1IE',\n",
      "                                 'username': 'regress'}},\n",
      " 'description': None,\n",
      " 'device_id': 'demo',\n",
      " 'host': '10.221.136.140',\n",
      " 'i_agent': None,\n",
      " 'open_config': None,\n",
      " 'snmp': None,\n",
      " 'system_id': 'Demo:HbEZ',\n",
      " 'variable': None,\n",
      " 'vendor': None}\n"
     ]
    }
   ],
   "source": [
    "dev = hb.device.get('demo')\n",
    "pprint(dev)"
   ]
  },
  {
   "cell_type": "code",
   "execution_count": 31,
   "metadata": {},
   "outputs": [
    {
     "name": "stdout",
     "output_type": "stream",
     "text": [
      "Demo:HbEZ\n"
     ]
    }
   ],
   "source": [
    "print(dev.system_id)"
   ]
  },
  {
   "cell_type": "code",
   "execution_count": null,
   "metadata": {},
   "outputs": [],
   "source": [
    "# To delete a device\n",
    "hb.device.delete('demo')\n",
    "\n",
    "# if a device is part of device group, to make sure we delete it first from device group\n",
    "hb.device.delete('demo', force=True)"
   ]
  },
  {
   "cell_type": "markdown",
   "metadata": {},
   "source": [
    "# Use Case: Devices"
   ]
  },
  {
   "cell_type": "markdown",
   "metadata": {},
   "source": [
    "### Get details of all devices in System"
   ]
  },
  {
   "cell_type": "code",
   "execution_count": 32,
   "metadata": {},
   "outputs": [],
   "source": [
    "# Get config details of all the device\n",
    "obj = hb.device.get()"
   ]
  },
  {
   "cell_type": "code",
   "execution_count": 33,
   "metadata": {},
   "outputs": [
    {
     "data": {
      "text/plain": [
       "[{'authentication': {'password': {'password': '$9$fT3/CA01EStuSlvLVbZGD',\n",
       "                                  'username': 'regress'}},\n",
       "  'description': None,\n",
       "  'device_id': 'avro',\n",
       "  'host': '10.209.14.109',\n",
       "  'i_agent': None,\n",
       "  'open_config': {'port': 32767},\n",
       "  'snmp': None,\n",
       "  'system_id': None,\n",
       "  'variable': [],\n",
       "  'vendor': {'juniper': {'operating-system': 'junos'}}},\n",
       " {'authentication': {'password': {'password': '$9$48aUikqfQ3/.P/Au1yrx7-',\n",
       "                                  'username': 'regress'}},\n",
       "  'description': None,\n",
       "  'device_id': 'EVO',\n",
       "  'host': '10.216.131.209',\n",
       "  'i_agent': {'port': 830},\n",
       "  'open_config': {'port': 32767},\n",
       "  'snmp': None,\n",
       "  'system_id': None,\n",
       "  'variable': [],\n",
       "  'vendor': {'juniper': {'operating-system': 'junos'}}},\n",
       " {'authentication': {'password': {'password': '$9$tXQNu1EcSeML7yl7dwgUD5Tz',\n",
       "                                  'username': 'regress'}},\n",
       "  'description': None,\n",
       "  'device_id': 'vmx',\n",
       "  'host': '10.221.136.140',\n",
       "  'i_agent': {'port': 830},\n",
       "  'open_config': {'port': 32767},\n",
       "  'snmp': None,\n",
       "  'system_id': 'changed description',\n",
       "  'variable': [],\n",
       "  'vendor': {'juniper': {'operating-system': 'junos'}}},\n",
       " {'authentication': {'password': {'password': '$9$vDYWx-Vb2oZDwYDH.56/1IE',\n",
       "                                  'username': 'regress'}},\n",
       "  'description': None,\n",
       "  'device_id': 'demo',\n",
       "  'host': '10.221.136.140',\n",
       "  'i_agent': None,\n",
       "  'open_config': None,\n",
       "  'snmp': None,\n",
       "  'system_id': 'Demo:HbEZ',\n",
       "  'variable': None,\n",
       "  'vendor': None},\n",
       " {'authentication': {'password': {'password': '$9$w3YoZUDkm5zjHzn9pREMWL',\n",
       "                                  'username': 'regress'}},\n",
       "  'description': None,\n",
       "  'device_id': 'vmx_db',\n",
       "  'host': '10.221.132.104',\n",
       "  'i_agent': {'port': 830},\n",
       "  'open_config': {'port': 32767},\n",
       "  'snmp': None,\n",
       "  'system_id': None,\n",
       "  'variable': [],\n",
       "  'vendor': {'juniper': {'operating-system': 'junos'}}},\n",
       " {'authentication': {'password': {'password': '$9$jDHm5Qz6CpOFnOIhr8LsYg',\n",
       "                                  'username': 'regress'}},\n",
       "  'description': None,\n",
       "  'device_id': 'core_db',\n",
       "  'host': '10.209.1.205',\n",
       "  'i_agent': {'port': 830},\n",
       "  'open_config': {'port': 32767},\n",
       "  'snmp': None,\n",
       "  'system_id': None,\n",
       "  'variable': [],\n",
       "  'vendor': {'juniper': {'operating-system': 'junos'}}},\n",
       " {'authentication': {'password': {'password': '$9$Bd41clKvLNVYWLZUiHmP1RE',\n",
       "                                  'username': 'root'}},\n",
       "  'description': None,\n",
       "  'device_id': 'node1',\n",
       "  'host': 'node1',\n",
       "  'i_agent': None,\n",
       "  'open_config': {'port': 32767},\n",
       "  'snmp': None,\n",
       "  'system_id': None,\n",
       "  'variable': None,\n",
       "  'vendor': {'juniper': {'operating-system': 'junos'}}}]"
      ]
     },
     "execution_count": 33,
     "metadata": {},
     "output_type": "execute_result"
    }
   ],
   "source": [
    "obj"
   ]
  },
  {
   "cell_type": "markdown",
   "metadata": {},
   "source": [
    "### Get device facts for all the devices in HB"
   ]
  },
  {
   "cell_type": "code",
   "execution_count": 34,
   "metadata": {},
   "outputs": [
    {
     "name": "stdout",
     "output_type": "stream",
     "text": [
      "[{'device-id': 'avro', 'facts': {}},\n",
      " {'device-id': 'EVO',\n",
      "  'facts': {'fpc': [{'description': 'FPC-JNP10003-LOGICAL',\n",
      "                     'model-number': None,\n",
      "                     'name': 'FPC 1',\n",
      "                     'part-number': 'BUILTIN',\n",
      "                     'serial-number': 'BUILTIN',\n",
      "                     'version': None}],\n",
      "            'hostname': None,\n",
      "            'junos-info': [{'last-reboot-reason': 'Unknown',\n",
      "                            'mastership-state': 'Master',\n",
      "                            'model': 'Control Board',\n",
      "                            'name': 're0',\n",
      "                            'status': 'OK',\n",
      "                            'up-time': '0 second',\n",
      "                            'version-info': {'build': None,\n",
      "                                             'major': [19, 4],\n",
      "                                             'minor': ['20190731122440-EVO_soumikd'],\n",
      "                                             'type': 'I'}}],\n",
      "            'platform': 'PTX10003-160C',\n",
      "            'platform-info': [{'name': 're0', 'platform': 'PTX10003-160C'}],\n",
      "            'product': 'PTX',\n",
      "            'release': '19.4I20190731122440-EVO_soumikd',\n",
      "            'serial-number': 'JN0000000AJD'}},\n",
      " {'device-id': 'vmx',\n",
      "  'facts': {'fpc': [],\n",
      "            'hostname': 'R1_re0',\n",
      "            'junos-info': [{'last-reboot-reason': 'Router rebooted after a '\n",
      "                                                  'normal shutdown.',\n",
      "                            'mastership-state': 'master',\n",
      "                            'model': 'RE-VMX',\n",
      "                            'name': 're0',\n",
      "                            'status': 'OK',\n",
      "                            'up-time': '80 days, 1 hour, 20 minutes, 9 seconds',\n",
      "                            'version-info': {'build': '0',\n",
      "                                             'major': [19, 3],\n",
      "                                             'minor': ['20190421_dev_common'],\n",
      "                                             'type': 'I'}}],\n",
      "            'platform': 'MX960',\n",
      "            'platform-info': [{'name': 're0', 'platform': 'MX960'}],\n",
      "            'product': 'MX',\n",
      "            'release': '19.3-20190421_dev_common.0.84473',\n",
      "            'serial-number': 'VMX4eaf'}},\n",
      " {'device-id': 'demo',\n",
      "  'facts': {'fpc': [],\n",
      "            'hostname': 'R1_re0',\n",
      "            'junos-info': [{'last-reboot-reason': 'Router rebooted after a '\n",
      "                                                  'normal shutdown.',\n",
      "                            'mastership-state': 'master',\n",
      "                            'model': 'RE-VMX',\n",
      "                            'name': 're0',\n",
      "                            'status': 'OK',\n",
      "                            'up-time': '98 days, 38 minutes, 25 seconds',\n",
      "                            'version-info': {'build': '0',\n",
      "                                             'major': [19, 3],\n",
      "                                             'minor': ['20190421_dev_common'],\n",
      "                                             'type': 'I'}}],\n",
      "            'platform': 'MX960',\n",
      "            'platform-info': [{'name': 're0', 'platform': 'MX960'}],\n",
      "            'product': 'MX',\n",
      "            'release': '19.3-20190421_dev_common.0.84473',\n",
      "            'serial-number': 'VMX4eaf'}},\n",
      " {'device-id': 'vmx_db',\n",
      "  'facts': {'hostname': 'riad001-g',\n",
      "            'junos-info': [],\n",
      "            'platform': 'MX480',\n",
      "            'platform-info': [{'name': 're0', 'platform': 'MX480'}],\n",
      "            'product': None,\n",
      "            'release': '19.4I20190809_0730_madhus',\n",
      "            'serial-number': None}},\n",
      " {'device-id': 'core_db',\n",
      "  'facts': {'fpc': [{'description': 'MPC Type 2 3D',\n",
      "                     'model-number': 'MX-MPC2-3D',\n",
      "                     'name': 'FPC 1',\n",
      "                     'part-number': '750-031089',\n",
      "                     'serial-number': 'CACM1627',\n",
      "                     'version': 'REV 31'}],\n",
      "            'hostname': 'choc-mx480-b',\n",
      "            'junos-info': [{'last-reboot-reason': 'Router rebooted after a '\n",
      "                                                  'normal shutdown.',\n",
      "                            'mastership-state': 'master',\n",
      "                            'model': 'RE-S-2000',\n",
      "                            'name': 're0',\n",
      "                            'status': 'OK',\n",
      "                            'up-time': '5 hours, 27 minutes, 15 seconds',\n",
      "                            'version-info': {'build': None,\n",
      "                                             'major': [19, 4],\n",
      "                                             'minor': ['20190809_0730_madhus'],\n",
      "                                             'type': 'I'}},\n",
      "                           {'last-reboot-reason': '0x1:power cycle/failure',\n",
      "                            'mastership-state': 'backup',\n",
      "                            'model': 'RE-S-2000',\n",
      "                            'name': 're1',\n",
      "                            'status': 'OK',\n",
      "                            'up-time': '14 days, 22 hours, 34 minutes, 13 '\n",
      "                                       'seconds',\n",
      "                            'version-info': {'build': 7,\n",
      "                                             'major': [15, 1],\n",
      "                                             'minor': ['6'],\n",
      "                                             'type': 'R'}}],\n",
      "            'platform': 'MX480',\n",
      "            'platform-info': [{'name': 're0', 'platform': 'MX480'},\n",
      "                              {'name': 're1', 'platform': 'MX480'}],\n",
      "            'product': 'MX',\n",
      "            'release': '19.4I20190809_0730_madhus',\n",
      "            'serial-number': 'JN12317F2AFB'}},\n",
      " {'device-id': 'node1', 'facts': {}}]\n"
     ]
    }
   ],
   "source": [
    "pprint(hb.device.get_facts())"
   ]
  },
  {
   "cell_type": "markdown",
   "metadata": {},
   "source": [
    "### Add device group using DevicegroupSchema and APIs provided"
   ]
  },
  {
   "cell_type": "code",
   "execution_count": 35,
   "metadata": {},
   "outputs": [],
   "source": [
    "from jnpr.healthbot import DeviceGroupSchema"
   ]
  },
  {
   "cell_type": "code",
   "execution_count": 36,
   "metadata": {},
   "outputs": [],
   "source": [
    "dgs = DeviceGroupSchema(device_group_name=\"edge\", devices=['demo'])"
   ]
  },
  {
   "cell_type": "markdown",
   "metadata": {},
   "source": [
    "### We can also set any param/attribute after creating schema object"
   ]
  },
  {
   "cell_type": "code",
   "execution_count": 37,
   "metadata": {},
   "outputs": [],
   "source": [
    "dgs.description=\"All devices on the edge\""
   ]
  },
  {
   "cell_type": "markdown",
   "metadata": {},
   "source": [
    "### Now add device group using provided API"
   ]
  },
  {
   "cell_type": "code",
   "execution_count": 38,
   "metadata": {},
   "outputs": [
    {
     "name": "stdout",
     "output_type": "stream",
     "text": [
      "True\n"
     ]
    }
   ],
   "source": [
    "print(hb.device_group.add(dgs))"
   ]
  },
  {
   "cell_type": "markdown",
   "metadata": {},
   "source": [
    "### Let see whats the plus point of using Schema\n",
    "\n",
    "     1> Helps with any missing paramters\n",
    "     2> Checks for any rule associated with given params"
   ]
  },
  {
   "cell_type": "code",
   "execution_count": 39,
   "metadata": {},
   "outputs": [
    {
     "ename": "ValueError",
     "evalue": "Invalid value for `device_group_name`, must not be `None`",
     "output_type": "error",
     "traceback": [
      "\u001b[0;31m---------------------------------------------------------------------------\u001b[0m",
      "\u001b[0;31mValueError\u001b[0m                                Traceback (most recent call last)",
      "\u001b[0;32m<ipython-input-39-4d61d231fd38>\u001b[0m in \u001b[0;36m<module>\u001b[0;34m\u001b[0m\n\u001b[1;32m      1\u001b[0m \u001b[0;31m# Error for missing mandatory parameters\u001b[0m\u001b[0;34m\u001b[0m\u001b[0;34m\u001b[0m\u001b[0;34m\u001b[0m\u001b[0m\n\u001b[1;32m      2\u001b[0m \u001b[0;34m\u001b[0m\u001b[0m\n\u001b[0;32m----> 3\u001b[0;31m \u001b[0mdgs\u001b[0m \u001b[0;34m=\u001b[0m \u001b[0mDeviceGroupSchema\u001b[0m\u001b[0;34m(\u001b[0m\u001b[0;34m)\u001b[0m\u001b[0;34m\u001b[0m\u001b[0;34m\u001b[0m\u001b[0m\n\u001b[0m",
      "\u001b[0;32m~/Coding/git.juniper.net.iceberg/healthbot-py-client/lib/jnpr/healthbot/swagger/models/device_group_schema.py\u001b[0m in \u001b[0;36m__init__\u001b[0;34m(self, authentication, description, device_group_name, devices, logging, native_gpb, notification, playbooks, reports, retention_policy, variable)\u001b[0m\n\u001b[1;32m     85\u001b[0m         \u001b[0;32mif\u001b[0m \u001b[0mdescription\u001b[0m \u001b[0;32mis\u001b[0m \u001b[0;32mnot\u001b[0m \u001b[0;32mNone\u001b[0m\u001b[0;34m:\u001b[0m\u001b[0;34m\u001b[0m\u001b[0;34m\u001b[0m\u001b[0m\n\u001b[1;32m     86\u001b[0m             \u001b[0mself\u001b[0m\u001b[0;34m.\u001b[0m\u001b[0mdescription\u001b[0m \u001b[0;34m=\u001b[0m \u001b[0mdescription\u001b[0m\u001b[0;34m\u001b[0m\u001b[0;34m\u001b[0m\u001b[0m\n\u001b[0;32m---> 87\u001b[0;31m         \u001b[0mself\u001b[0m\u001b[0;34m.\u001b[0m\u001b[0mdevice_group_name\u001b[0m \u001b[0;34m=\u001b[0m \u001b[0mdevice_group_name\u001b[0m\u001b[0;34m\u001b[0m\u001b[0;34m\u001b[0m\u001b[0m\n\u001b[0m\u001b[1;32m     88\u001b[0m         \u001b[0;32mif\u001b[0m \u001b[0mdevices\u001b[0m \u001b[0;32mis\u001b[0m \u001b[0;32mnot\u001b[0m \u001b[0;32mNone\u001b[0m\u001b[0;34m:\u001b[0m\u001b[0;34m\u001b[0m\u001b[0;34m\u001b[0m\u001b[0m\n\u001b[1;32m     89\u001b[0m             \u001b[0mself\u001b[0m\u001b[0;34m.\u001b[0m\u001b[0mdevices\u001b[0m \u001b[0;34m=\u001b[0m \u001b[0mdevices\u001b[0m\u001b[0;34m\u001b[0m\u001b[0;34m\u001b[0m\u001b[0m\n",
      "\u001b[0;32m~/Coding/git.juniper.net.iceberg/healthbot-py-client/lib/jnpr/healthbot/swagger/models/device_group_schema.py\u001b[0m in \u001b[0;36mdevice_group_name\u001b[0;34m(self, device_group_name)\u001b[0m\n\u001b[1;32m    168\u001b[0m         \"\"\"\n\u001b[1;32m    169\u001b[0m         \u001b[0;32mif\u001b[0m \u001b[0mdevice_group_name\u001b[0m \u001b[0;32mis\u001b[0m \u001b[0;32mNone\u001b[0m\u001b[0;34m:\u001b[0m\u001b[0;34m\u001b[0m\u001b[0;34m\u001b[0m\u001b[0m\n\u001b[0;32m--> 170\u001b[0;31m             \u001b[0;32mraise\u001b[0m \u001b[0mValueError\u001b[0m\u001b[0;34m(\u001b[0m\u001b[0;34m\"Invalid value for `device_group_name`, must not be `None`\"\u001b[0m\u001b[0;34m)\u001b[0m  \u001b[0;31m# noqa: E501\u001b[0m\u001b[0;34m\u001b[0m\u001b[0;34m\u001b[0m\u001b[0m\n\u001b[0m\u001b[1;32m    171\u001b[0m         \u001b[0;32mif\u001b[0m \u001b[0mdevice_group_name\u001b[0m \u001b[0;32mis\u001b[0m \u001b[0;32mnot\u001b[0m \u001b[0;32mNone\u001b[0m \u001b[0;32mand\u001b[0m \u001b[0mlen\u001b[0m\u001b[0;34m(\u001b[0m\u001b[0mdevice_group_name\u001b[0m\u001b[0;34m)\u001b[0m \u001b[0;34m>\u001b[0m \u001b[0;36m64\u001b[0m\u001b[0;34m:\u001b[0m\u001b[0;34m\u001b[0m\u001b[0;34m\u001b[0m\u001b[0m\n\u001b[1;32m    172\u001b[0m             \u001b[0;32mraise\u001b[0m \u001b[0mValueError\u001b[0m\u001b[0;34m(\u001b[0m\u001b[0;34m\"Invalid value for `device_group_name`, length must be less than or equal to `64`\"\u001b[0m\u001b[0;34m)\u001b[0m  \u001b[0;31m# noqa: E501\u001b[0m\u001b[0;34m\u001b[0m\u001b[0;34m\u001b[0m\u001b[0m\n",
      "\u001b[0;31mValueError\u001b[0m: Invalid value for `device_group_name`, must not be `None`"
     ]
    }
   ],
   "source": [
    "# Error for missing mandatory parameters\n",
    "\n",
    "dgs = DeviceGroupSchema()"
   ]
  },
  {
   "cell_type": "code",
   "execution_count": 40,
   "metadata": {},
   "outputs": [
    {
     "ename": "ValueError",
     "evalue": "Invalid value for `device_group_name`, must be a follow pattern or equal to `/^[a-zA-Z][a-zA-Z0-9_-]*$/`",
     "output_type": "error",
     "traceback": [
      "\u001b[0;31m---------------------------------------------------------------------------\u001b[0m",
      "\u001b[0;31mValueError\u001b[0m                                Traceback (most recent call last)",
      "\u001b[0;32m<ipython-input-40-8617b5d8e365>\u001b[0m in \u001b[0;36m<module>\u001b[0;34m\u001b[0m\n\u001b[1;32m      1\u001b[0m \u001b[0;31m# Error for not following rule for give parameter\u001b[0m\u001b[0;34m\u001b[0m\u001b[0;34m\u001b[0m\u001b[0;34m\u001b[0m\u001b[0m\n\u001b[1;32m      2\u001b[0m \u001b[0;34m\u001b[0m\u001b[0m\n\u001b[0;32m----> 3\u001b[0;31m \u001b[0mdgs\u001b[0m \u001b[0;34m=\u001b[0m \u001b[0mDeviceGroupSchema\u001b[0m\u001b[0;34m(\u001b[0m\u001b[0mdevice_group_name\u001b[0m\u001b[0;34m=\u001b[0m\u001b[0;34m\"edge group\"\u001b[0m\u001b[0;34m)\u001b[0m\u001b[0;34m\u001b[0m\u001b[0;34m\u001b[0m\u001b[0m\n\u001b[0m",
      "\u001b[0;32m~/Coding/git.juniper.net.iceberg/healthbot-py-client/lib/jnpr/healthbot/swagger/models/device_group_schema.py\u001b[0m in \u001b[0;36m__init__\u001b[0;34m(self, authentication, description, device_group_name, devices, logging, native_gpb, notification, playbooks, reports, retention_policy, variable)\u001b[0m\n\u001b[1;32m     85\u001b[0m         \u001b[0;32mif\u001b[0m \u001b[0mdescription\u001b[0m \u001b[0;32mis\u001b[0m \u001b[0;32mnot\u001b[0m \u001b[0;32mNone\u001b[0m\u001b[0;34m:\u001b[0m\u001b[0;34m\u001b[0m\u001b[0;34m\u001b[0m\u001b[0m\n\u001b[1;32m     86\u001b[0m             \u001b[0mself\u001b[0m\u001b[0;34m.\u001b[0m\u001b[0mdescription\u001b[0m \u001b[0;34m=\u001b[0m \u001b[0mdescription\u001b[0m\u001b[0;34m\u001b[0m\u001b[0;34m\u001b[0m\u001b[0m\n\u001b[0;32m---> 87\u001b[0;31m         \u001b[0mself\u001b[0m\u001b[0;34m.\u001b[0m\u001b[0mdevice_group_name\u001b[0m \u001b[0;34m=\u001b[0m \u001b[0mdevice_group_name\u001b[0m\u001b[0;34m\u001b[0m\u001b[0;34m\u001b[0m\u001b[0m\n\u001b[0m\u001b[1;32m     88\u001b[0m         \u001b[0;32mif\u001b[0m \u001b[0mdevices\u001b[0m \u001b[0;32mis\u001b[0m \u001b[0;32mnot\u001b[0m \u001b[0;32mNone\u001b[0m\u001b[0;34m:\u001b[0m\u001b[0;34m\u001b[0m\u001b[0;34m\u001b[0m\u001b[0m\n\u001b[1;32m     89\u001b[0m             \u001b[0mself\u001b[0m\u001b[0;34m.\u001b[0m\u001b[0mdevices\u001b[0m \u001b[0;34m=\u001b[0m \u001b[0mdevices\u001b[0m\u001b[0;34m\u001b[0m\u001b[0;34m\u001b[0m\u001b[0m\n",
      "\u001b[0;32m~/Coding/git.juniper.net.iceberg/healthbot-py-client/lib/jnpr/healthbot/swagger/models/device_group_schema.py\u001b[0m in \u001b[0;36mdevice_group_name\u001b[0;34m(self, device_group_name)\u001b[0m\n\u001b[1;32m    172\u001b[0m             \u001b[0;32mraise\u001b[0m \u001b[0mValueError\u001b[0m\u001b[0;34m(\u001b[0m\u001b[0;34m\"Invalid value for `device_group_name`, length must be less than or equal to `64`\"\u001b[0m\u001b[0;34m)\u001b[0m  \u001b[0;31m# noqa: E501\u001b[0m\u001b[0;34m\u001b[0m\u001b[0;34m\u001b[0m\u001b[0m\n\u001b[1;32m    173\u001b[0m         \u001b[0;32mif\u001b[0m \u001b[0mdevice_group_name\u001b[0m \u001b[0;32mis\u001b[0m \u001b[0;32mnot\u001b[0m \u001b[0;32mNone\u001b[0m \u001b[0;32mand\u001b[0m \u001b[0;32mnot\u001b[0m \u001b[0mre\u001b[0m\u001b[0;34m.\u001b[0m\u001b[0msearch\u001b[0m\u001b[0;34m(\u001b[0m\u001b[0;34m'^[a-zA-Z][a-zA-Z0-9_-]*$'\u001b[0m\u001b[0;34m,\u001b[0m \u001b[0mdevice_group_name\u001b[0m\u001b[0;34m)\u001b[0m\u001b[0;34m:\u001b[0m  \u001b[0;31m# noqa: E501\u001b[0m\u001b[0;34m\u001b[0m\u001b[0;34m\u001b[0m\u001b[0m\n\u001b[0;32m--> 174\u001b[0;31m             \u001b[0;32mraise\u001b[0m \u001b[0mValueError\u001b[0m\u001b[0;34m(\u001b[0m\u001b[0;34m\"Invalid value for `device_group_name`, must be a follow pattern or equal to `/^[a-zA-Z][a-zA-Z0-9_-]*$/`\"\u001b[0m\u001b[0;34m)\u001b[0m  \u001b[0;31m# noqa: E501\u001b[0m\u001b[0;34m\u001b[0m\u001b[0;34m\u001b[0m\u001b[0m\n\u001b[0m\u001b[1;32m    175\u001b[0m \u001b[0;34m\u001b[0m\u001b[0m\n\u001b[1;32m    176\u001b[0m         \u001b[0mself\u001b[0m\u001b[0;34m.\u001b[0m\u001b[0m_device_group_name\u001b[0m \u001b[0;34m=\u001b[0m \u001b[0mdevice_group_name\u001b[0m\u001b[0;34m\u001b[0m\u001b[0;34m\u001b[0m\u001b[0m\n",
      "\u001b[0;31mValueError\u001b[0m: Invalid value for `device_group_name`, must be a follow pattern or equal to `/^[a-zA-Z][a-zA-Z0-9_-]*$/`"
     ]
    }
   ],
   "source": [
    "# Error for not following rule for give parameter\n",
    "\n",
    "dgs = DeviceGroupSchema(device_group_name=\"edge group\")"
   ]
  },
  {
   "cell_type": "code",
   "execution_count": 41,
   "metadata": {},
   "outputs": [],
   "source": [
    "# Now we are in compliance with rules\n",
    "\n",
    "dgs = DeviceGroupSchema(device_group_name=\"edge\")"
   ]
  },
  {
   "cell_type": "code",
   "execution_count": 42,
   "metadata": {},
   "outputs": [],
   "source": [
    "dgs.devices = ['demo']"
   ]
  },
  {
   "cell_type": "markdown",
   "metadata": {},
   "source": [
    "### We can also pass all Schema params to add_ APIs, internally it will use these params to create Schema"
   ]
  },
  {
   "cell_type": "code",
   "execution_count": 43,
   "metadata": {},
   "outputs": [
    {
     "name": "stdout",
     "output_type": "stream",
     "text": [
      "True\n"
     ]
    },
    {
     "data": {
      "text/plain": [
       "True"
      ]
     },
     "execution_count": 43,
     "metadata": {},
     "output_type": "execute_result"
    }
   ],
   "source": [
    "print(hb.device_group.add(device_group_name=\"edge\", description=\"All devices on the edge\", devices=['demo']))\n",
    "hb.commit()"
   ]
  },
  {
   "cell_type": "code",
   "execution_count": 44,
   "metadata": {},
   "outputs": [
    {
     "data": {
      "text/plain": [
       "{'authentication': None,\n",
       " 'description': None,\n",
       " 'device_group_name': 'real',\n",
       " 'devices': ['avro'],\n",
       " 'logging': None,\n",
       " 'native_gpb': None,\n",
       " 'notification': {},\n",
       " 'playbooks': ['phyport'],\n",
       " 'reports': [],\n",
       " 'retention_policy': None,\n",
       " 'variable': [{'@': {'changed-seconds': 1563348601},\n",
       "               'instance-id': 'ge-1-0-0',\n",
       "               'playbook': 'phyport',\n",
       "               'rule': 'external/interface-info',\n",
       "               'variable-value': [{'name': 'interface_name',\n",
       "                                   'value': 'ge-1/0/0'}]},\n",
       "              {'@': {'changed-seconds': 1563348601},\n",
       "               'instance-id': 'ge-1-0-1',\n",
       "               'playbook': 'phyport',\n",
       "               'rule': 'external/interface-info',\n",
       "               'variable-value': [{'name': 'interface_name',\n",
       "                                   'value': 'ge-1/0/1'}]}]}"
      ]
     },
     "execution_count": 44,
     "metadata": {},
     "output_type": "execute_result"
    }
   ],
   "source": [
    "# Get details for a given device group\n",
    "hb.device_group.get('real')"
   ]
  },
  {
   "cell_type": "code",
   "execution_count": 45,
   "metadata": {},
   "outputs": [
    {
     "name": "stderr",
     "output_type": "stream",
     "text": [
      "\n"
     ]
    },
    {
     "data": {
      "text/plain": [
       "True"
      ]
     },
     "execution_count": 45,
     "metadata": {},
     "output_type": "execute_result"
    }
   ],
   "source": [
    "hb.device_group.delete('edge', force=True)"
   ]
  },
  {
   "cell_type": "markdown",
   "metadata": {},
   "source": [
    "### Add an existing device to existing group"
   ]
  },
  {
   "cell_type": "code",
   "execution_count": 46,
   "metadata": {},
   "outputs": [
    {
     "data": {
      "text/plain": [
       "True"
      ]
     },
     "execution_count": 46,
     "metadata": {},
     "output_type": "execute_result"
    }
   ],
   "source": [
    "hb.device_group.add_device_in_group('vmx', 'edge')"
   ]
  },
  {
   "cell_type": "code",
   "execution_count": 48,
   "metadata": {},
   "outputs": [
    {
     "name": "stdout",
     "output_type": "stream",
     "text": [
      "{'authentication': None,\n",
      " 'description': 'All devices on the edge',\n",
      " 'device_group_name': 'edge',\n",
      " 'devices': ['vmx', 'demo'],\n",
      " 'logging': {'log-level': 'warn'},\n",
      " 'native_gpb': None,\n",
      " 'notification': {},\n",
      " 'playbooks': [],\n",
      " 'reports': [],\n",
      " 'retention_policy': None,\n",
      " 'variable': [{'@': {'changed-seconds': 1565668543},\n",
      "               'instance-id': 'HbEZ-instance',\n",
      "               'playbook': 'forwarding-table-summary',\n",
      "               'rule': 'protocol.routesummary/check-fib-summary'},\n",
      "              {'@': {'changed-seconds': 1565669467},\n",
      "               'instance-id': 'HbEZ-instance',\n",
      "               'playbook': 'icmp-probe',\n",
      "               'rule': 'protocol.icmp/check-icmp-statistics'}]}\n"
     ]
    }
   ],
   "source": [
    "obj = hb.device_group.get('edge')\n",
    "print (obj)"
   ]
  },
  {
   "cell_type": "code",
   "execution_count": 49,
   "metadata": {},
   "outputs": [
    {
     "data": {
      "text/plain": [
       "['vmx', 'demo']"
      ]
     },
     "execution_count": 49,
     "metadata": {},
     "output_type": "execute_result"
    }
   ],
   "source": [
    "obj.devices"
   ]
  },
  {
   "cell_type": "markdown",
   "metadata": {},
   "source": [
    "### Get details of all the device groups"
   ]
  },
  {
   "cell_type": "code",
   "execution_count": 51,
   "metadata": {},
   "outputs": [
    {
     "name": "stdout",
     "output_type": "stream",
     "text": [
      "[{'authentication': None,\n",
      " 'description': None,\n",
      " 'device_group_name': 'real',\n",
      " 'devices': ['avro'],\n",
      " 'logging': None,\n",
      " 'native_gpb': None,\n",
      " 'notification': {},\n",
      " 'playbooks': ['phyport'],\n",
      " 'reports': [],\n",
      " 'retention_policy': None,\n",
      " 'variable': [{'@': {'changed-seconds': 1563348601},\n",
      "               'instance-id': 'ge-1-0-0',\n",
      "               'playbook': 'phyport',\n",
      "               'rule': 'external/interface-info',\n",
      "               'variable-value': [{'name': 'interface_name',\n",
      "                                   'value': 'ge-1/0/0'}]},\n",
      "              {'@': {'changed-seconds': 1563348601},\n",
      "               'instance-id': 'ge-1-0-1',\n",
      "               'playbook': 'phyport',\n",
      "               'rule': 'external/interface-info',\n",
      "               'variable-value': [{'name': 'interface_name',\n",
      "                                   'value': 'ge-1/0/1'}]}]}, {'authentication': None,\n",
      " 'description': 'UBS Demo',\n",
      " 'device_group_name': 'QFabric',\n",
      " 'devices': ['node1'],\n",
      " 'logging': None,\n",
      " 'native_gpb': None,\n",
      " 'notification': {},\n",
      " 'playbooks': [],\n",
      " 'reports': [],\n",
      " 'retention_policy': None,\n",
      " 'variable': []}, {'authentication': {'password': {'password': '$9$6ORV9pO1IhyeMIEML7V4okqm',\n",
      "                                 'username': 'regress'}},\n",
      " 'description': None,\n",
      " 'device_group_name': 'EVO_CORE',\n",
      " 'devices': ['EVO'],\n",
      " 'logging': None,\n",
      " 'native_gpb': None,\n",
      " 'notification': {},\n",
      " 'playbooks': [],\n",
      " 'reports': [],\n",
      " 'retention_policy': None,\n",
      " 'variable': []}, {'authentication': {'password': {'password': '$9$XXy7Vs2gJUiq4aqPT3tpcSr',\n",
      "                                 'username': 'regress'}},\n",
      " 'description': None,\n",
      " 'device_group_name': 'vmx_db',\n",
      " 'devices': ['core_db'],\n",
      " 'logging': {'log-level': 'critical'},\n",
      " 'native_gpb': None,\n",
      " 'notification': {},\n",
      " 'playbooks': [],\n",
      " 'reports': [],\n",
      " 'retention_policy': None,\n",
      " 'variable': []}, {'authentication': None,\n",
      " 'description': 'All devices on the edge',\n",
      " 'device_group_name': 'edge',\n",
      " 'devices': ['vmx', 'demo'],\n",
      " 'logging': {'log-level': 'warn'},\n",
      " 'native_gpb': None,\n",
      " 'notification': {},\n",
      " 'playbooks': [],\n",
      " 'reports': [],\n",
      " 'retention_policy': None,\n",
      " 'variable': [{'@': {'changed-seconds': 1565668543},\n",
      "               'instance-id': 'HbEZ-instance',\n",
      "               'playbook': 'forwarding-table-summary',\n",
      "               'rule': 'protocol.routesummary/check-fib-summary'},\n",
      "              {'@': {'changed-seconds': 1565669467},\n",
      "               'instance-id': 'HbEZ-instance',\n",
      "               'playbook': 'icmp-probe',\n",
      "               'rule': 'protocol.icmp/check-icmp-statistics'}]}, {'authentication': None,\n",
      " 'description': 'learning',\n",
      " 'device_group_name': 'Core',\n",
      " 'devices': ['vmx'],\n",
      " 'logging': None,\n",
      " 'native_gpb': {'ports': [22000]},\n",
      " 'notification': {},\n",
      " 'playbooks': ['icmp-probe', 'rca-ospf-playbook'],\n",
      " 'reports': [],\n",
      " 'retention_policy': None,\n",
      " 'variable': [{'@': {'changed-seconds': 1564722219},\n",
      "               'instance-id': 'test1',\n",
      "               'playbook': 'rca-ospf-playbook',\n",
      "               'rule': 'interface.statistics/check-host-loopback-status',\n",
      "               'variable-value': []},\n",
      "              {'@': {'changed-seconds': 1564722219},\n",
      "               'instance-id': 'test1',\n",
      "               'playbook': 'rca-ospf-playbook',\n",
      "               'rule': 'linecard.fpc/check-fpc-memory',\n",
      "               'variable-value': []},\n",
      "              {'@': {'changed-seconds': 1564722219},\n",
      "               'instance-id': 'test1',\n",
      "               'playbook': 'rca-ospf-playbook',\n",
      "               'rule': 'linecard.ospf/check-ddos-statistics',\n",
      "               'variable-value': []},\n",
      "              {'@': {'changed-seconds': 1564722219},\n",
      "               'instance-id': 'test1',\n",
      "               'playbook': 'rca-ospf-playbook',\n",
      "               'rule': 'linecard.statistics/check-center-chip-host-path',\n",
      "               'variable-value': []},\n",
      "              {'@': {'changed-seconds': 1564722219},\n",
      "               'instance-id': 'test1',\n",
      "               'playbook': 'rca-ospf-playbook',\n",
      "               'rule': 'linecard.statistics/check-cm-error-table',\n",
      "               'variable-value': []},\n",
      "              {'@': {'changed-seconds': 1564722219},\n",
      "               'instance-id': 'test1',\n",
      "               'playbook': 'rca-ospf-playbook',\n",
      "               'rule': 'linecard.statistics/check-fpc-cpu-scheduler-info',\n",
      "               'variable-value': []},\n",
      "              {'@': {'changed-seconds': 1564722219},\n",
      "               'instance-id': 'test1',\n",
      "               'playbook': 'rca-ospf-playbook',\n",
      "               'rule': 'linecard.statistics/check-fpc-threads',\n",
      "               'variable-value': []},\n",
      "              {'@': {'changed-seconds': 1564722219},\n",
      "               'instance-id': 'test1',\n",
      "               'playbook': 'rca-ospf-playbook',\n",
      "               'rule': 'linecard.statistics/check-fpc-utilization-information',\n",
      "               'variable-value': []},\n",
      "              {'@': {'changed-seconds': 1564722219},\n",
      "               'instance-id': 'test1',\n",
      "               'playbook': 'rca-ospf-playbook',\n",
      "               'rule': 'linecard.statistics/check-ithrottle',\n",
      "               'variable-value': []},\n",
      "              {'@': {'changed-seconds': 1564722219},\n",
      "               'instance-id': 'test1',\n",
      "               'playbook': 'rca-ospf-playbook',\n",
      "               'rule': 'linecard.statistics/check-ithrottle-statistics',\n",
      "               'variable-value': []},\n",
      "              {'@': {'changed-seconds': 1564722219},\n",
      "               'instance-id': 'test1',\n",
      "               'playbook': 'rca-ospf-playbook',\n",
      "               'rule': 'linecard.statistics/check-jnh-exceptions',\n",
      "               'variable-value': []},\n",
      "              {'@': {'changed-seconds': 1564722219},\n",
      "               'instance-id': 'test1',\n",
      "               'playbook': 'rca-ospf-playbook',\n",
      "               'rule': 'linecard.statistics/check-jnh-interface-statistics',\n",
      "               'variable-value': []},\n",
      "              {'@': {'changed-seconds': 1564722219},\n",
      "               'instance-id': 'test1',\n",
      "               'playbook': 'rca-ospf-playbook',\n",
      "               'rule': 'linecard.statistics/check-linecard-ethernet-statistics',\n",
      "               'variable-value': []},\n",
      "              {'@': {'changed-seconds': 1564722219},\n",
      "               'instance-id': 'test1',\n",
      "               'playbook': 'rca-ospf-playbook',\n",
      "               'rule': 'linecard.statistics/check-pci-error-counters',\n",
      "               'variable-value': []},\n",
      "              {'@': {'changed-seconds': 1564722219},\n",
      "               'instance-id': 'test1',\n",
      "               'playbook': 'rca-ospf-playbook',\n",
      "               'rule': 'linecard.statistics/check-pfe-traffic-statistics',\n",
      "               'variable-value': []},\n",
      "              {'@': {'changed-seconds': 1564722219},\n",
      "               'instance-id': 'test1',\n",
      "               'playbook': 'rca-ospf-playbook',\n",
      "               'rule': 'linecard.statistics/check-pre-classifier-dropped-packets',\n",
      "               'variable-value': []},\n",
      "              {'@': {'changed-seconds': 1564722219},\n",
      "               'instance-id': 'test1',\n",
      "               'playbook': 'rca-ospf-playbook',\n",
      "               'rule': 'linecard.statistics/check-traffic-offload-engine-status',\n",
      "               'variable-value': []},\n",
      "              {'@': {'changed-seconds': 1564722219},\n",
      "               'instance-id': 'test1',\n",
      "               'playbook': 'rca-ospf-playbook',\n",
      "               'rule': 'protocol.infra/check-task-io-drops',\n",
      "               'variable-value': []},\n",
      "              {'@': {'changed-seconds': 1564722219},\n",
      "               'instance-id': 'test1',\n",
      "               'playbook': 'rca-ospf-playbook',\n",
      "               'rule': 'protocol.infra/check-task-memory-usage',\n",
      "               'variable-value': []},\n",
      "              {'@': {'changed-seconds': 1564722219},\n",
      "               'instance-id': 'test1',\n",
      "               'playbook': 'rca-ospf-playbook',\n",
      "               'rule': 'protocol.ospf/check-ospf-forwarding-table',\n",
      "               'variable-value': []},\n",
      "              {'@': {'changed-seconds': 1564722219},\n",
      "               'instance-id': 'test1',\n",
      "               'playbook': 'rca-ospf-playbook',\n",
      "               'rule': 'protocol.ospf/check-ospf-io-statistics-information',\n",
      "               'variable-value': []},\n",
      "              {'@': {'changed-seconds': 1564722219},\n",
      "               'instance-id': 'test1',\n",
      "               'playbook': 'rca-ospf-playbook',\n",
      "               'rule': 'protocol.ospf/check-ospf-neighbor-information',\n",
      "               'variable-value': []},\n",
      "              {'@': {'changed-seconds': 1564722219},\n",
      "               'instance-id': 'test1',\n",
      "               'playbook': 'rca-ospf-playbook',\n",
      "               'rule': 'protocol.ospf/check-ospf-statistics-information',\n",
      "               'variable-value': []},\n",
      "              {'@': {'changed-seconds': 1564722219},\n",
      "               'instance-id': 'test1',\n",
      "               'playbook': 'rca-ospf-playbook',\n",
      "               'rule': 'protocol.ospf/fpc-link-stats',\n",
      "               'variable-value': []},\n",
      "              {'@': {'changed-seconds': 1564722219},\n",
      "               'instance-id': 'test1',\n",
      "               'playbook': 'rca-ospf-playbook',\n",
      "               'rule': 'protocol.ospf/pfe-ddos-policer',\n",
      "               'variable-value': []},\n",
      "              {'@': {'changed-seconds': 1564722219},\n",
      "               'instance-id': 'test1',\n",
      "               'playbook': 'rca-ospf-playbook',\n",
      "               'rule': 'system.statistics/check-routing-engine-cpu-utilization',\n",
      "               'variable-value': []},\n",
      "              {'@': {'changed-seconds': 1564722219},\n",
      "               'instance-id': 'test1',\n",
      "               'playbook': 'rca-ospf-playbook',\n",
      "               'rule': 'system.statistics/check-system-input-queues',\n",
      "               'variable-value': []},\n",
      "              {'@': {'changed-seconds': 1564722219},\n",
      "               'instance-id': 'test1',\n",
      "               'playbook': 'rca-ospf-playbook',\n",
      "               'rule': 'system.statistics/check-system-output-queues',\n",
      "               'variable-value': []},\n",
      "              {'@': {'changed-seconds': 1564722219},\n",
      "               'instance-id': 'test1',\n",
      "               'playbook': 'rca-ospf-playbook',\n",
      "               'rule': 'system.statistics/check-system-statistics-ip',\n",
      "               'variable-value': []},\n",
      "              {'@': {'changed-seconds': 1564722219},\n",
      "               'instance-id': 'test1',\n",
      "               'playbook': 'rca-ospf-playbook',\n",
      "               'rule': 'system.statistics/check-system-storage-capacity',\n",
      "               'variable-value': []},\n",
      "              {'@': {'changed-seconds': 1564722219},\n",
      "               'instance-id': 'test1',\n",
      "               'playbook': 'rca-ospf-playbook',\n",
      "               'rule': 'system.statistics/check-system-virtual-memory-information',\n",
      "               'variable-value': []},\n",
      "              {'@': {'changed-seconds': 1564722219},\n",
      "               'instance-id': 'test1',\n",
      "               'playbook': 'rca-ospf-playbook',\n",
      "               'rule': 'system.statistics/check-version',\n",
      "               'variable-value': []},\n",
      "              {'@': {'changed-seconds': 1565263889},\n",
      "               'instance-id': 'set1',\n",
      "               'playbook': 'icmp-probe',\n",
      "               'rule': 'protocol.icmp/check-icmp-statistics',\n",
      "               'variable-value': [{'name': 'host-var', 'value': '10.221.11.11'},\n",
      "                                  {'name': 'count-var', 'value': '2'}]}]}]\n"
     ]
    }
   ],
   "source": [
    "print(hb.device_group.get())"
   ]
  },
  {
   "cell_type": "markdown",
   "metadata": {},
   "source": [
    "### We can also update any given device group"
   ]
  },
  {
   "cell_type": "code",
   "execution_count": 53,
   "metadata": {},
   "outputs": [
    {
     "name": "stdout",
     "output_type": "stream",
     "text": [
      "{'authentication': None,\n",
      " 'description': 'All devices on the edge',\n",
      " 'device_group_name': 'edge',\n",
      " 'devices': ['vmx', 'demo'],\n",
      " 'logging': {'log-level': 'warn'},\n",
      " 'native_gpb': None,\n",
      " 'notification': {},\n",
      " 'playbooks': [],\n",
      " 'reports': [],\n",
      " 'retention_policy': None,\n",
      " 'variable': [{'@': {'changed-seconds': 1565668543},\n",
      "               'instance-id': 'HbEZ-instance',\n",
      "               'playbook': 'forwarding-table-summary',\n",
      "               'rule': 'protocol.routesummary/check-fib-summary'},\n",
      "              {'@': {'changed-seconds': 1565669467},\n",
      "               'instance-id': 'HbEZ-instance',\n",
      "               'playbook': 'icmp-probe',\n",
      "               'rule': 'protocol.icmp/check-icmp-statistics'}]}\n"
     ]
    }
   ],
   "source": [
    "print(hb.device_group.get('edge'))"
   ]
  },
  {
   "cell_type": "code",
   "execution_count": 55,
   "metadata": {},
   "outputs": [
    {
     "data": {
      "text/plain": [
       "True"
      ]
     },
     "execution_count": 55,
     "metadata": {},
     "output_type": "execute_result"
    }
   ],
   "source": [
    "dgs = hb.device_group.get('edge')\n",
    "dgs.devices.append('vmx')\n",
    "hb.device_group.update(dgs)"
   ]
  },
  {
   "cell_type": "code",
   "execution_count": 57,
   "metadata": {},
   "outputs": [
    {
     "name": "stdout",
     "output_type": "stream",
     "text": [
      "{'authentication': None,\n",
      " 'description': 'All devices on the edge',\n",
      " 'device_group_name': 'edge',\n",
      " 'devices': ['vmx', 'demo'],\n",
      " 'logging': {'log-level': 'warn'},\n",
      " 'native_gpb': None,\n",
      " 'notification': {},\n",
      " 'playbooks': [],\n",
      " 'reports': [],\n",
      " 'retention_policy': None,\n",
      " 'variable': [{'@': {'changed-seconds': 1565668543},\n",
      "               'instance-id': 'HbEZ-instance',\n",
      "               'playbook': 'forwarding-table-summary',\n",
      "               'rule': 'protocol.routesummary/check-fib-summary'},\n",
      "              {'@': {'changed-seconds': 1565669467},\n",
      "               'instance-id': 'HbEZ-instance',\n",
      "               'playbook': 'icmp-probe',\n",
      "               'rule': 'protocol.icmp/check-icmp-statistics'}]}\n"
     ]
    }
   ],
   "source": [
    "# Check for devices list\n",
    "dgs = hb.device_group.get('edge')\n",
    "print(dgs)"
   ]
  },
  {
   "cell_type": "code",
   "execution_count": 59,
   "metadata": {},
   "outputs": [
    {
     "data": {
      "text/plain": [
       "True"
      ]
     },
     "execution_count": 59,
     "metadata": {},
     "output_type": "execute_result"
    }
   ],
   "source": [
    "dgs.devices = ['avro']\n",
    "hb.device_group.update(dgs)"
   ]
  },
  {
   "cell_type": "code",
   "execution_count": 60,
   "metadata": {},
   "outputs": [
    {
     "name": "stdout",
     "output_type": "stream",
     "text": [
      "{'authentication': None,\n",
      " 'description': 'All devices on the edge',\n",
      " 'device_group_name': 'edge',\n",
      " 'devices': ['avro'],\n",
      " 'logging': {'log-level': 'warn'},\n",
      " 'native_gpb': None,\n",
      " 'notification': {},\n",
      " 'playbooks': [],\n",
      " 'reports': [],\n",
      " 'retention_policy': None,\n",
      " 'variable': [{'@': {'changed-seconds': 1565668543},\n",
      "               'instance-id': 'HbEZ-instance',\n",
      "               'playbook': 'forwarding-table-summary',\n",
      "               'rule': 'protocol.routesummary/check-fib-summary'},\n",
      "              {'@': {'changed-seconds': 1565669467},\n",
      "               'instance-id': 'HbEZ-instance',\n",
      "               'playbook': 'icmp-probe',\n",
      "               'rule': 'protocol.icmp/check-icmp-statistics'}]}\n"
     ]
    }
   ],
   "source": [
    "dgs = hb.device_group.get('edge')\n",
    "print(dgs)"
   ]
  },
  {
   "cell_type": "code",
   "execution_count": 61,
   "metadata": {},
   "outputs": [
    {
     "name": "stdout",
     "output_type": "stream",
     "text": [
      "{'authentication': None,\n",
      " 'description': 'All devices on the edge',\n",
      " 'device_group_name': 'edge',\n",
      " 'devices': ['avro'],\n",
      " 'logging': {'log-level': 'warn'},\n",
      " 'native_gpb': None,\n",
      " 'notification': {},\n",
      " 'playbooks': [],\n",
      " 'reports': [],\n",
      " 'retention_policy': None,\n",
      " 'variable': [{'@': {'changed-seconds': 1565668543},\n",
      "               'instance-id': 'HbEZ-instance',\n",
      "               'playbook': 'forwarding-table-summary',\n",
      "               'rule': 'protocol.routesummary/check-fib-summary'},\n",
      "              {'@': {'changed-seconds': 1565669467},\n",
      "               'instance-id': 'HbEZ-instance',\n",
      "               'playbook': 'icmp-probe',\n",
      "               'rule': 'protocol.icmp/check-icmp-statistics'}]}\n"
     ]
    },
    {
     "data": {
      "text/plain": [
       "True"
      ]
     },
     "execution_count": 61,
     "metadata": {},
     "output_type": "execute_result"
    }
   ],
   "source": [
    "# can also update by passing Device Group Schema kwargs\n",
    "dgs = hb.device_group.get('edge')\n",
    "pprint(dgs)\n",
    "from jnpr.healthbot import DevicegroupSchemaLogging\n",
    "logSchema = DevicegroupSchemaLogging('warn')\n",
    "hb.device_group.update(device_group_name='edge', logging=logSchema)"
   ]
  },
  {
   "cell_type": "code",
   "execution_count": 62,
   "metadata": {},
   "outputs": [],
   "source": [
    "### Delete device and device group"
   ]
  },
  {
   "cell_type": "code",
   "execution_count": 64,
   "metadata": {},
   "outputs": [
    {
     "name": "stderr",
     "output_type": "stream",
     "text": [
      "\n"
     ]
    },
    {
     "data": {
      "text/plain": [
       "True"
      ]
     },
     "execution_count": 64,
     "metadata": {},
     "output_type": "execute_result"
    }
   ],
   "source": [
    "hb.device_group.delete('edge')\n"
   ]
  },
  {
   "cell_type": "code",
   "execution_count": 66,
   "metadata": {},
   "outputs": [
    {
     "data": {
      "text/plain": [
       "True"
      ]
     },
     "execution_count": 66,
     "metadata": {},
     "output_type": "execute_result"
    }
   ],
   "source": [
    "hb.device.delete('demo')"
   ]
  },
  {
   "cell_type": "code",
   "execution_count": 67,
   "metadata": {},
   "outputs": [
    {
     "data": {
      "text/plain": [
       "True"
      ]
     },
     "execution_count": 67,
     "metadata": {},
     "output_type": "execute_result"
    }
   ],
   "source": [
    "# Lets commit all the changes\n",
    "hb.commit()"
   ]
  },
  {
   "cell_type": "markdown",
   "metadata": {},
   "source": [
    "### Add Network Group"
   ]
  },
  {
   "cell_type": "code",
   "execution_count": 68,
   "metadata": {},
   "outputs": [
    {
     "data": {
      "text/plain": [
       "True"
      ]
     },
     "execution_count": 68,
     "metadata": {},
     "output_type": "execute_result"
    }
   ],
   "source": [
    "hb.network_group.add(network_group_name=\"HbEZ\")"
   ]
  },
  {
   "cell_type": "code",
   "execution_count": 69,
   "metadata": {},
   "outputs": [
    {
     "name": "stderr",
     "output_type": "stream",
     "text": [
      "\n"
     ]
    },
    {
     "name": "stdout",
     "output_type": "stream",
     "text": [
      "{'description': None,\n",
      " 'network_group_name': 'HbEZ',\n",
      " 'notification': {},\n",
      " 'playbooks': [],\n",
      " 'reports': [],\n",
      " 'variable': None}\n"
     ]
    },
    {
     "data": {
      "text/plain": [
       "True"
      ]
     },
     "execution_count": 69,
     "metadata": {},
     "output_type": "execute_result"
    }
   ],
   "source": [
    "print(hb.network_group.get(network_group_name=\"HbEZ\"))\n",
    "hb.network_group.delete(network_group_name=\"HbEZ\")"
   ]
  },
  {
   "cell_type": "markdown",
   "metadata": {},
   "source": [
    "### Add Network Group using Schema"
   ]
  },
  {
   "cell_type": "code",
   "execution_count": 70,
   "metadata": {},
   "outputs": [],
   "source": [
    "from jnpr.healthbot import NetworkGroupSchema"
   ]
  },
  {
   "cell_type": "code",
   "execution_count": 71,
   "metadata": {},
   "outputs": [],
   "source": [
    "ngs = NetworkGroupSchema(network_group_name=\"HbEZ\")"
   ]
  },
  {
   "cell_type": "code",
   "execution_count": 72,
   "metadata": {},
   "outputs": [
    {
     "data": {
      "text/plain": [
       "True"
      ]
     },
     "execution_count": 72,
     "metadata": {},
     "output_type": "execute_result"
    }
   ],
   "source": [
    "hb.network_group.add(ngs)"
   ]
  },
  {
   "cell_type": "code",
   "execution_count": 73,
   "metadata": {},
   "outputs": [
    {
     "data": {
      "text/plain": [
       "{'description': None,\n",
       " 'network_group_name': 'HbEZ',\n",
       " 'notification': {},\n",
       " 'playbooks': [],\n",
       " 'reports': [],\n",
       " 'variable': None}"
      ]
     },
     "execution_count": 73,
     "metadata": {},
     "output_type": "execute_result"
    }
   ],
   "source": [
    "hb.network_group.get(network_group_name=\"HbEZ\")"
   ]
  },
  {
   "cell_type": "markdown",
   "metadata": {},
   "source": [
    "# Use Case: Rules"
   ]
  },
  {
   "cell_type": "code",
   "execution_count": 75,
   "metadata": {},
   "outputs": [
    {
     "data": {
      "text/plain": [
       "{'description': 'Monitors ospf related distributed denial of service '\n",
       "                'statistics',\n",
       " 'field': [{'constant': {'value': '{{ddos-arrival-rate-threshold}}'},\n",
       "            'description': 'This field is for ddos arive rate threshold',\n",
       "            'field-name': 'ddos-arrival-rate-threshold'},\n",
       "           {'constant': {'value': '{{ddos-drop-count-threshold}}'},\n",
       "            'description': 'This field is for ddos drop count threshold',\n",
       "            'field-name': 'ddos-drop-count-threshold'},\n",
       "           {'constant': {'value': '{{ddos-drop-rate-threshold}}'},\n",
       "            'description': 'This field is for ddos drop rate threshold',\n",
       "            'field-name': 'ddos-drop-rate-threshold'}],\n",
       " 'function': None,\n",
       " 'keys': ['group-name', 'protocol-states-locale'],\n",
       " 'network_rule': None,\n",
       " 'rule_frequency': None,\n",
       " 'rule_name': 'check-ddos-statistics',\n",
       " 'rule_properties': {'catalogue': {'tier': '1'},\n",
       "                     'contributor': 'juniper',\n",
       "                     'helper-files': [{'file-type': 'other',\n",
       "                                       'list-of-files': ['ddos-statistics.yml']}],\n",
       "                     'supported-devices': {'juniper': {'operating-system': [{'os-name': 'junos',\n",
       "                                                                             'products': [{'product-name': 'ACX',\n",
       "                                                                                           'releases': [{'platform': ['All'],\n",
       "                                                                                                         'release-name': '15.2R1',\n",
       "                                                                                                         'release-support': 'min-supported-release'}]},\n",
       "                                                                                          {'product-name': 'EX',\n",
       "                                                                                           'releases': [{'platform': ['All'],\n",
       "                                                                                                         'release-name': '15.2R1',\n",
       "                                                                                                         'release-support': 'min-supported-release'}]},\n",
       "                                                                                          {'product-name': 'MX',\n",
       "                                                                                           'releases': [{'platform': ['All'],\n",
       "                                                                                                         'release-name': '15.2R1',\n",
       "                                                                                                         'release-support': 'min-supported-release'}]},\n",
       "                                                                                          {'product-name': 'PTX',\n",
       "                                                                                           'releases': [{'platform': ['All'],\n",
       "                                                                                                         'release-name': '15.2R1',\n",
       "                                                                                                         'release-support': 'min-supported-release'}]},\n",
       "                                                                                          {'product-name': 'QFX',\n",
       "                                                                                           'releases': [{'platform': ['All'],\n",
       "                                                                                                         'release-name': '15.2R1',\n",
       "                                                                                                         'release-support': 'min-supported-release'}]},\n",
       "                                                                                          {'product-name': 'SRX',\n",
       "                                                                                           'releases': [{'platform': ['All'],\n",
       "                                                                                                         'release-name': '15.2R1',\n",
       "                                                                                                         'release-support': 'min-supported-release'}]}]}]}},\n",
       "                     'supported-healthbot-version': '1.0.1',\n",
       "                     'version': 2},\n",
       " 'sensor': [{'description': 'Netconf rpc get-ddos-ospf-information iAgent '\n",
       "                            'sensor to collect telemetry data from network '\n",
       "                            'device',\n",
       "             'iAgent': {'file': 'ddos-statistics.yml',\n",
       "                        'frequency': '60s',\n",
       "                        'table': 'ddosStats'},\n",
       "             'sensor-name': 'ddosstats',\n",
       "             'synopsis': 'ddos statistics sensor definition'}],\n",
       " 'synopsis': 'OSPF distributed denial of service statistics analyzer',\n",
       " 'trigger': [{'description': 'Sets health based on DDOS packet drop rate',\n",
       "              'frequency': '60s',\n",
       "              'synopsis': 'DDOS packet drops kpi',\n",
       "              'term': [{'term-name': 'is-ddos-drops-increasing',\n",
       "                        'then': {'status': {'color': 'red',\n",
       "                                            'message': 'DDOS packet drops '\n",
       "                                                       '($dropped-packets) '\n",
       "                                                       'increasing'}},\n",
       "                        'when': {'min-rate-of-increase': [{'field-name': '$dropped-packets',\n",
       "                                                           'rate': '$ddos-drop-rate-threshold',\n",
       "                                                           'time-range': '5m'}]}},\n",
       "                       {'term-name': 'are-ddos-drops-over-threshold',\n",
       "                        'then': {'status': {'color': 'yellow',\n",
       "                                            'message': 'DDOS packet drops '\n",
       "                                                       '($dropped-packets) '\n",
       "                                                       'over threshold '\n",
       "                                                       '($ddos-drop-count-threshold)'}},\n",
       "                        'when': {'greater-than': [{'left-operand': '$dropped-packets',\n",
       "                                                   'right-operand': '$ddos-drop-count-threshold'}]}},\n",
       "                       {'term-name': 'ddos-drops-not-increasing',\n",
       "                        'then': {'status': {'color': 'green'}}}],\n",
       "              'trigger-name': 'ddos-drops'},\n",
       "             {'description': 'Sets health based on DDOS packet arrival rate',\n",
       "              'frequency': '60s',\n",
       "              'synopsis': 'DDOS packet arrival kpi',\n",
       "              'term': [{'term-name': 'is-max-packet-arrival-rate-greater-than-threshold',\n",
       "                        'then': {'status': {'color': 'yellow',\n",
       "                                            'message': 'DDOS packet max '\n",
       "                                                       'arrival rate is over '\n",
       "                                                       'threshold '\n",
       "                                                       '($ddos-arrival-rate-threshold)'}},\n",
       "                        'when': {'greater-than-or-equal-to': [{'left-operand': '$packet-arrival-rate-max',\n",
       "                                                               'right-operand': '$ddos-arrival-rate-threshold'}]}},\n",
       "                       {'term-name': 'max-packet-arrival-rate-less-than-threshold',\n",
       "                        'then': {'status': {'color': 'green'}}}],\n",
       "              'trigger-name': 'ddos-packet-arrival-rate'},\n",
       "             {'description': 'Sets health based on DDOS packet drop others',\n",
       "              'frequency': '60s',\n",
       "              'synopsis': 'DDOS packet drop other kpi',\n",
       "              'term': [{'term-name': 'is-ddos-packet-dropped-others-increasing',\n",
       "                        'then': {'status': {'color': 'red',\n",
       "                                            'message': 'DDOS packet dropped '\n",
       "                                                       'others '\n",
       "                                                       '($dropped-packets-others) '\n",
       "                                                       'increasing'}},\n",
       "                        'when': {'min-rate-of-increase': [{'field-name': '$dropped-packets-others',\n",
       "                                                           'rate': '$ddos-drop-rate-threshold',\n",
       "                                                           'time-range': '5m'}]}},\n",
       "                       {'term-name': 'is-ddos-packet-drop-others-over-threshold',\n",
       "                        'then': {'status': {'color': 'yellow',\n",
       "                                            'message': 'DDOS packet dropped '\n",
       "                                                       'others '\n",
       "                                                       '($dropped-packets-others) '\n",
       "                                                       'over threshold '\n",
       "                                                       '($ddos-drop-count-threshold)'}},\n",
       "                        'when': {'greater-than': [{'left-operand': '$dropped-packets-others',\n",
       "                                                   'right-operand': '$ddos-drop-count-threshold'}]}},\n",
       "                       {'term-name': 'ddos-packet-drop-others-not-increasing',\n",
       "                        'then': {'status': {'color': 'green'}}}],\n",
       "              'trigger-name': 'ddos-packet-dropped-others'}],\n",
       " 'variable': [{'description': 'DDOS arrival rate threshold value',\n",
       "               'name': 'ddos-arrival-rate-threshold',\n",
       "               'type': 'int',\n",
       "               'value': '1000'},\n",
       "              {'description': 'DDOS drop count threshold value',\n",
       "               'name': 'ddos-drop-count-threshold',\n",
       "               'type': 'int',\n",
       "               'value': '0'},\n",
       "              {'description': 'DDOS drop rate threshold value',\n",
       "               'name': 'ddos-drop-rate-threshold',\n",
       "               'type': 'int',\n",
       "               'value': '1'}],\n",
       " 'vector': None}"
      ]
     },
     "execution_count": 75,
     "metadata": {},
     "output_type": "execute_result"
    }
   ],
   "source": [
    "hb.rule.get('linecard.ospf', 'check-ddos-statistics')"
   ]
  },
  {
   "cell_type": "markdown",
   "metadata": {},
   "source": [
    "### Add new rule"
   ]
  },
  {
   "cell_type": "code",
   "execution_count": 76,
   "metadata": {},
   "outputs": [],
   "source": [
    "from jnpr.healthbot.modules.rules import RuleSchema\n",
    "rs = RuleSchema(rule_name=\"hbez-fpc-heap-utilization\")"
   ]
  },
  {
   "cell_type": "markdown",
   "metadata": {},
   "source": [
    "### setting rule schema params"
   ]
  },
  {
   "cell_type": "code",
   "execution_count": 77,
   "metadata": {},
   "outputs": [],
   "source": [
    "rs.description = \"HealthBot EZ example\"\n",
    "rs.synopsis = \"Using python client for demo\"\n",
    "rs.sensor = [{'description': 'Monitors FPC buffer, heap and cpu utilization',\n",
    "             'iAgent': {'file': 'fpc-utilization.yml',\n",
    "                        'frequency': '30s',\n",
    "                        'table': 'FPCCPUHEAPutilizationTable'},\n",
    "             'sensor_name': 'fpccpuheaputilization'}]"
   ]
  },
  {
   "cell_type": "code",
   "execution_count": 78,
   "metadata": {},
   "outputs": [],
   "source": [
    "rs.field = [{'constant': {'value': '{{fpc-buffer-usage-threshold}}'},\n",
    "            'description': 'This field is for buffer usage threshold',\n",
    "            'field_name': 'linecard-buffer-usage-threshold'},\n",
    "           {'constant': {'value': '{{fpc-cpu-usage-threshold}}'},\n",
    "            'description': 'This field is for linecard cpu usage threshold',\n",
    "            'field_name': 'linecard-cpu-usage-threshold'},\n",
    "           {'constant': {'value': '{{fpc-heap-usage-threshold}}'},\n",
    "            'description': 'This field is for linecard heap usage threshold',\n",
    "            'field_name': 'linecard-heap-usage-threshold'}]\n",
    "rs.keys = ['slot']"
   ]
  },
  {
   "cell_type": "code",
   "execution_count": 79,
   "metadata": {},
   "outputs": [],
   "source": [
    "rs.variable = [{'description': 'Linecard Buffer Memory usage threshold value',\n",
    "               'name': 'fpc-buffer-usage-threshold',\n",
    "               'type': 'int',\n",
    "               'value': '80'},\n",
    "              {'description': 'Linecard CPU usage threshold value',\n",
    "               'name': 'fpc-cpu-usage-threshold',\n",
    "               'type': 'int',\n",
    "               'value': '80'},\n",
    "              {'description': 'Linecard Heap Memory usage threshold value',\n",
    "               'name': 'fpc-heap-usage-threshold',\n",
    "               'type': 'int',\n",
    "               'value': '80'}]"
   ]
  },
  {
   "cell_type": "code",
   "execution_count": 80,
   "metadata": {},
   "outputs": [],
   "source": [
    "rs.trigger = [{'description': 'Sets health based on linecard buffer memory',\n",
    "              'frequency': '60s',\n",
    "              'synopsis': 'Linecard buffer memory kpi',\n",
    "              'term': [{'term_name': 'is-buffer-memory-utilization-greater-than-threshold',\n",
    "                        'then': {'status': {'color': 'red',\n",
    "                                            'message': 'FPC buffer memory '\n",
    "                                                       'utilization '\n",
    "                                                       '($memory-buffer-utilization) '\n",
    "                                                       'is over threshold '\n",
    "                                                       '($linecard-buffer-usage-threshold)'}},\n",
    "                        'when': {'greater_than': [{'left_operand': '$memory-buffer-utilization',\n",
    "                                                   'right_operand': '$linecard-buffer-usage-threshold'}]}},\n",
    "                       {'term_name': 'buffer-utilization-less-than-threshold',\n",
    "                        'then': {'status': {'color': 'green'}}}],\n",
    "              'trigger_name': 'fpc-buffer-memory-utilization'},\n",
    "             {'description': 'Sets health based on linecard cpu utilization',\n",
    "              'frequency': '60s',\n",
    "              'synopsis': 'Linecard cpu utilization kpi',\n",
    "              'term': [{'term_name': 'is-cpu-utilization-greater-than-80',\n",
    "                        'then': {'status': {'color': 'red',\n",
    "                                            'message': 'FPC CPU utilization '\n",
    "                                                       '($cpu-total) is over '\n",
    "                                                       'threshold '\n",
    "                                                       '($linecard-cpu-usage-threshold)'}},\n",
    "                        'when': {'greater_than': [{'left_operand': '$cpu-total',\n",
    "                                                   'right_operand': '$linecard-cpu-usage-threshold',\n",
    "                                                   'time_range': '180s'}]}},\n",
    "                       {'term_name': 'cpu-utilization-less-than-threshold',\n",
    "                        'then': {'status': {'color': 'green'}}}],\n",
    "              'trigger_name': 'fpc-cpu-utilization'},\n",
    "             {'description': 'Sets health based on linecard heap memory '\n",
    "                             'utilization',\n",
    "              'frequency': '60s',\n",
    "              'synopsis': 'Linecard heap memory kpi',\n",
    "              'term': [{'term_name': 'is-heap-memory-utilization-greater-than-threshold',\n",
    "                        'then': {'status': {'color': 'red',\n",
    "                                            'message': 'FPC heap memory '\n",
    "                                                       'utilization '\n",
    "                                                       '($memory-heap-utilization) '\n",
    "                                                       'is over threshold '\n",
    "                                                       '($linecard-heap-usage-threshold)'}},\n",
    "                        'when': {'greater_than': [{'left_operand': '$memory-heap-utilization',\n",
    "                                                   'right_operand': '$linecard-heap-usage-threshold'}]}},\n",
    "                       {'term_name': 'heap-memory-utilization-less-than-threshold',\n",
    "                        'then': {'status': {'color': 'green'}}}],\n",
    "              'trigger_name': 'fpc-heap-memory-utilization'}]"
   ]
  },
  {
   "cell_type": "markdown",
   "metadata": {},
   "source": [
    "### If the topic name is not present, first it will create given topic"
   ]
  },
  {
   "cell_type": "code",
   "execution_count": 81,
   "metadata": {},
   "outputs": [
    {
     "data": {
      "text/plain": [
       "True"
      ]
     },
     "execution_count": 81,
     "metadata": {},
     "output_type": "execute_result"
    }
   ],
   "source": [
    "hb.rule.add('hbez', schema=rs)"
   ]
  },
  {
   "cell_type": "code",
   "execution_count": 82,
   "metadata": {},
   "outputs": [],
   "source": [
    "# hb.rules.delete_rule(topic_name='external', rule_name=\"hbez-fpc-heap-utilization\")"
   ]
  },
  {
   "cell_type": "markdown",
   "metadata": {},
   "source": [
    "# Use Case: Playbooks"
   ]
  },
  {
   "cell_type": "code",
   "execution_count": 83,
   "metadata": {},
   "outputs": [
    {
     "name": "stdout",
     "output_type": "stream",
     "text": [
      "{'description': 'Playbook checks linecard health i.e. cpu, memory and CM '\n",
      "                'errors',\n",
      " 'playbook_name': 'linecard-kpis-playbook',\n",
      " 'rules': ['linecard.cm-events/check-cm-events',\n",
      "           'linecard.fpc/check-fpc-cpu',\n",
      "           'linecard.fpc/check-fpc-memory'],\n",
      " 'synopsis': 'Linecards key performance indicators'}\n"
     ]
    }
   ],
   "source": [
    "pprint(hb.playbook.get('linecard-kpis-playbook'))"
   ]
  },
  {
   "cell_type": "code",
   "execution_count": 84,
   "metadata": {},
   "outputs": [],
   "source": [
    "from jnpr.healthbot.modules.playbooks import PlaybookSchema"
   ]
  },
  {
   "cell_type": "code",
   "execution_count": 85,
   "metadata": {},
   "outputs": [],
   "source": [
    "pbs = PlaybookSchema(playbook_name=\"HbEZ-example\")"
   ]
  },
  {
   "cell_type": "code",
   "execution_count": 86,
   "metadata": {},
   "outputs": [],
   "source": [
    "pbs.description = \"HbEZ Demo Examples\"\n",
    "pbs.synopsis = 'fpc status'"
   ]
  },
  {
   "cell_type": "code",
   "execution_count": 87,
   "metadata": {},
   "outputs": [],
   "source": [
    "pbs.rules = ['hbez/hbez-fpc-heap-utilization']"
   ]
  },
  {
   "cell_type": "code",
   "execution_count": 88,
   "metadata": {},
   "outputs": [
    {
     "data": {
      "text/plain": [
       "True"
      ]
     },
     "execution_count": 88,
     "metadata": {},
     "output_type": "execute_result"
    }
   ],
   "source": [
    "hb.playbook.add(pbs)"
   ]
  },
  {
   "cell_type": "code",
   "execution_count": 89,
   "metadata": {},
   "outputs": [
    {
     "name": "stderr",
     "output_type": "stream",
     "text": [
      "\n"
     ]
    },
    {
     "data": {
      "text/plain": [
       "True"
      ]
     },
     "execution_count": 89,
     "metadata": {},
     "output_type": "execute_result"
    }
   ],
   "source": [
    "hb.playbook.delete(playbook_name=\"HbEZ-example\")"
   ]
  },
  {
   "cell_type": "markdown",
   "metadata": {},
   "source": [
    "# Use Case: Health"
   ]
  },
  {
   "cell_type": "code",
   "execution_count": 90,
   "metadata": {},
   "outputs": [
    {
     "name": "stdout",
     "output_type": "stream",
     "text": [
      "{'children': [{'children': [{'children': [], 'name': 'external'}],\n",
      "               'name': 'real'}],\n",
      " 'color': None,\n",
      " 'data': None,\n",
      " 'name': 'avro',\n",
      " 'timestamp': None}\n"
     ]
    }
   ],
   "source": [
    "pprint(hb.health.get_device_health('avro'))"
   ]
  },
  {
   "cell_type": "code",
   "execution_count": 91,
   "metadata": {},
   "outputs": [
    {
     "name": "stdout",
     "output_type": "stream",
     "text": [
      "{'children': [{'children': [{'children': [], 'name': 'external'}],\n",
      "               'name': 'avro'}],\n",
      " 'color': None,\n",
      " 'data': None,\n",
      " 'name': 'real',\n",
      " 'timestamp': None}\n"
     ]
    }
   ],
   "source": [
    "pprint(hb.health.get_device_group_health('real'))"
   ]
  },
  {
   "cell_type": "markdown",
   "metadata": {},
   "source": [
    "# Use Case: Database\n",
    "    This we might need to take it off"
   ]
  },
  {
   "cell_type": "code",
   "execution_count": 93,
   "metadata": {},
   "outputs": [
    {
     "name": "stdout",
     "output_type": "stream",
     "text": [
      "ResultSet({'('databases', None)': [{'name': 'health'}, {'name': '_internal'}, {'name': 'Core:vmx'}, {'name': 'real:avro'}, {'name': 'Core:demo'}, {'name': 'EVO_Core:EVO'}, {'name': 'EVO_CORE:EVO'}, {'name': 'vmx_db:vmx_db'}, {'name': 'vmx_db:core_db'}]})\n"
     ]
    }
   ],
   "source": [
    "print (hb.tsdb.query(\"show databases\"))"
   ]
  },
  {
   "cell_type": "code",
   "execution_count": 94,
   "metadata": {},
   "outputs": [
    {
     "name": "stdout",
     "output_type": "stream",
     "text": [
      "{'statement_id': 0}\n"
     ]
    }
   ],
   "source": [
    "obj = hb.tsdb.query('select * from \"protocol-eventd-host/check-host-traffic/packet-loss\" limit 10', database='Core:vmx')\n",
    "pprint(obj.raw)"
   ]
  },
  {
   "cell_type": "code",
   "execution_count": 95,
   "metadata": {},
   "outputs": [
    {
     "name": "stdout",
     "output_type": "stream",
     "text": [
      "2.0.1\n"
     ]
    }
   ],
   "source": [
    "print(hb.version)"
   ]
  },
  {
   "cell_type": "code",
   "execution_count": 96,
   "metadata": {},
   "outputs": [],
   "source": [
    "### Load any helper file"
   ]
  },
  {
   "cell_type": "code",
   "execution_count": null,
   "metadata": {},
   "outputs": [],
   "source": [
    "hb.upload_helper_file('/Users/nitinkr/xxx/xyz.rule')\n"
   ]
  },
  {
   "cell_type": "markdown",
   "metadata": {},
   "source": [
    "# Use Case: Notification"
   ]
  },
  {
   "cell_type": "code",
   "execution_count": 98,
   "metadata": {},
   "outputs": [
    {
     "data": {
      "text/plain": [
       "True"
      ]
     },
     "execution_count": 98,
     "metadata": {},
     "output_type": "execute_result"
    }
   ],
   "source": [
    "from jnpr.healthbot import NotificationSchema\n",
    "from jnpr.healthbot import NotificationSchemaSlack\n",
    "\n",
    "\n",
    "ns = NotificationSchema(notification_name='HbEZ-notification')\n",
    "ns.description = \"example of adding notification via API\"\n",
    "nss = NotificationSchemaSlack(channel=\"HbEZ\", url='http://testing')\n",
    "ns.slack = nss\n",
    "hb.settings.notification.add(ns)"
   ]
  },
  {
   "cell_type": "code",
   "execution_count": 99,
   "metadata": {},
   "outputs": [
    {
     "name": "stdout",
     "output_type": "stream",
     "text": [
      "[{'description': 'example of adding notification via API',\n",
      " 'http_post': None,\n",
      " 'kafka_publish': None,\n",
      " 'notification_name': 'HbEZ-notification',\n",
      " 'slack': {'channel': 'HbEZ', 'url': 'http://testing'}}]\n"
     ]
    }
   ],
   "source": [
    "print(hb.settings.notification.get())"
   ]
  },
  {
   "cell_type": "code",
   "execution_count": 100,
   "metadata": {},
   "outputs": [
    {
     "name": "stderr",
     "output_type": "stream",
     "text": [
      "\n"
     ]
    },
    {
     "name": "stdout",
     "output_type": "stream",
     "text": [
      "True\n"
     ]
    }
   ],
   "source": [
    "pprint(hb.settings.notification.delete('HbEZ-notification'))"
   ]
  },
  {
   "cell_type": "markdown",
   "metadata": {},
   "source": [
    "# Use Case: Settings"
   ]
  },
  {
   "cell_type": "code",
   "execution_count": 101,
   "metadata": {},
   "outputs": [
    {
     "data": {
      "text/plain": [
       "True"
      ]
     },
     "execution_count": 101,
     "metadata": {},
     "output_type": "execute_result"
    }
   ],
   "source": [
    "from jnpr.healthbot import RetentionPolicySchema\n",
    "\n",
    "rps = RetentionPolicySchema(retention_policy_name='HbEZ-testing')\n",
    "hb.settings.retention_policy.add(rps)"
   ]
  },
  {
   "cell_type": "code",
   "execution_count": 102,
   "metadata": {},
   "outputs": [
    {
     "name": "stdout",
     "output_type": "stream",
     "text": [
      "[{'duration': None, 'replication': None, 'retention_policy_name': 'HbEZ-testing'}, {'duration': None,\n",
      " 'replication': None,\n",
      " 'retention_policy_name': 'HbEZ-testing1'}, {'duration': None,\n",
      " 'replication': None,\n",
      " 'retention_policy_name': 'HbEZ-testing2'}]\n"
     ]
    }
   ],
   "source": [
    "print(hb.settings.retention_policy.get())"
   ]
  },
  {
   "cell_type": "code",
   "execution_count": 103,
   "metadata": {},
   "outputs": [
    {
     "data": {
      "text/plain": [
       "True"
      ]
     },
     "execution_count": 103,
     "metadata": {},
     "output_type": "execute_result"
    }
   ],
   "source": [
    "from jnpr.healthbot import SchedulerSchema\n",
    "sc = SchedulerSchema(name='HbEZ-schedule', repeat={'every': 'week'}, start_time=\"2019-07-22T05:32:23Z\")\n",
    "hb.settings.scheduler.add(sc)\n",
    "\n",
    "from jnpr.healthbot import DestinationSchema\n",
    "ds = DestinationSchema(name='HbEZ-destination', email={'id': 'nitinkr@juniper.net'})\n",
    "hb.settings.destination.add(ds)\n",
    "\n",
    "from jnpr.healthbot import ReportSchema\n",
    "rs = ReportSchema(name=\"HbEZ-report\", destination=['HbEZ-destination'], format=\"html\", schedule=[\"HbEZ-schedule\"])\n",
    "hb.settings.report.add(rs)"
   ]
  },
  {
   "cell_type": "markdown",
   "metadata": {},
   "source": [
    "# Use Case: PlayBook Instance"
   ]
  },
  {
   "cell_type": "code",
   "execution_count": 104,
   "metadata": {},
   "outputs": [
    {
     "data": {
      "text/plain": [
       "True"
      ]
     },
     "execution_count": 104,
     "metadata": {},
     "output_type": "execute_result"
    }
   ],
   "source": [
    "from jnpr.healthbot.modules.playbooks import PlayBookInstanceBuilder\n",
    "\n",
    "# case where we dont need to set any variable\n",
    "pbb = PlayBookInstanceBuilder(hb, 'forwarding-table-summary', 'HbEZ-instance', 'Core')\n",
    "pbb.apply()\n",
    "\n",
    "#hb.commit()"
   ]
  },
  {
   "cell_type": "markdown",
   "metadata": {},
   "source": [
    "### when we need to set any rule variable for given device/group in playbook instance"
   ]
  },
  {
   "cell_type": "code",
   "execution_count": 105,
   "metadata": {},
   "outputs": [
    {
     "data": {
      "text/plain": [
       "True"
      ]
     },
     "execution_count": 105,
     "metadata": {},
     "output_type": "execute_result"
    }
   ],
   "source": [
    "from jnpr.healthbot.modules.playbooks import PlayBookInstanceBuilder\n",
    "\n",
    "pbb = PlayBookInstanceBuilder(hb, 'forwarding-table-summary', 'HbEZ-instance', 'Core')\n",
    "\n",
    "variable = pbb.rule_variables[\"protocol.routesummary/check-fib-summary\"]\n",
    "\n",
    "\n",
    "variable.route_address_family = 'pqr'\n",
    "variable.route_count_threshold = 100\n",
    "\n",
    "# Apply variable to given device(s)\n",
    "pbb.apply(device_ids=['vmx'])\n",
    "\n",
    "#clear all the variable if you want to set it something else for group or other device(s)\n",
    "pbb.clear()\n",
    "\n",
    "variable = pbb.rule_variables[\"protocol.routesummary/check-fib-summary\"]\n",
    "variable.route_address_family = 'abc'\n",
    "variable.route_count_threshold = 200\n",
    "\n",
    "pbb.apply()\n",
    "\n",
    "#hb.commit()"
   ]
  },
  {
   "cell_type": "markdown",
   "metadata": {},
   "source": [
    "## Thanks"
   ]
  }
 ],
 "metadata": {
  "kernelspec": {
   "display_name": "Python 3",
   "language": "python",
   "name": "python3"
  },
  "language_info": {
   "codemirror_mode": {
    "name": "ipython",
    "version": 3
   },
   "file_extension": ".py",
   "mimetype": "text/x-python",
   "name": "python",
   "nbconvert_exporter": "python",
   "pygments_lexer": "ipython3",
   "version": "3.6.7"
  }
 },
 "nbformat": 4,
 "nbformat_minor": 2
}
